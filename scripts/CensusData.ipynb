{
 "cells": [
  {
   "cell_type": "markdown",
   "metadata": {},
   "source": [
    "# Census Data\n",
    "\n",
    "This notebook will pull any relevant Census tract/block data needed for the analysis"
   ]
  },
  {
   "cell_type": "code",
   "execution_count": 24,
   "metadata": {},
   "outputs": [],
   "source": [
    "import pandas as pd\n",
    "import numpy as np\n",
    "import requests"
   ]
  },
  {
   "cell_type": "code",
   "execution_count": 9,
   "metadata": {},
   "outputs": [],
   "source": [
    "#move to env\n",
    "API = 'ad7f76e225a87c968a278b2e788dc1d9df184dd2'"
   ]
  },
  {
   "cell_type": "code",
   "execution_count": 81,
   "metadata": {},
   "outputs": [],
   "source": [
    "#NY = 36\n",
    "#Queens = 081\n",
    "state_call = 'https://api.census.gov/data/2019/acs/acs5?get=NAME,B06011_001E&for=tract:*&in=county:081&in=state:36&key={}'.format(API)\n",
    "\n",
    "https://api.census.gov/data/2019/acs/acs5?get=NAME,B06011_001E&for=tract:*&in=county:081&in=state:36&key=ad7f76e225a87c968a278b2e788dc1d9df184dd2"
   ]
  },
  {
   "cell_type": "code",
   "execution_count": 82,
   "metadata": {},
   "outputs": [],
   "source": [
    "call_return = requests.get(state_call).json()\n",
    "temp_df = pd.DataFrame(call_return)\n",
    "temp_df.columns = temp_df.iloc[0]\n",
    "temp_df = temp_df.drop(temp_df.index[0])"
   ]
  },
  {
   "cell_type": "code",
   "execution_count": 83,
   "metadata": {},
   "outputs": [
    {
     "data": {
      "text/html": [
       "<div>\n",
       "<style scoped>\n",
       "    .dataframe tbody tr th:only-of-type {\n",
       "        vertical-align: middle;\n",
       "    }\n",
       "\n",
       "    .dataframe tbody tr th {\n",
       "        vertical-align: top;\n",
       "    }\n",
       "\n",
       "    .dataframe thead th {\n",
       "        text-align: right;\n",
       "    }\n",
       "</style>\n",
       "<table border=\"1\" class=\"dataframe\">\n",
       "  <thead>\n",
       "    <tr style=\"text-align: right;\">\n",
       "      <th></th>\n",
       "      <th>NAME</th>\n",
       "      <th>B06011_001E</th>\n",
       "      <th>state</th>\n",
       "      <th>county</th>\n",
       "      <th>tract</th>\n",
       "    </tr>\n",
       "  </thead>\n",
       "  <tbody>\n",
       "    <tr>\n",
       "      <th>1</th>\n",
       "      <td>Census Tract 361, Queens County, New York</td>\n",
       "      <td>25215</td>\n",
       "      <td>36</td>\n",
       "      <td>081</td>\n",
       "      <td>036100</td>\n",
       "    </tr>\n",
       "    <tr>\n",
       "      <th>2</th>\n",
       "      <td>Census Tract 363, Queens County, New York</td>\n",
       "      <td>27159</td>\n",
       "      <td>36</td>\n",
       "      <td>081</td>\n",
       "      <td>036300</td>\n",
       "    </tr>\n",
       "    <tr>\n",
       "      <th>3</th>\n",
       "      <td>Census Tract 371, Queens County, New York</td>\n",
       "      <td>35461</td>\n",
       "      <td>36</td>\n",
       "      <td>081</td>\n",
       "      <td>037100</td>\n",
       "    </tr>\n",
       "    <tr>\n",
       "      <th>4</th>\n",
       "      <td>Census Tract 377, Queens County, New York</td>\n",
       "      <td>26348</td>\n",
       "      <td>36</td>\n",
       "      <td>081</td>\n",
       "      <td>037700</td>\n",
       "    </tr>\n",
       "    <tr>\n",
       "      <th>5</th>\n",
       "      <td>Census Tract 379, Queens County, New York</td>\n",
       "      <td>25744</td>\n",
       "      <td>36</td>\n",
       "      <td>081</td>\n",
       "      <td>037900</td>\n",
       "    </tr>\n",
       "    <tr>\n",
       "      <th>...</th>\n",
       "      <td>...</td>\n",
       "      <td>...</td>\n",
       "      <td>...</td>\n",
       "      <td>...</td>\n",
       "      <td>...</td>\n",
       "    </tr>\n",
       "    <tr>\n",
       "      <th>665</th>\n",
       "      <td>Census Tract 660, Queens County, New York</td>\n",
       "      <td>26106</td>\n",
       "      <td>36</td>\n",
       "      <td>081</td>\n",
       "      <td>066000</td>\n",
       "    </tr>\n",
       "    <tr>\n",
       "      <th>666</th>\n",
       "      <td>Census Tract 683, Queens County, New York</td>\n",
       "      <td>30154</td>\n",
       "      <td>36</td>\n",
       "      <td>081</td>\n",
       "      <td>068300</td>\n",
       "    </tr>\n",
       "    <tr>\n",
       "      <th>667</th>\n",
       "      <td>Census Tract 716, Queens County, New York</td>\n",
       "      <td>-666666666</td>\n",
       "      <td>36</td>\n",
       "      <td>081</td>\n",
       "      <td>071600</td>\n",
       "    </tr>\n",
       "    <tr>\n",
       "      <th>668</th>\n",
       "      <td>Census Tract 240, Queens County, New York</td>\n",
       "      <td>24145</td>\n",
       "      <td>36</td>\n",
       "      <td>081</td>\n",
       "      <td>024000</td>\n",
       "    </tr>\n",
       "    <tr>\n",
       "      <th>669</th>\n",
       "      <td>Census Tract 246, Queens County, New York</td>\n",
       "      <td>-666666666</td>\n",
       "      <td>36</td>\n",
       "      <td>081</td>\n",
       "      <td>024600</td>\n",
       "    </tr>\n",
       "  </tbody>\n",
       "</table>\n",
       "<p>669 rows × 5 columns</p>\n",
       "</div>"
      ],
      "text/plain": [
       "0                                         NAME B06011_001E state county  \\\n",
       "1    Census Tract 361, Queens County, New York       25215    36    081   \n",
       "2    Census Tract 363, Queens County, New York       27159    36    081   \n",
       "3    Census Tract 371, Queens County, New York       35461    36    081   \n",
       "4    Census Tract 377, Queens County, New York       26348    36    081   \n",
       "5    Census Tract 379, Queens County, New York       25744    36    081   \n",
       "..                                         ...         ...   ...    ...   \n",
       "665  Census Tract 660, Queens County, New York       26106    36    081   \n",
       "666  Census Tract 683, Queens County, New York       30154    36    081   \n",
       "667  Census Tract 716, Queens County, New York  -666666666    36    081   \n",
       "668  Census Tract 240, Queens County, New York       24145    36    081   \n",
       "669  Census Tract 246, Queens County, New York  -666666666    36    081   \n",
       "\n",
       "0     tract  \n",
       "1    036100  \n",
       "2    036300  \n",
       "3    037100  \n",
       "4    037700  \n",
       "5    037900  \n",
       "..      ...  \n",
       "665  066000  \n",
       "666  068300  \n",
       "667  071600  \n",
       "668  024000  \n",
       "669  024600  \n",
       "\n",
       "[669 rows x 5 columns]"
      ]
     },
     "execution_count": 83,
     "metadata": {},
     "output_type": "execute_result"
    }
   ],
   "source": [
    "temp_df"
   ]
  }
 ],
 "metadata": {
  "interpreter": {
   "hash": "0f3667b3701f30fffe81770bf88c77a756c01e660d475531b2ce81d486f5960c"
  },
  "kernelspec": {
   "display_name": "Python 3.9.1 64-bit ('base': conda)",
   "name": "python3"
  },
  "language_info": {
   "codemirror_mode": {
    "name": "ipython",
    "version": 3
   },
   "file_extension": ".py",
   "mimetype": "text/x-python",
   "name": "python",
   "nbconvert_exporter": "python",
   "pygments_lexer": "ipython3",
   "version": "3.9.1"
  },
  "orig_nbformat": 4
 },
 "nbformat": 4,
 "nbformat_minor": 2
}
