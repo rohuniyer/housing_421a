{
 "cells": [
  {
   "cell_type": "markdown",
   "metadata": {},
   "source": [
    "# Scrape Property Tax Data (pre-2018)\n",
    "\n",
    "Using NYC Dept of Finance website, download property tax data for all buildings in Assembly District 36, under the 421A Tax Abatement program. \n",
    "\n",
    "Each Tax Class has a different property tax form so we will pull each tax class individually.\n",
    "\n",
    "Tax classes are:\n",
    "- 1\n",
    "- 2\n",
    "- 2A\n",
    "- 2B\n"
   ]
  },
  {
   "cell_type": "code",
   "execution_count": 23,
   "metadata": {},
   "outputs": [],
   "source": [
    "import pandas as pd\n",
    "from bs4 import BeautifulSoup\n",
    "import requests\n",
    "from urllib.request import urlopen\n",
    "from urllib.request import urlretrieve\n",
    "import json\n",
    "import tabula as tb\n",
    "from datetime import datetime\n",
    "import re"
   ]
  },
  {
   "cell_type": "markdown",
   "metadata": {},
   "source": [
    "## Tax Class 2"
   ]
  },
  {
   "cell_type": "markdown",
   "metadata": {},
   "source": [
    "### Read Building Data"
   ]
  },
  {
   "cell_type": "code",
   "execution_count": 24,
   "metadata": {},
   "outputs": [],
   "source": [
    "df_buildings = pd.read_csv(\"../data/created_data/ad36_421Properties_TaxClass2.csv\")\n",
    "df_buildings = df_buildings.astype({'BBL': 'str'})"
   ]
  },
  {
   "cell_type": "code",
   "execution_count": 25,
   "metadata": {},
   "outputs": [
    {
     "name": "stdout",
     "output_type": "stream",
     "text": [
      "Total Number of buildings under this class: 71\n"
     ]
    },
    {
     "data": {
      "text/html": [
       "<div>\n",
       "<style scoped>\n",
       "    .dataframe tbody tr th:only-of-type {\n",
       "        vertical-align: middle;\n",
       "    }\n",
       "\n",
       "    .dataframe tbody tr th {\n",
       "        vertical-align: top;\n",
       "    }\n",
       "\n",
       "    .dataframe thead th {\n",
       "        text-align: right;\n",
       "    }\n",
       "</style>\n",
       "<table border=\"1\" class=\"dataframe\">\n",
       "  <thead>\n",
       "    <tr style=\"text-align: right;\">\n",
       "      <th></th>\n",
       "      <th>Unnamed: 0</th>\n",
       "      <th>the_geom</th>\n",
       "      <th>bin</th>\n",
       "      <th>cnstrct_yr</th>\n",
       "      <th>lstmoddate</th>\n",
       "      <th>lststatype</th>\n",
       "      <th>doitt_id</th>\n",
       "      <th>heightroof</th>\n",
       "      <th>feat_code</th>\n",
       "      <th>groundelev</th>\n",
       "      <th>...</th>\n",
       "      <th>BUILDING CLASS</th>\n",
       "      <th>ADDRESS</th>\n",
       "      <th>ZIP CODE</th>\n",
       "      <th>RESIDENTIAL UNITS</th>\n",
       "      <th>COMMERCIAL UNITS</th>\n",
       "      <th>TOTAL UNITS</th>\n",
       "      <th>LAND SQUARE FEET</th>\n",
       "      <th>GROSS SQUARE FEET</th>\n",
       "      <th>YEAR BUILT</th>\n",
       "      <th>BBL</th>\n",
       "    </tr>\n",
       "  </thead>\n",
       "  <tbody>\n",
       "    <tr>\n",
       "      <th>0</th>\n",
       "      <td>0</td>\n",
       "      <td>{'type': 'MultiPolygon', 'coordinates': [[[[-7...</td>\n",
       "      <td>4006371</td>\n",
       "      <td>2009.0</td>\n",
       "      <td>2017-08-22T00:00:00.000Z</td>\n",
       "      <td>Constructed</td>\n",
       "      <td>1113607</td>\n",
       "      <td>100.194260</td>\n",
       "      <td>2100</td>\n",
       "      <td>10.0</td>\n",
       "      <td>...</td>\n",
       "      <td>D6</td>\n",
       "      <td>21-16 31 AVENUE</td>\n",
       "      <td>11106.0</td>\n",
       "      <td>32</td>\n",
       "      <td>1</td>\n",
       "      <td>33</td>\n",
       "      <td>8550</td>\n",
       "      <td>33500</td>\n",
       "      <td>2009</td>\n",
       "      <td>4005520022</td>\n",
       "    </tr>\n",
       "    <tr>\n",
       "      <th>1</th>\n",
       "      <td>7</td>\n",
       "      <td>{'type': 'MultiPolygon', 'coordinates': [[[[-7...</td>\n",
       "      <td>4005656</td>\n",
       "      <td>2008.0</td>\n",
       "      <td>2017-08-22T00:00:00.000Z</td>\n",
       "      <td>Constructed</td>\n",
       "      <td>1109509</td>\n",
       "      <td>53.890919</td>\n",
       "      <td>2100</td>\n",
       "      <td>10.0</td>\n",
       "      <td>...</td>\n",
       "      <td>D1</td>\n",
       "      <td>12-26 30 AVENUE</td>\n",
       "      <td>11102.0</td>\n",
       "      <td>37</td>\n",
       "      <td>0</td>\n",
       "      <td>37</td>\n",
       "      <td>13575</td>\n",
       "      <td>39745</td>\n",
       "      <td>2008</td>\n",
       "      <td>4005150031</td>\n",
       "    </tr>\n",
       "    <tr>\n",
       "      <th>2</th>\n",
       "      <td>11</td>\n",
       "      <td>{'type': 'MultiPolygon', 'coordinates': [[[[-7...</td>\n",
       "      <td>4005897</td>\n",
       "      <td>2010.0</td>\n",
       "      <td>2017-08-22T00:00:00.000Z</td>\n",
       "      <td>Constructed</td>\n",
       "      <td>1259711</td>\n",
       "      <td>63.000000</td>\n",
       "      <td>2100</td>\n",
       "      <td>11.0</td>\n",
       "      <td>...</td>\n",
       "      <td>D1</td>\n",
       "      <td>14-34 31 AVENUE</td>\n",
       "      <td>11106.0</td>\n",
       "      <td>14</td>\n",
       "      <td>0</td>\n",
       "      <td>14</td>\n",
       "      <td>4726</td>\n",
       "      <td>12945</td>\n",
       "      <td>2010</td>\n",
       "      <td>4005330037</td>\n",
       "    </tr>\n",
       "    <tr>\n",
       "      <th>3</th>\n",
       "      <td>14</td>\n",
       "      <td>{'type': 'MultiPolygon', 'coordinates': [[[[-7...</td>\n",
       "      <td>4019881</td>\n",
       "      <td>2008.0</td>\n",
       "      <td>2017-08-22T00:00:00.000Z</td>\n",
       "      <td>Constructed</td>\n",
       "      <td>1108121</td>\n",
       "      <td>59.000000</td>\n",
       "      <td>2100</td>\n",
       "      <td>30.0</td>\n",
       "      <td>...</td>\n",
       "      <td>D1</td>\n",
       "      <td>18-05 27 AVENUE</td>\n",
       "      <td>11102.0</td>\n",
       "      <td>11</td>\n",
       "      <td>0</td>\n",
       "      <td>11</td>\n",
       "      <td>2640</td>\n",
       "      <td>15900</td>\n",
       "      <td>2008</td>\n",
       "      <td>4008850016</td>\n",
       "    </tr>\n",
       "    <tr>\n",
       "      <th>4</th>\n",
       "      <td>15</td>\n",
       "      <td>{'type': 'MultiPolygon', 'coordinates': [[[[-7...</td>\n",
       "      <td>4540411</td>\n",
       "      <td>2012.0</td>\n",
       "      <td>2017-08-22T00:00:00.000Z</td>\n",
       "      <td>Constructed</td>\n",
       "      <td>1256175</td>\n",
       "      <td>64.000000</td>\n",
       "      <td>2100</td>\n",
       "      <td>15.0</td>\n",
       "      <td>...</td>\n",
       "      <td>D1</td>\n",
       "      <td>23-12 30 DRIVE</td>\n",
       "      <td>11102.0</td>\n",
       "      <td>20</td>\n",
       "      <td>0</td>\n",
       "      <td>20</td>\n",
       "      <td>7512</td>\n",
       "      <td>16000</td>\n",
       "      <td>2012</td>\n",
       "      <td>4005700030</td>\n",
       "    </tr>\n",
       "  </tbody>\n",
       "</table>\n",
       "<p>5 rows × 38 columns</p>\n",
       "</div>"
      ],
      "text/plain": [
       "   Unnamed: 0                                           the_geom      bin  \\\n",
       "0           0  {'type': 'MultiPolygon', 'coordinates': [[[[-7...  4006371   \n",
       "1           7  {'type': 'MultiPolygon', 'coordinates': [[[[-7...  4005656   \n",
       "2          11  {'type': 'MultiPolygon', 'coordinates': [[[[-7...  4005897   \n",
       "3          14  {'type': 'MultiPolygon', 'coordinates': [[[[-7...  4019881   \n",
       "4          15  {'type': 'MultiPolygon', 'coordinates': [[[[-7...  4540411   \n",
       "\n",
       "   cnstrct_yr                lstmoddate   lststatype  doitt_id  heightroof  \\\n",
       "0      2009.0  2017-08-22T00:00:00.000Z  Constructed   1113607  100.194260   \n",
       "1      2008.0  2017-08-22T00:00:00.000Z  Constructed   1109509   53.890919   \n",
       "2      2010.0  2017-08-22T00:00:00.000Z  Constructed   1259711   63.000000   \n",
       "3      2008.0  2017-08-22T00:00:00.000Z  Constructed   1108121   59.000000   \n",
       "4      2012.0  2017-08-22T00:00:00.000Z  Constructed   1256175   64.000000   \n",
       "\n",
       "   feat_code  groundelev  ...  BUILDING CLASS          ADDRESS  ZIP CODE  \\\n",
       "0       2100        10.0  ...              D6  21-16 31 AVENUE   11106.0   \n",
       "1       2100        10.0  ...              D1  12-26 30 AVENUE   11102.0   \n",
       "2       2100        11.0  ...              D1  14-34 31 AVENUE   11106.0   \n",
       "3       2100        30.0  ...              D1  18-05 27 AVENUE   11102.0   \n",
       "4       2100        15.0  ...              D1   23-12 30 DRIVE   11102.0   \n",
       "\n",
       "   RESIDENTIAL UNITS COMMERCIAL UNITS TOTAL UNITS  LAND SQUARE FEET  \\\n",
       "0                 32                1          33              8550   \n",
       "1                 37                0          37             13575   \n",
       "2                 14                0          14              4726   \n",
       "3                 11                0          11              2640   \n",
       "4                 20                0          20              7512   \n",
       "\n",
       "   GROSS SQUARE FEET  YEAR BUILT         BBL  \n",
       "0              33500        2009  4005520022  \n",
       "1              39745        2008  4005150031  \n",
       "2              12945        2010  4005330037  \n",
       "3              15900        2008  4008850016  \n",
       "4              16000        2012  4005700030  \n",
       "\n",
       "[5 rows x 38 columns]"
      ]
     },
     "execution_count": 25,
     "metadata": {},
     "output_type": "execute_result"
    }
   ],
   "source": [
    "print(\"Total Number of buildings under this class: {}\".format(df_buildings.shape[0]))\n",
    "df_buildings.head()"
   ]
  },
  {
   "cell_type": "code",
   "execution_count": 26,
   "metadata": {},
   "outputs": [],
   "source": [
    "#get BBL values into a list\n",
    "building_bbl_list = list(df_buildings['BBL'])"
   ]
  },
  {
   "cell_type": "markdown",
   "metadata": {},
   "source": [
    "### Extract Property Data\n",
    "\n",
    "For each BBL, we need to download the property tax PDF, then gather the requisite 421 data and save it into a list of Series(?). \n",
    "\n",
    "Eventually, combine into a single dataframe and merge with the buildings dataframe above. \n",
    "\n",
    "Link to download PDF: https://a836-edms.nyc.gov/dctm-rest/repositories/dofedmspts/StatementSearch?bbl=[BBL VALUE HERE]&stmtDate=20211120&stmtType=SOA "
   ]
  },
  {
   "cell_type": "code",
   "execution_count": 30,
   "metadata": {},
   "outputs": [],
   "source": [
    "#list to include all the rent stabilization data\n",
    "property_tax_list = []"
   ]
  },
  {
   "cell_type": "code",
   "execution_count": 31,
   "metadata": {},
   "outputs": [],
   "source": [
    "tax_dates = ['20180601', '20170602', '20160603']"
   ]
  },
  {
   "cell_type": "code",
   "execution_count": 32,
   "metadata": {},
   "outputs": [
    {
     "name": "stdout",
     "output_type": "stream",
     "text": [
      "BBL: 4005520022 Tax Date: 20180601\n"
     ]
    },
    {
     "name": "stderr",
     "output_type": "stream",
     "text": [
      "Error from tabula-java:\n",
      "Error: Error: End-of-File, expected line\n",
      "\n",
      "\n"
     ]
    },
    {
     "name": "stdout",
     "output_type": "stream",
     "text": [
      "Error in Tabula\n",
      "BBL: 4005150031 Tax Date: 20180601\n"
     ]
    },
    {
     "name": "stderr",
     "output_type": "stream",
     "text": [
      "Error from tabula-java:\n",
      "Error: Error: End-of-File, expected line\n",
      "\n",
      "\n"
     ]
    },
    {
     "name": "stdout",
     "output_type": "stream",
     "text": [
      "Error in Tabula\n",
      "BBL: 4005330037 Tax Date: 20180601\n"
     ]
    },
    {
     "name": "stderr",
     "output_type": "stream",
     "text": [
      "Error from tabula-java:\n",
      "Error: Error: End-of-File, expected line\n",
      "\n",
      "\n"
     ]
    },
    {
     "name": "stdout",
     "output_type": "stream",
     "text": [
      "Error in Tabula\n",
      "BBL: 4008850016 Tax Date: 20180601\n"
     ]
    },
    {
     "name": "stderr",
     "output_type": "stream",
     "text": [
      "Error from tabula-java:\n",
      "Error: Error: End-of-File, expected line\n",
      "\n",
      "\n"
     ]
    },
    {
     "name": "stdout",
     "output_type": "stream",
     "text": [
      "Error in Tabula\n",
      "BBL: 4005700030 Tax Date: 20180601\n",
      "Error in Tabula\n",
      "BBL: 4005520022 Tax Date: 20170602\n"
     ]
    },
    {
     "name": "stderr",
     "output_type": "stream",
     "text": [
      "Error from tabula-java:\n",
      "Error: Error: End-of-File, expected line\n",
      "\n",
      "\n"
     ]
    },
    {
     "name": "stdout",
     "output_type": "stream",
     "text": [
      "Error in Tabula\n",
      "BBL: 4005150031 Tax Date: 20170602\n"
     ]
    },
    {
     "name": "stderr",
     "output_type": "stream",
     "text": [
      "Error from tabula-java:\n",
      "Error: Error: End-of-File, expected line\n",
      "\n",
      "\n"
     ]
    },
    {
     "name": "stdout",
     "output_type": "stream",
     "text": [
      "Error in Tabula\n",
      "BBL: 4005330037 Tax Date: 20170602\n"
     ]
    },
    {
     "name": "stderr",
     "output_type": "stream",
     "text": [
      "Error from tabula-java:\n",
      "Error: Error: End-of-File, expected line\n",
      "\n",
      "\n"
     ]
    },
    {
     "name": "stdout",
     "output_type": "stream",
     "text": [
      "Error in Tabula\n",
      "BBL: 4008850016 Tax Date: 20170602\n"
     ]
    },
    {
     "name": "stderr",
     "output_type": "stream",
     "text": [
      "Error from tabula-java:\n",
      "Error: Error: End-of-File, expected line\n",
      "\n",
      "\n"
     ]
    },
    {
     "name": "stdout",
     "output_type": "stream",
     "text": [
      "Error in Tabula\n",
      "BBL: 4005700030 Tax Date: 20170602\n"
     ]
    },
    {
     "name": "stderr",
     "output_type": "stream",
     "text": [
      "Error from tabula-java:\n",
      "Error: Error: End-of-File, expected line\n",
      "\n",
      "\n"
     ]
    },
    {
     "name": "stdout",
     "output_type": "stream",
     "text": [
      "Error in Tabula\n",
      "BBL: 4005520022 Tax Date: 20160603\n"
     ]
    },
    {
     "name": "stderr",
     "output_type": "stream",
     "text": [
      "Error from tabula-java:\n",
      "Error: Error: End-of-File, expected line\n",
      "\n",
      "\n"
     ]
    },
    {
     "name": "stdout",
     "output_type": "stream",
     "text": [
      "Error in Tabula\n",
      "BBL: 4005150031 Tax Date: 20160603\n"
     ]
    },
    {
     "name": "stderr",
     "output_type": "stream",
     "text": [
      "Error from tabula-java:\n",
      "Error: Error: End-of-File, expected line\n",
      "\n",
      "\n"
     ]
    },
    {
     "name": "stdout",
     "output_type": "stream",
     "text": [
      "Error in Tabula\n",
      "BBL: 4005330037 Tax Date: 20160603\n"
     ]
    },
    {
     "name": "stderr",
     "output_type": "stream",
     "text": [
      "Error from tabula-java:\n",
      "Error: Error: End-of-File, expected line\n",
      "\n",
      "\n"
     ]
    },
    {
     "name": "stdout",
     "output_type": "stream",
     "text": [
      "Error in Tabula\n",
      "BBL: 4008850016 Tax Date: 20160603\n"
     ]
    },
    {
     "name": "stderr",
     "output_type": "stream",
     "text": [
      "Error from tabula-java:\n",
      "Error: Error: End-of-File, expected line\n",
      "\n",
      "\n"
     ]
    },
    {
     "name": "stdout",
     "output_type": "stream",
     "text": [
      "Error in Tabula\n",
      "BBL: 4005700030 Tax Date: 20160603\n"
     ]
    },
    {
     "name": "stderr",
     "output_type": "stream",
     "text": [
      "Error from tabula-java:\n",
      "Error: Error: End-of-File, expected line\n",
      "\n",
      "\n"
     ]
    },
    {
     "name": "stdout",
     "output_type": "stream",
     "text": [
      "Error in Tabula\n"
     ]
    }
   ],
   "source": [
    "#Full trial run\n",
    "\n",
    "# tax_form_date = '20211120'\n",
    "\n",
    "for tax_form_date in tax_dates:\n",
    "\n",
    "\n",
    "    for i in range(5):\n",
    "    # for i in range(len(building_bbl_list)):\n",
    "\n",
    "        print(\"BBL: {} Tax Date: {}\".format(building_bbl_list[i], tax_form_date))\n",
    "\n",
    "        #Download PDF \n",
    "        url_loc = \"https://a836-mspuvw-dofptsz.nyc.gov/PTSCM/StatementSearch?bbl={}&stmtDate={}&stmtType=SOA\".format(building_bbl_list[i], tax_form_date)\n",
    "\n",
    "        urlretrieve(url_loc, \"property_tax.pdf\")\n",
    "\n",
    "        #read second page into a dataframe\n",
    "        try:\n",
    "            file = 'property_tax.pdf'\n",
    "            df_pdf= tb.read_pdf(file, pages = '2', area = (50, 0, 1000, 1000), columns = [200, 305, 365, 455, 500])[0]\n",
    "            #Find Rent data and save into a new dataframe\n",
    "            try:\n",
    "                # index_to_find = df_pdf.loc[df_pdf['Unnamed: 0'] == 'Rent Stabilization'].index\n",
    "                # df_pdf.columns = df_pdf.iloc[index_to_find[0]]\n",
    "                # # df_pdf = df_pdf.loc[df_pdf['Rent Stabilization']]\n",
    "                # df_pdf = df_pdf.iloc[index_to_find[0]+1]\n",
    "                # df_list = df_pdf.to_list()\n",
    "                # df_list.append(str(building_bbl_list[i]))\n",
    "                # df_list.append(tax_form_date)\n",
    "                # final_df = pd.DataFrame(df_pdf).T\n",
    "                index_to_find = df_pdf.loc[df_pdf['Unnamed: 1'] == '# Apts'].index\n",
    "                df_pdf.columns = df_pdf.iloc[index_to_find[0]]\n",
    "                df_pdf = df_pdf.iloc[index_to_find[0]+1]\n",
    "                df_list = df_pdf.to_list()\n",
    "                df_list.append(str(building_bbl_list[i]))\n",
    "                df_list.append(tax_form_date)\n",
    "            except IndexError:\n",
    "                df_list = ['Rent Stabilization Fee - Chg', '0', 'NaN', 'nan', 'nan', '0', str(building_bbl_list[i]), tax_form_date]\n",
    "                print(\"No Rent Stabilized Units\")\n",
    "        except:\n",
    "            print(\"Error in Tabula\")\n",
    "\n",
    "\n",
    "\n",
    "        \n",
    "\n",
    "\n",
    "        property_tax_list.append(df_list)\n",
    "cols = ['Rent Stabilized', 'Units', 'Due Date', 'RS ID', 'To Drop', 'Total Charge', 'BBL', 'Date']\n",
    "final_df = pd.DataFrame(property_tax_list, columns=cols)\n",
    "# final_df['Date'] = tax_form_date\n"
   ]
  },
  {
   "cell_type": "code",
   "execution_count": null,
   "metadata": {},
   "outputs": [],
   "source": [
    "#merge with building data\n",
    "merged_data = df_buildings.merge(final_df, left_on='BBL', right_on='BBL', how = 'inner')"
   ]
  },
  {
   "cell_type": "code",
   "execution_count": null,
   "metadata": {},
   "outputs": [
    {
     "data": {
      "text/html": [
       "<div>\n",
       "<style scoped>\n",
       "    .dataframe tbody tr th:only-of-type {\n",
       "        vertical-align: middle;\n",
       "    }\n",
       "\n",
       "    .dataframe tbody tr th {\n",
       "        vertical-align: top;\n",
       "    }\n",
       "\n",
       "    .dataframe thead th {\n",
       "        text-align: right;\n",
       "    }\n",
       "</style>\n",
       "<table border=\"1\" class=\"dataframe\">\n",
       "  <thead>\n",
       "    <tr style=\"text-align: right;\">\n",
       "      <th></th>\n",
       "      <th>Unnamed: 0</th>\n",
       "      <th>the_geom</th>\n",
       "      <th>bin</th>\n",
       "      <th>cnstrct_yr</th>\n",
       "      <th>lstmoddate</th>\n",
       "      <th>lststatype</th>\n",
       "      <th>doitt_id</th>\n",
       "      <th>heightroof</th>\n",
       "      <th>feat_code</th>\n",
       "      <th>groundelev</th>\n",
       "      <th>...</th>\n",
       "      <th>GROSS SQUARE FEET</th>\n",
       "      <th>YEAR BUILT</th>\n",
       "      <th>BBL</th>\n",
       "      <th>Rent Stabilized</th>\n",
       "      <th>Units</th>\n",
       "      <th>Due Date</th>\n",
       "      <th>RS ID</th>\n",
       "      <th>To Drop</th>\n",
       "      <th>Total Charge</th>\n",
       "      <th>Date</th>\n",
       "    </tr>\n",
       "  </thead>\n",
       "  <tbody>\n",
       "    <tr>\n",
       "      <th>0</th>\n",
       "      <td>0</td>\n",
       "      <td>{'type': 'MultiPolygon', 'coordinates': [[[[-7...</td>\n",
       "      <td>4006371</td>\n",
       "      <td>2009.0</td>\n",
       "      <td>2017-08-22T00:00:00.000Z</td>\n",
       "      <td>Constructed</td>\n",
       "      <td>1113607</td>\n",
       "      <td>100.194260</td>\n",
       "      <td>2100</td>\n",
       "      <td>10.0</td>\n",
       "      <td>...</td>\n",
       "      <td>33500</td>\n",
       "      <td>2009</td>\n",
       "      <td>4005520022</td>\n",
       "      <td>Housing-Rent Stabilization</td>\n",
       "      <td>30</td>\n",
       "      <td>01/01/2019</td>\n",
       "      <td>041089700 08970</td>\n",
       "      <td>0</td>\n",
       "      <td>$300.00</td>\n",
       "      <td>20180601</td>\n",
       "    </tr>\n",
       "    <tr>\n",
       "      <th>1</th>\n",
       "      <td>7</td>\n",
       "      <td>{'type': 'MultiPolygon', 'coordinates': [[[[-7...</td>\n",
       "      <td>4005656</td>\n",
       "      <td>2008.0</td>\n",
       "      <td>2017-08-22T00:00:00.000Z</td>\n",
       "      <td>Constructed</td>\n",
       "      <td>1109509</td>\n",
       "      <td>53.890919</td>\n",
       "      <td>2100</td>\n",
       "      <td>10.0</td>\n",
       "      <td>...</td>\n",
       "      <td>39745</td>\n",
       "      <td>2008</td>\n",
       "      <td>4005150031</td>\n",
       "      <td>Rent Stabilization Fee - Chg</td>\n",
       "      <td>0</td>\n",
       "      <td>NaN</td>\n",
       "      <td>nan</td>\n",
       "      <td>nan</td>\n",
       "      <td>0</td>\n",
       "      <td>20180601</td>\n",
       "    </tr>\n",
       "    <tr>\n",
       "      <th>2</th>\n",
       "      <td>11</td>\n",
       "      <td>{'type': 'MultiPolygon', 'coordinates': [[[[-7...</td>\n",
       "      <td>4005897</td>\n",
       "      <td>2010.0</td>\n",
       "      <td>2017-08-22T00:00:00.000Z</td>\n",
       "      <td>Constructed</td>\n",
       "      <td>1259711</td>\n",
       "      <td>63.000000</td>\n",
       "      <td>2100</td>\n",
       "      <td>11.0</td>\n",
       "      <td>...</td>\n",
       "      <td>12945</td>\n",
       "      <td>2010</td>\n",
       "      <td>4005330037</td>\n",
       "      <td>Housing-Rent Stabilization</td>\n",
       "      <td>14</td>\n",
       "      <td>01/01/2019</td>\n",
       "      <td>043176000 17600</td>\n",
       "      <td>0</td>\n",
       "      <td>$140.00</td>\n",
       "      <td>20180601</td>\n",
       "    </tr>\n",
       "    <tr>\n",
       "      <th>3</th>\n",
       "      <td>14</td>\n",
       "      <td>{'type': 'MultiPolygon', 'coordinates': [[[[-7...</td>\n",
       "      <td>4019881</td>\n",
       "      <td>2008.0</td>\n",
       "      <td>2017-08-22T00:00:00.000Z</td>\n",
       "      <td>Constructed</td>\n",
       "      <td>1108121</td>\n",
       "      <td>59.000000</td>\n",
       "      <td>2100</td>\n",
       "      <td>30.0</td>\n",
       "      <td>...</td>\n",
       "      <td>15900</td>\n",
       "      <td>2008</td>\n",
       "      <td>4008850016</td>\n",
       "      <td>Housing-Rent Stabilization</td>\n",
       "      <td>11</td>\n",
       "      <td>01/01/2019</td>\n",
       "      <td>042862100 86210</td>\n",
       "      <td>0</td>\n",
       "      <td>$110.00</td>\n",
       "      <td>20180601</td>\n",
       "    </tr>\n",
       "    <tr>\n",
       "      <th>4</th>\n",
       "      <td>15</td>\n",
       "      <td>{'type': 'MultiPolygon', 'coordinates': [[[[-7...</td>\n",
       "      <td>4540411</td>\n",
       "      <td>2012.0</td>\n",
       "      <td>2017-08-22T00:00:00.000Z</td>\n",
       "      <td>Constructed</td>\n",
       "      <td>1256175</td>\n",
       "      <td>64.000000</td>\n",
       "      <td>2100</td>\n",
       "      <td>15.0</td>\n",
       "      <td>...</td>\n",
       "      <td>16000</td>\n",
       "      <td>2012</td>\n",
       "      <td>4005700030</td>\n",
       "      <td>Housing-Rent Stabilization</td>\n",
       "      <td>20</td>\n",
       "      <td>01/01/2019</td>\n",
       "      <td>043092400 09240</td>\n",
       "      <td>0</td>\n",
       "      <td>$200.00</td>\n",
       "      <td>20180601</td>\n",
       "    </tr>\n",
       "    <tr>\n",
       "      <th>5</th>\n",
       "      <td>16</td>\n",
       "      <td>{'type': 'MultiPolygon', 'coordinates': [[[[-7...</td>\n",
       "      <td>4616243</td>\n",
       "      <td>NaN</td>\n",
       "      <td>2017-09-14T00:00:00.000Z</td>\n",
       "      <td>Constructed</td>\n",
       "      <td>1268319</td>\n",
       "      <td>10.033600</td>\n",
       "      <td>5110</td>\n",
       "      <td>15.0</td>\n",
       "      <td>...</td>\n",
       "      <td>16000</td>\n",
       "      <td>2012</td>\n",
       "      <td>4005700030</td>\n",
       "      <td>Housing-Rent Stabilization</td>\n",
       "      <td>20</td>\n",
       "      <td>01/01/2019</td>\n",
       "      <td>043092400 09240</td>\n",
       "      <td>0</td>\n",
       "      <td>$200.00</td>\n",
       "      <td>20180601</td>\n",
       "    </tr>\n",
       "  </tbody>\n",
       "</table>\n",
       "<p>6 rows × 45 columns</p>\n",
       "</div>"
      ],
      "text/plain": [
       "   Unnamed: 0                                           the_geom      bin  \\\n",
       "0           0  {'type': 'MultiPolygon', 'coordinates': [[[[-7...  4006371   \n",
       "1           7  {'type': 'MultiPolygon', 'coordinates': [[[[-7...  4005656   \n",
       "2          11  {'type': 'MultiPolygon', 'coordinates': [[[[-7...  4005897   \n",
       "3          14  {'type': 'MultiPolygon', 'coordinates': [[[[-7...  4019881   \n",
       "4          15  {'type': 'MultiPolygon', 'coordinates': [[[[-7...  4540411   \n",
       "5          16  {'type': 'MultiPolygon', 'coordinates': [[[[-7...  4616243   \n",
       "\n",
       "   cnstrct_yr                lstmoddate   lststatype  doitt_id  heightroof  \\\n",
       "0      2009.0  2017-08-22T00:00:00.000Z  Constructed   1113607  100.194260   \n",
       "1      2008.0  2017-08-22T00:00:00.000Z  Constructed   1109509   53.890919   \n",
       "2      2010.0  2017-08-22T00:00:00.000Z  Constructed   1259711   63.000000   \n",
       "3      2008.0  2017-08-22T00:00:00.000Z  Constructed   1108121   59.000000   \n",
       "4      2012.0  2017-08-22T00:00:00.000Z  Constructed   1256175   64.000000   \n",
       "5         NaN  2017-09-14T00:00:00.000Z  Constructed   1268319   10.033600   \n",
       "\n",
       "   feat_code  groundelev  ...  GROSS SQUARE FEET  YEAR BUILT         BBL  \\\n",
       "0       2100        10.0  ...              33500        2009  4005520022   \n",
       "1       2100        10.0  ...              39745        2008  4005150031   \n",
       "2       2100        11.0  ...              12945        2010  4005330037   \n",
       "3       2100        30.0  ...              15900        2008  4008850016   \n",
       "4       2100        15.0  ...              16000        2012  4005700030   \n",
       "5       5110        15.0  ...              16000        2012  4005700030   \n",
       "\n",
       "                Rent Stabilized Units    Due Date            RS ID  To Drop  \\\n",
       "0    Housing-Rent Stabilization    30  01/01/2019  041089700 08970        0   \n",
       "1  Rent Stabilization Fee - Chg     0         NaN              nan      nan   \n",
       "2    Housing-Rent Stabilization    14  01/01/2019  043176000 17600        0   \n",
       "3    Housing-Rent Stabilization    11  01/01/2019  042862100 86210        0   \n",
       "4    Housing-Rent Stabilization    20  01/01/2019  043092400 09240        0   \n",
       "5    Housing-Rent Stabilization    20  01/01/2019  043092400 09240        0   \n",
       "\n",
       "   Total Charge      Date  \n",
       "0       $300.00  20180601  \n",
       "1             0  20180601  \n",
       "2       $140.00  20180601  \n",
       "3       $110.00  20180601  \n",
       "4       $200.00  20180601  \n",
       "5       $200.00  20180601  \n",
       "\n",
       "[6 rows x 45 columns]"
      ]
     },
     "execution_count": 19,
     "metadata": {},
     "output_type": "execute_result"
    }
   ],
   "source": [
    "merged_data"
   ]
  },
  {
   "cell_type": "code",
   "execution_count": null,
   "metadata": {},
   "outputs": [],
   "source": [
    "merged_data['Date'] = merged_data['Date'].apply(lambda x: datetime.strptime(x, '%Y%m%d'))\n",
    "merged_data['Year'] = merged_data['Date'].apply(lambda x: x.year)"
   ]
  },
  {
   "cell_type": "code",
   "execution_count": null,
   "metadata": {},
   "outputs": [
    {
     "name": "stderr",
     "output_type": "stream",
     "text": [
      "/Users/rohun/opt/miniconda3/lib/python3.9/site-packages/pandas/core/frame.py:4441: SettingWithCopyWarning: \n",
      "A value is trying to be set on a copy of a slice from a DataFrame\n",
      "\n",
      "See the caveats in the documentation: https://pandas.pydata.org/pandas-docs/stable/user_guide/indexing.html#returning-a-view-versus-a-copy\n",
      "  return super().rename(\n",
      "/Users/rohun/opt/miniconda3/lib/python3.9/site-packages/pandas/core/frame.py:4462: SettingWithCopyWarning: \n",
      "A value is trying to be set on a copy of a slice from a DataFrame\n",
      "\n",
      "See the caveats in the documentation: https://pandas.pydata.org/pandas-docs/stable/user_guide/indexing.html#returning-a-view-versus-a-copy\n",
      "  return super().fillna(\n",
      "<ipython-input-21-ccf36bde1964>:7: SettingWithCopyWarning: \n",
      "A value is trying to be set on a copy of a slice from a DataFrame.\n",
      "Try using .loc[row_indexer,col_indexer] = value instead\n",
      "\n",
      "See the caveats in the documentation: https://pandas.pydata.org/pandas-docs/stable/user_guide/indexing.html#returning-a-view-versus-a-copy\n",
      "  df_class2['cnstrct_yr'] = df_class2['cnstrct_yr'].astype(int)\n"
     ]
    }
   ],
   "source": [
    "df_class2 = merged_data[['the_geom', 'geomsource', 'cnstrct_yr', 'lstmoddate', 'lststatype', 'Latitude', 'Longitude',\n",
    "                         'AssemDist', 'BUILDING CLASS CATEGORY', 'BUILDING CLASS', 'ADDRESS', 'ZIP CODE', 'RESIDENTIAL UNITS',\n",
    "                         'COMMERCIAL UNITS', 'TOTAL UNITS', 'YEAR BUILT', 'BBL', 'Units', 'Total Charge', 'Date', 'Year']]\n",
    "df_class2.rename(columns={'Units': 'Rent Stabilized Units', 'Total Charge': 'Rent Stabilized Charges', 'Date': 'Tax Doc Date',\n",
    "                                'Year': 'Tax Doc Year'}, inplace = True)\n",
    "df_class2.fillna(0, inplace = True)\n",
    "df_class2['cnstrct_yr'] = df_class2['cnstrct_yr'].astype(int)\n",
    "df_pivot2 = df_class2.drop(['the_geom'], axis = 1)\n",
    "df_pivot2 = df_pivot2.sort_values('geomsource', ascending=False).drop_duplicates(subset=['ADDRESS', 'Tax Doc Year'])\n",
    "df_pivot2 = df_pivot2.pivot(index=['ADDRESS', 'Latitude', 'Longitude'], columns='Tax Doc Year', values='Rent Stabilized Units')\n",
    "df_pivot2.fillna(0, inplace=True)\n",
    "df_pivot2.to_csv('../data/created_data/taxClass2_pivotTable_ad36_pre2019.csv')"
   ]
  },
  {
   "cell_type": "code",
   "execution_count": 22,
   "metadata": {},
   "outputs": [],
   "source": [
    "merged_data.to_csv('../data/created_data/ad36_421Properties_TaxClass2_withTaxData_pre2019.csv')"
   ]
  },
  {
   "cell_type": "markdown",
   "metadata": {},
   "source": [
    "## Tax Class 2B"
   ]
  },
  {
   "cell_type": "markdown",
   "metadata": {},
   "source": [
    "### Read Building Data"
   ]
  },
  {
   "cell_type": "code",
   "execution_count": 22,
   "metadata": {},
   "outputs": [],
   "source": [
    "df_buildings = pd.read_csv(\"ad36_421Properties_TaxClass2B.csv\")\n",
    "df_buildings = df_buildings.astype({'BBL': 'str'})"
   ]
  },
  {
   "cell_type": "code",
   "execution_count": 23,
   "metadata": {},
   "outputs": [
    {
     "name": "stdout",
     "output_type": "stream",
     "text": [
      "Total Number of buildings under this class: 105\n"
     ]
    },
    {
     "data": {
      "text/html": [
       "<div>\n",
       "<style scoped>\n",
       "    .dataframe tbody tr th:only-of-type {\n",
       "        vertical-align: middle;\n",
       "    }\n",
       "\n",
       "    .dataframe tbody tr th {\n",
       "        vertical-align: top;\n",
       "    }\n",
       "\n",
       "    .dataframe thead th {\n",
       "        text-align: right;\n",
       "    }\n",
       "</style>\n",
       "<table border=\"1\" class=\"dataframe\">\n",
       "  <thead>\n",
       "    <tr style=\"text-align: right;\">\n",
       "      <th></th>\n",
       "      <th>Unnamed: 0</th>\n",
       "      <th>the_geom</th>\n",
       "      <th>bin</th>\n",
       "      <th>cnstrct_yr</th>\n",
       "      <th>lstmoddate</th>\n",
       "      <th>lststatype</th>\n",
       "      <th>doitt_id</th>\n",
       "      <th>heightroof</th>\n",
       "      <th>feat_code</th>\n",
       "      <th>groundelev</th>\n",
       "      <th>...</th>\n",
       "      <th>BUILDING CLASS</th>\n",
       "      <th>ADDRESS</th>\n",
       "      <th>ZIP CODE</th>\n",
       "      <th>RESIDENTIAL UNITS</th>\n",
       "      <th>COMMERCIAL UNITS</th>\n",
       "      <th>TOTAL UNITS</th>\n",
       "      <th>LAND SQUARE FEET</th>\n",
       "      <th>GROSS SQUARE FEET</th>\n",
       "      <th>YEAR BUILT</th>\n",
       "      <th>BBL</th>\n",
       "    </tr>\n",
       "  </thead>\n",
       "  <tbody>\n",
       "    <tr>\n",
       "      <th>0</th>\n",
       "      <td>1</td>\n",
       "      <td>{'type': 'MultiPolygon', 'coordinates': [[[[-7...</td>\n",
       "      <td>4594935</td>\n",
       "      <td>2009.0</td>\n",
       "      <td>2017-08-22T00:00:00.000Z</td>\n",
       "      <td>Constructed</td>\n",
       "      <td>1112303</td>\n",
       "      <td>54.768241</td>\n",
       "      <td>2100</td>\n",
       "      <td>35</td>\n",
       "      <td>...</td>\n",
       "      <td>C1</td>\n",
       "      <td>25-16 30 DRIVE</td>\n",
       "      <td>11102.0</td>\n",
       "      <td>8</td>\n",
       "      <td>0</td>\n",
       "      <td>8</td>\n",
       "      <td>3669</td>\n",
       "      <td>10976</td>\n",
       "      <td>2009</td>\n",
       "      <td>4005780026</td>\n",
       "    </tr>\n",
       "  </tbody>\n",
       "</table>\n",
       "<p>1 rows × 38 columns</p>\n",
       "</div>"
      ],
      "text/plain": [
       "   Unnamed: 0                                           the_geom      bin  \\\n",
       "0           1  {'type': 'MultiPolygon', 'coordinates': [[[[-7...  4594935   \n",
       "\n",
       "   cnstrct_yr                lstmoddate   lststatype  doitt_id  heightroof  \\\n",
       "0      2009.0  2017-08-22T00:00:00.000Z  Constructed   1112303   54.768241   \n",
       "\n",
       "   feat_code  groundelev  ...  BUILDING CLASS         ADDRESS  ZIP CODE  \\\n",
       "0       2100          35  ...              C1  25-16 30 DRIVE   11102.0   \n",
       "\n",
       "   RESIDENTIAL UNITS COMMERCIAL UNITS  TOTAL UNITS  LAND SQUARE FEET  \\\n",
       "0                  8                0            8              3669   \n",
       "\n",
       "   GROSS SQUARE FEET  YEAR BUILT         BBL  \n",
       "0              10976        2009  4005780026  \n",
       "\n",
       "[1 rows x 38 columns]"
      ]
     },
     "execution_count": 23,
     "metadata": {},
     "output_type": "execute_result"
    }
   ],
   "source": [
    "print(\"Total Number of buildings under this class: {}\".format(df_buildings.shape[0]))\n",
    "df_buildings.head(1)"
   ]
  },
  {
   "cell_type": "code",
   "execution_count": 24,
   "metadata": {},
   "outputs": [],
   "source": [
    "#get BBL values into a list\n",
    "building_bbl_list = list(df_buildings['BBL'])"
   ]
  },
  {
   "cell_type": "markdown",
   "metadata": {},
   "source": [
    "### Extract Property Data\n",
    "\n",
    "For each BBL, we need to download the property tax PDF, then gather the requisite 421 data and save it into a list of Series(?). \n",
    "\n",
    "Eventually, combine into a single dataframe and merge with the buildings dataframe above. \n",
    "\n",
    "Link to download PDF: https://a836-edms.nyc.gov/dctm-rest/repositories/dofedmspts/StatementSearch?bbl=[BBL VALUE HERE]&stmtDate=20211120&stmtType=SOA "
   ]
  },
  {
   "cell_type": "code",
   "execution_count": 25,
   "metadata": {},
   "outputs": [],
   "source": [
    "#list to include all the rent stabilization data\n",
    "property_tax_list = []"
   ]
  },
  {
   "cell_type": "code",
   "execution_count": 26,
   "metadata": {},
   "outputs": [],
   "source": [
    "tax_dates = ['20180601', '20170602', '20160603']"
   ]
  },
  {
   "cell_type": "code",
   "execution_count": 27,
   "metadata": {},
   "outputs": [
    {
     "name": "stdout",
     "output_type": "stream",
     "text": [
      "BBL: 4005780026 Tax Date: 20180601\n"
     ]
    },
    {
     "name": "stderr",
     "output_type": "stream",
     "text": [
      "Error from tabula-java:\n",
      "Error: Error: End-of-File, expected line\n",
      "\n",
      "\n"
     ]
    },
    {
     "name": "stdout",
     "output_type": "stream",
     "text": [
      "Error in Tabula\n",
      "BBL: 4006600024 Tax Date: 20180601\n"
     ]
    },
    {
     "name": "stderr",
     "output_type": "stream",
     "text": [
      "Error from tabula-java:\n",
      "Error: Error: End-of-File, expected line\n",
      "\n",
      "\n"
     ]
    },
    {
     "name": "stdout",
     "output_type": "stream",
     "text": [
      "Error in Tabula\n",
      "BBL: 4008610044 Tax Date: 20180601\n"
     ]
    },
    {
     "name": "stderr",
     "output_type": "stream",
     "text": [
      "Error from tabula-java:\n",
      "Error: Error: End-of-File, expected line\n",
      "\n",
      "\n"
     ]
    },
    {
     "name": "stdout",
     "output_type": "stream",
     "text": [
      "Error in Tabula\n",
      "BBL: 4005930011 Tax Date: 20180601\n"
     ]
    },
    {
     "name": "stderr",
     "output_type": "stream",
     "text": [
      "Error from tabula-java:\n",
      "Error: Error: End-of-File, expected line\n",
      "\n",
      "\n"
     ]
    },
    {
     "name": "stdout",
     "output_type": "stream",
     "text": [
      "Error in Tabula\n",
      "BBL: 4005940055 Tax Date: 20180601\n"
     ]
    },
    {
     "name": "stderr",
     "output_type": "stream",
     "text": [
      "Error from tabula-java:\n",
      "Error: Error: End-of-File, expected line\n",
      "\n",
      "\n"
     ]
    },
    {
     "name": "stdout",
     "output_type": "stream",
     "text": [
      "Error in Tabula\n",
      "BBL: 4006220019 Tax Date: 20180601\n"
     ]
    },
    {
     "name": "stderr",
     "output_type": "stream",
     "text": [
      "Error from tabula-java:\n",
      "Error: Error: End-of-File, expected line\n",
      "\n",
      "\n"
     ]
    },
    {
     "name": "stdout",
     "output_type": "stream",
     "text": [
      "Error in Tabula\n",
      "BBL: 4006220019 Tax Date: 20180601\n"
     ]
    },
    {
     "name": "stderr",
     "output_type": "stream",
     "text": [
      "Error from tabula-java:\n",
      "Error: Error: End-of-File, expected line\n",
      "\n",
      "\n"
     ]
    },
    {
     "name": "stdout",
     "output_type": "stream",
     "text": [
      "Error in Tabula\n",
      "BBL: 4005490036 Tax Date: 20180601\n"
     ]
    },
    {
     "name": "stderr",
     "output_type": "stream",
     "text": [
      "Error from tabula-java:\n",
      "Error: Error: End-of-File, expected line\n",
      "\n",
      "\n"
     ]
    },
    {
     "name": "stdout",
     "output_type": "stream",
     "text": [
      "Error in Tabula\n",
      "BBL: 4006530074 Tax Date: 20180601\n"
     ]
    },
    {
     "name": "stderr",
     "output_type": "stream",
     "text": [
      "Error from tabula-java:\n",
      "Error: Error: End-of-File, expected line\n",
      "\n",
      "\n"
     ]
    },
    {
     "name": "stdout",
     "output_type": "stream",
     "text": [
      "Error in Tabula\n",
      "BBL: 4008860030 Tax Date: 20180601\n"
     ]
    },
    {
     "name": "stderr",
     "output_type": "stream",
     "text": [
      "Error from tabula-java:\n",
      "Error: Error: End-of-File, expected line\n",
      "\n",
      "\n"
     ]
    },
    {
     "name": "stdout",
     "output_type": "stream",
     "text": [
      "Error in Tabula\n",
      "BBL: 4006530020 Tax Date: 20180601\n"
     ]
    },
    {
     "name": "stderr",
     "output_type": "stream",
     "text": [
      "Error from tabula-java:\n",
      "Error: Error: End-of-File, expected line\n",
      "\n",
      "\n"
     ]
    },
    {
     "name": "stdout",
     "output_type": "stream",
     "text": [
      "Error in Tabula\n",
      "BBL: 4007110004 Tax Date: 20180601\n"
     ]
    },
    {
     "name": "stderr",
     "output_type": "stream",
     "text": [
      "Error from tabula-java:\n",
      "Error: Error: End-of-File, expected line\n",
      "\n",
      "\n"
     ]
    },
    {
     "name": "stdout",
     "output_type": "stream",
     "text": [
      "Error in Tabula\n",
      "BBL: 4006500069 Tax Date: 20180601\n"
     ]
    },
    {
     "name": "stderr",
     "output_type": "stream",
     "text": [
      "Error from tabula-java:\n",
      "Error: Error: End-of-File, expected line\n",
      "\n",
      "\n"
     ]
    },
    {
     "name": "stdout",
     "output_type": "stream",
     "text": [
      "Error in Tabula\n",
      "BBL: 4006330051 Tax Date: 20180601\n"
     ]
    },
    {
     "name": "stderr",
     "output_type": "stream",
     "text": [
      "Error from tabula-java:\n",
      "Error: Error: End-of-File, expected line\n",
      "\n",
      "\n"
     ]
    },
    {
     "name": "stdout",
     "output_type": "stream",
     "text": [
      "Error in Tabula\n",
      "BBL: 4005970120 Tax Date: 20180601\n"
     ]
    },
    {
     "name": "stderr",
     "output_type": "stream",
     "text": [
      "Error from tabula-java:\n",
      "Error: Error: End-of-File, expected line\n",
      "\n",
      "\n"
     ]
    },
    {
     "name": "stdout",
     "output_type": "stream",
     "text": [
      "Error in Tabula\n",
      "BBL: 4008720012 Tax Date: 20180601\n"
     ]
    },
    {
     "name": "stderr",
     "output_type": "stream",
     "text": [
      "Error from tabula-java:\n",
      "Error: Error: End-of-File, expected line\n",
      "\n",
      "\n"
     ]
    },
    {
     "name": "stdout",
     "output_type": "stream",
     "text": [
      "Error in Tabula\n",
      "BBL: 4006300011 Tax Date: 20180601\n"
     ]
    },
    {
     "name": "stderr",
     "output_type": "stream",
     "text": [
      "Error from tabula-java:\n",
      "Error: Error: End-of-File, expected line\n",
      "\n",
      "\n"
     ]
    },
    {
     "name": "stdout",
     "output_type": "stream",
     "text": [
      "Error in Tabula\n",
      "BBL: 4005940029 Tax Date: 20180601\n"
     ]
    },
    {
     "name": "stderr",
     "output_type": "stream",
     "text": [
      "Error from tabula-java:\n",
      "Error: Error: End-of-File, expected line\n",
      "\n",
      "\n"
     ]
    },
    {
     "name": "stdout",
     "output_type": "stream",
     "text": [
      "Error in Tabula\n",
      "BBL: 4006330082 Tax Date: 20180601\n"
     ]
    },
    {
     "name": "stderr",
     "output_type": "stream",
     "text": [
      "Error from tabula-java:\n",
      "Error: Error: End-of-File, expected line\n",
      "\n",
      "\n"
     ]
    },
    {
     "name": "stdout",
     "output_type": "stream",
     "text": [
      "Error in Tabula\n",
      "BBL: 4005740036 Tax Date: 20180601\n"
     ]
    },
    {
     "name": "stderr",
     "output_type": "stream",
     "text": [
      "Error from tabula-java:\n",
      "Error: Error: End-of-File, expected line\n",
      "\n",
      "\n"
     ]
    },
    {
     "name": "stdout",
     "output_type": "stream",
     "text": [
      "Error in Tabula\n",
      "BBL: 4005740037 Tax Date: 20180601\n"
     ]
    },
    {
     "name": "stderr",
     "output_type": "stream",
     "text": [
      "Error from tabula-java:\n",
      "Error: Error: End-of-File, expected line\n",
      "\n",
      "\n"
     ]
    },
    {
     "name": "stdout",
     "output_type": "stream",
     "text": [
      "Error in Tabula\n",
      "BBL: 4005390007 Tax Date: 20180601\n"
     ]
    },
    {
     "name": "stderr",
     "output_type": "stream",
     "text": [
      "Error from tabula-java:\n",
      "Error: Error: End-of-File, expected line\n",
      "\n",
      "\n"
     ]
    },
    {
     "name": "stdout",
     "output_type": "stream",
     "text": [
      "Error in Tabula\n",
      "BBL: 4008920113 Tax Date: 20180601\n"
     ]
    },
    {
     "name": "stderr",
     "output_type": "stream",
     "text": [
      "Error from tabula-java:\n",
      "Error: Error: End-of-File, expected line\n",
      "\n",
      "\n"
     ]
    },
    {
     "name": "stdout",
     "output_type": "stream",
     "text": [
      "Error in Tabula\n",
      "BBL: 4008920113 Tax Date: 20180601\n"
     ]
    },
    {
     "name": "stderr",
     "output_type": "stream",
     "text": [
      "Error from tabula-java:\n",
      "Error: Error: End-of-File, expected line\n",
      "\n",
      "\n"
     ]
    },
    {
     "name": "stdout",
     "output_type": "stream",
     "text": [
      "Error in Tabula\n",
      "BBL: 4006540022 Tax Date: 20180601\n"
     ]
    },
    {
     "name": "stderr",
     "output_type": "stream",
     "text": [
      "Error from tabula-java:\n",
      "Error: Error: End-of-File, expected line\n",
      "\n",
      "\n"
     ]
    },
    {
     "name": "stdout",
     "output_type": "stream",
     "text": [
      "Error in Tabula\n",
      "BBL: 4006540022 Tax Date: 20180601\n"
     ]
    },
    {
     "name": "stderr",
     "output_type": "stream",
     "text": [
      "Error from tabula-java:\n",
      "Error: Error: End-of-File, expected line\n",
      "\n",
      "\n"
     ]
    },
    {
     "name": "stdout",
     "output_type": "stream",
     "text": [
      "Error in Tabula\n",
      "BBL: 4006550012 Tax Date: 20180601\n"
     ]
    },
    {
     "name": "stderr",
     "output_type": "stream",
     "text": [
      "Error from tabula-java:\n",
      "Error: Error: End-of-File, expected line\n",
      "\n",
      "\n"
     ]
    },
    {
     "name": "stdout",
     "output_type": "stream",
     "text": [
      "Error in Tabula\n",
      "BBL: 4005720030 Tax Date: 20180601\n"
     ]
    },
    {
     "name": "stderr",
     "output_type": "stream",
     "text": [
      "Error from tabula-java:\n",
      "Error: Error: End-of-File, expected line\n",
      "\n",
      "\n"
     ]
    },
    {
     "name": "stdout",
     "output_type": "stream",
     "text": [
      "Error in Tabula\n",
      "BBL: 4005770015 Tax Date: 20180601\n"
     ]
    },
    {
     "name": "stderr",
     "output_type": "stream",
     "text": [
      "Error from tabula-java:\n",
      "Error: Error: End-of-File, expected line\n",
      "\n",
      "\n"
     ]
    },
    {
     "name": "stdout",
     "output_type": "stream",
     "text": [
      "Error in Tabula\n",
      "BBL: 4005970127 Tax Date: 20180601\n"
     ]
    },
    {
     "name": "stderr",
     "output_type": "stream",
     "text": [
      "Error from tabula-java:\n",
      "Error: Error: End-of-File, expected line\n",
      "\n",
      "\n"
     ]
    },
    {
     "name": "stdout",
     "output_type": "stream",
     "text": [
      "Error in Tabula\n",
      "BBL: 4005970118 Tax Date: 20180601\n"
     ]
    },
    {
     "name": "stderr",
     "output_type": "stream",
     "text": [
      "Error from tabula-java:\n",
      "Error: Error: End-of-File, expected line\n",
      "\n",
      "\n"
     ]
    },
    {
     "name": "stdout",
     "output_type": "stream",
     "text": [
      "Error in Tabula\n",
      "BBL: 4005970119 Tax Date: 20180601\n"
     ]
    },
    {
     "name": "stderr",
     "output_type": "stream",
     "text": [
      "Error from tabula-java:\n",
      "Error: Error: End-of-File, expected line\n",
      "\n",
      "\n"
     ]
    },
    {
     "name": "stdout",
     "output_type": "stream",
     "text": [
      "Error in Tabula\n",
      "BBL: 4005970110 Tax Date: 20180601\n"
     ]
    },
    {
     "name": "stderr",
     "output_type": "stream",
     "text": [
      "Error from tabula-java:\n",
      "Error: Error: End-of-File, expected line\n",
      "\n",
      "\n"
     ]
    },
    {
     "name": "stdout",
     "output_type": "stream",
     "text": [
      "Error in Tabula\n",
      "BBL: 4005970111 Tax Date: 20180601\n"
     ]
    },
    {
     "name": "stderr",
     "output_type": "stream",
     "text": [
      "Error from tabula-java:\n",
      "Error: Error: End-of-File, expected line\n",
      "\n",
      "\n"
     ]
    },
    {
     "name": "stdout",
     "output_type": "stream",
     "text": [
      "Error in Tabula\n",
      "BBL: 4006160004 Tax Date: 20180601\n"
     ]
    },
    {
     "name": "stderr",
     "output_type": "stream",
     "text": [
      "Error from tabula-java:\n",
      "Error: Error: End-of-File, expected line\n",
      "\n",
      "\n"
     ]
    },
    {
     "name": "stdout",
     "output_type": "stream",
     "text": [
      "Error in Tabula\n",
      "BBL: 4006530090 Tax Date: 20180601\n"
     ]
    },
    {
     "name": "stderr",
     "output_type": "stream",
     "text": [
      "Error from tabula-java:\n",
      "Error: Error: End-of-File, expected line\n",
      "\n",
      "\n"
     ]
    },
    {
     "name": "stdout",
     "output_type": "stream",
     "text": [
      "Error in Tabula\n",
      "BBL: 4006530081 Tax Date: 20180601\n"
     ]
    },
    {
     "name": "stderr",
     "output_type": "stream",
     "text": [
      "Error from tabula-java:\n",
      "Error: Error: End-of-File, expected line\n",
      "\n",
      "\n"
     ]
    },
    {
     "name": "stdout",
     "output_type": "stream",
     "text": [
      "Error in Tabula\n",
      "BBL: 4006610034 Tax Date: 20180601\n"
     ]
    },
    {
     "name": "stderr",
     "output_type": "stream",
     "text": [
      "Error from tabula-java:\n",
      "Error: Error: End-of-File, expected line\n",
      "\n",
      "\n"
     ]
    },
    {
     "name": "stdout",
     "output_type": "stream",
     "text": [
      "Error in Tabula\n",
      "BBL: 4006610037 Tax Date: 20180601\n"
     ]
    },
    {
     "name": "stderr",
     "output_type": "stream",
     "text": [
      "Error from tabula-java:\n",
      "Error: Error: End-of-File, expected line\n",
      "\n",
      "\n"
     ]
    },
    {
     "name": "stdout",
     "output_type": "stream",
     "text": [
      "Error in Tabula\n",
      "BBL: 4006630010 Tax Date: 20180601\n"
     ]
    },
    {
     "name": "stderr",
     "output_type": "stream",
     "text": [
      "Error from tabula-java:\n",
      "Error: Error: End-of-File, expected line\n",
      "\n",
      "\n"
     ]
    },
    {
     "name": "stdout",
     "output_type": "stream",
     "text": [
      "Error in Tabula\n",
      "BBL: 4005680007 Tax Date: 20180601\n"
     ]
    },
    {
     "name": "stderr",
     "output_type": "stream",
     "text": [
      "Error from tabula-java:\n",
      "Error: Error: End-of-File, expected line\n",
      "\n",
      "\n"
     ]
    },
    {
     "name": "stdout",
     "output_type": "stream",
     "text": [
      "Error in Tabula\n",
      "BBL: 4005680007 Tax Date: 20180601\n"
     ]
    },
    {
     "name": "stderr",
     "output_type": "stream",
     "text": [
      "Error from tabula-java:\n",
      "Error: Error: End-of-File, expected line\n",
      "\n",
      "\n"
     ]
    },
    {
     "name": "stdout",
     "output_type": "stream",
     "text": [
      "Error in Tabula\n",
      "BBL: 4006290009 Tax Date: 20180601\n"
     ]
    },
    {
     "name": "stderr",
     "output_type": "stream",
     "text": [
      "Error from tabula-java:\n",
      "Error: Error: End-of-File, expected line\n",
      "\n",
      "\n"
     ]
    },
    {
     "name": "stdout",
     "output_type": "stream",
     "text": [
      "Error in Tabula\n",
      "BBL: 4006290009 Tax Date: 20180601\n"
     ]
    },
    {
     "name": "stderr",
     "output_type": "stream",
     "text": [
      "Error from tabula-java:\n",
      "Error: Error: End-of-File, expected line\n",
      "\n",
      "\n"
     ]
    },
    {
     "name": "stdout",
     "output_type": "stream",
     "text": [
      "Error in Tabula\n",
      "BBL: 4006590068 Tax Date: 20180601\n"
     ]
    },
    {
     "name": "stderr",
     "output_type": "stream",
     "text": [
      "Error from tabula-java:\n",
      "Error: Error: End-of-File, expected line\n",
      "\n",
      "\n"
     ]
    },
    {
     "name": "stdout",
     "output_type": "stream",
     "text": [
      "Error in Tabula\n",
      "BBL: 4006500081 Tax Date: 20180601\n"
     ]
    },
    {
     "name": "stderr",
     "output_type": "stream",
     "text": [
      "Error from tabula-java:\n",
      "Error: Error: End-of-File, expected line\n",
      "\n",
      "\n"
     ]
    },
    {
     "name": "stdout",
     "output_type": "stream",
     "text": [
      "Error in Tabula\n",
      "BBL: 4006500081 Tax Date: 20180601\n"
     ]
    },
    {
     "name": "stderr",
     "output_type": "stream",
     "text": [
      "Error from tabula-java:\n",
      "Error: Error: End-of-File, expected line\n",
      "\n",
      "\n"
     ]
    },
    {
     "name": "stdout",
     "output_type": "stream",
     "text": [
      "Error in Tabula\n",
      "BBL: 4006520010 Tax Date: 20180601\n"
     ]
    },
    {
     "name": "stderr",
     "output_type": "stream",
     "text": [
      "Error from tabula-java:\n",
      "Error: Error: End-of-File, expected line\n",
      "\n",
      "\n"
     ]
    },
    {
     "name": "stdout",
     "output_type": "stream",
     "text": [
      "Error in Tabula\n",
      "BBL: 4006160003 Tax Date: 20180601\n"
     ]
    },
    {
     "name": "stderr",
     "output_type": "stream",
     "text": [
      "Error from tabula-java:\n",
      "Error: Error: End-of-File, expected line\n",
      "\n",
      "\n"
     ]
    },
    {
     "name": "stdout",
     "output_type": "stream",
     "text": [
      "Error in Tabula\n",
      "BBL: 4005670029 Tax Date: 20180601\n"
     ]
    },
    {
     "name": "stderr",
     "output_type": "stream",
     "text": [
      "Error from tabula-java:\n",
      "Error: Error: End-of-File, expected line\n",
      "\n",
      "\n"
     ]
    },
    {
     "name": "stdout",
     "output_type": "stream",
     "text": [
      "Error in Tabula\n",
      "BBL: 4005670029 Tax Date: 20180601\n"
     ]
    },
    {
     "name": "stderr",
     "output_type": "stream",
     "text": [
      "Error from tabula-java:\n",
      "Error: Error: End-of-File, expected line\n",
      "\n",
      "\n"
     ]
    },
    {
     "name": "stdout",
     "output_type": "stream",
     "text": [
      "Error in Tabula\n",
      "BBL: 4005980023 Tax Date: 20180601\n"
     ]
    },
    {
     "name": "stderr",
     "output_type": "stream",
     "text": [
      "Error from tabula-java:\n",
      "Error: Error: End-of-File, expected line\n",
      "\n",
      "\n"
     ]
    },
    {
     "name": "stdout",
     "output_type": "stream",
     "text": [
      "Error in Tabula\n",
      "BBL: 4006530089 Tax Date: 20180601\n"
     ]
    },
    {
     "name": "stderr",
     "output_type": "stream",
     "text": [
      "Error from tabula-java:\n",
      "Error: Error: End-of-File, expected line\n",
      "\n",
      "\n"
     ]
    },
    {
     "name": "stdout",
     "output_type": "stream",
     "text": [
      "Error in Tabula\n",
      "BBL: 4006530089 Tax Date: 20180601\n"
     ]
    },
    {
     "name": "stderr",
     "output_type": "stream",
     "text": [
      "Error from tabula-java:\n",
      "Error: Error: End-of-File, expected line\n",
      "\n",
      "\n"
     ]
    },
    {
     "name": "stdout",
     "output_type": "stream",
     "text": [
      "Error in Tabula\n",
      "BBL: 4008350012 Tax Date: 20180601\n"
     ]
    },
    {
     "name": "stderr",
     "output_type": "stream",
     "text": [
      "Error from tabula-java:\n",
      "Error: Error: End-of-File, expected line\n",
      "\n",
      "\n"
     ]
    },
    {
     "name": "stdout",
     "output_type": "stream",
     "text": [
      "Error in Tabula\n",
      "BBL: 4008040123 Tax Date: 20180601\n"
     ]
    },
    {
     "name": "stderr",
     "output_type": "stream",
     "text": [
      "Error from tabula-java:\n",
      "Error: Error: End-of-File, expected line\n",
      "\n",
      "\n"
     ]
    },
    {
     "name": "stdout",
     "output_type": "stream",
     "text": [
      "Error in Tabula\n",
      "BBL: 4006150023 Tax Date: 20180601\n"
     ]
    },
    {
     "name": "stderr",
     "output_type": "stream",
     "text": [
      "Error from tabula-java:\n",
      "Error: Error: End-of-File, expected line\n",
      "\n",
      "\n"
     ]
    },
    {
     "name": "stdout",
     "output_type": "stream",
     "text": [
      "Error in Tabula\n",
      "BBL: 4006250084 Tax Date: 20180601\n"
     ]
    },
    {
     "name": "stderr",
     "output_type": "stream",
     "text": [
      "Error from tabula-java:\n",
      "Error: Error: End-of-File, expected line\n",
      "\n",
      "\n"
     ]
    },
    {
     "name": "stdout",
     "output_type": "stream",
     "text": [
      "Error in Tabula\n",
      "BBL: 4005150001 Tax Date: 20180601\n"
     ]
    },
    {
     "name": "stderr",
     "output_type": "stream",
     "text": [
      "Error from tabula-java:\n",
      "Error: Error: End-of-File, expected line\n",
      "\n",
      "\n"
     ]
    },
    {
     "name": "stdout",
     "output_type": "stream",
     "text": [
      "Error in Tabula\n",
      "BBL: 4008390019 Tax Date: 20180601\n"
     ]
    },
    {
     "name": "stderr",
     "output_type": "stream",
     "text": [
      "Error from tabula-java:\n",
      "Error: Error: End-of-File, expected line\n",
      "\n",
      "\n"
     ]
    },
    {
     "name": "stdout",
     "output_type": "stream",
     "text": [
      "Error in Tabula\n",
      "BBL: 4006290010 Tax Date: 20180601\n"
     ]
    },
    {
     "name": "stderr",
     "output_type": "stream",
     "text": [
      "Error from tabula-java:\n",
      "Error: Error: End-of-File, expected line\n",
      "\n",
      "\n"
     ]
    },
    {
     "name": "stdout",
     "output_type": "stream",
     "text": [
      "Error in Tabula\n",
      "BBL: 4005520018 Tax Date: 20180601\n"
     ]
    },
    {
     "name": "stderr",
     "output_type": "stream",
     "text": [
      "Error from tabula-java:\n",
      "Error: Error: End-of-File, expected line\n",
      "\n",
      "\n"
     ]
    },
    {
     "name": "stdout",
     "output_type": "stream",
     "text": [
      "Error in Tabula\n",
      "BBL: 4006610003 Tax Date: 20180601\n"
     ]
    },
    {
     "name": "stderr",
     "output_type": "stream",
     "text": [
      "Error from tabula-java:\n",
      "Error: Error: End-of-File, expected line\n",
      "\n",
      "\n"
     ]
    },
    {
     "name": "stdout",
     "output_type": "stream",
     "text": [
      "Error in Tabula\n",
      "BBL: 4006300018 Tax Date: 20180601\n"
     ]
    },
    {
     "name": "stderr",
     "output_type": "stream",
     "text": [
      "Error from tabula-java:\n",
      "Error: Error: End-of-File, expected line\n",
      "\n",
      "\n"
     ]
    },
    {
     "name": "stdout",
     "output_type": "stream",
     "text": [
      "Error in Tabula\n",
      "BBL: 4005170021 Tax Date: 20180601\n"
     ]
    },
    {
     "name": "stderr",
     "output_type": "stream",
     "text": [
      "Error from tabula-java:\n",
      "Error: Error: End-of-File, expected line\n",
      "\n",
      "\n"
     ]
    },
    {
     "name": "stdout",
     "output_type": "stream",
     "text": [
      "Error in Tabula\n",
      "BBL: 4005170021 Tax Date: 20180601\n"
     ]
    },
    {
     "name": "stderr",
     "output_type": "stream",
     "text": [
      "Error from tabula-java:\n",
      "Error: Error: End-of-File, expected line\n",
      "\n",
      "\n"
     ]
    },
    {
     "name": "stdout",
     "output_type": "stream",
     "text": [
      "Error in Tabula\n",
      "BBL: 4005690032 Tax Date: 20180601\n"
     ]
    },
    {
     "name": "stderr",
     "output_type": "stream",
     "text": [
      "Error from tabula-java:\n",
      "Error: Error: End-of-File, expected line\n",
      "\n",
      "\n"
     ]
    },
    {
     "name": "stdout",
     "output_type": "stream",
     "text": [
      "Error in Tabula\n",
      "BBL: 4005980055 Tax Date: 20180601\n"
     ]
    },
    {
     "name": "stderr",
     "output_type": "stream",
     "text": [
      "Error from tabula-java:\n",
      "Error: Error: End-of-File, expected line\n",
      "\n",
      "\n"
     ]
    },
    {
     "name": "stdout",
     "output_type": "stream",
     "text": [
      "Error in Tabula\n",
      "BBL: 4006150083 Tax Date: 20180601\n"
     ]
    },
    {
     "name": "stderr",
     "output_type": "stream",
     "text": [
      "Error from tabula-java:\n",
      "Error: Error: End-of-File, expected line\n",
      "\n",
      "\n"
     ]
    },
    {
     "name": "stdout",
     "output_type": "stream",
     "text": [
      "Error in Tabula\n",
      "BBL: 4006590077 Tax Date: 20180601\n"
     ]
    },
    {
     "name": "stderr",
     "output_type": "stream",
     "text": [
      "Error from tabula-java:\n",
      "Error: Error: End-of-File, expected line\n",
      "\n",
      "\n"
     ]
    },
    {
     "name": "stdout",
     "output_type": "stream",
     "text": [
      "Error in Tabula\n",
      "BBL: 4006290011 Tax Date: 20180601\n"
     ]
    },
    {
     "name": "stderr",
     "output_type": "stream",
     "text": [
      "Error from tabula-java:\n",
      "Error: Error: End-of-File, expected line\n",
      "\n",
      "\n"
     ]
    },
    {
     "name": "stdout",
     "output_type": "stream",
     "text": [
      "Error in Tabula\n",
      "BBL: 4006160019 Tax Date: 20180601\n"
     ]
    },
    {
     "name": "stderr",
     "output_type": "stream",
     "text": [
      "Error from tabula-java:\n",
      "Error: Error: End-of-File, expected line\n",
      "\n",
      "\n"
     ]
    },
    {
     "name": "stdout",
     "output_type": "stream",
     "text": [
      "Error in Tabula\n",
      "BBL: 4006160011 Tax Date: 20180601\n"
     ]
    },
    {
     "name": "stderr",
     "output_type": "stream",
     "text": [
      "Error from tabula-java:\n",
      "Error: Error: End-of-File, expected line\n",
      "\n",
      "\n"
     ]
    },
    {
     "name": "stdout",
     "output_type": "stream",
     "text": [
      "Error in Tabula\n",
      "BBL: 4005690027 Tax Date: 20180601\n"
     ]
    },
    {
     "name": "stderr",
     "output_type": "stream",
     "text": [
      "Error from tabula-java:\n",
      "Error: Error: End-of-File, expected line\n",
      "\n",
      "\n"
     ]
    },
    {
     "name": "stdout",
     "output_type": "stream",
     "text": [
      "Error in Tabula\n",
      "BBL: 4005690027 Tax Date: 20180601\n"
     ]
    },
    {
     "name": "stderr",
     "output_type": "stream",
     "text": [
      "Error from tabula-java:\n",
      "Error: Error: End-of-File, expected line\n",
      "\n",
      "\n"
     ]
    },
    {
     "name": "stdout",
     "output_type": "stream",
     "text": [
      "Error in Tabula\n",
      "BBL: 4005510003 Tax Date: 20180601\n"
     ]
    },
    {
     "name": "stderr",
     "output_type": "stream",
     "text": [
      "Error from tabula-java:\n",
      "Error: Error: End-of-File, expected line\n",
      "\n",
      "\n"
     ]
    },
    {
     "name": "stdout",
     "output_type": "stream",
     "text": [
      "Error in Tabula\n",
      "BBL: 4005930021 Tax Date: 20180601\n"
     ]
    },
    {
     "name": "stderr",
     "output_type": "stream",
     "text": [
      "Error from tabula-java:\n",
      "Error: Error: End-of-File, expected line\n",
      "\n",
      "\n"
     ]
    },
    {
     "name": "stdout",
     "output_type": "stream",
     "text": [
      "Error in Tabula\n",
      "BBL: 4005730060 Tax Date: 20180601\n"
     ]
    },
    {
     "name": "stderr",
     "output_type": "stream",
     "text": [
      "Error from tabula-java:\n",
      "Error: Error: End-of-File, expected line\n",
      "\n",
      "\n"
     ]
    },
    {
     "name": "stdout",
     "output_type": "stream",
     "text": [
      "Error in Tabula\n",
      "BBL: 4005940034 Tax Date: 20180601\n"
     ]
    },
    {
     "name": "stderr",
     "output_type": "stream",
     "text": [
      "Error from tabula-java:\n",
      "Error: Error: End-of-File, expected line\n",
      "\n",
      "\n"
     ]
    },
    {
     "name": "stdout",
     "output_type": "stream",
     "text": [
      "Error in Tabula\n",
      "BBL: 4006520046 Tax Date: 20180601\n"
     ]
    },
    {
     "name": "stderr",
     "output_type": "stream",
     "text": [
      "Error from tabula-java:\n",
      "Error: Error: End-of-File, expected line\n",
      "\n",
      "\n"
     ]
    },
    {
     "name": "stdout",
     "output_type": "stream",
     "text": [
      "Error in Tabula\n",
      "BBL: 4005980076 Tax Date: 20180601\n"
     ]
    },
    {
     "name": "stderr",
     "output_type": "stream",
     "text": [
      "Error from tabula-java:\n",
      "Error: Error: End-of-File, expected line\n",
      "\n",
      "\n"
     ]
    },
    {
     "name": "stdout",
     "output_type": "stream",
     "text": [
      "Error in Tabula\n",
      "BBL: 4008870038 Tax Date: 20180601\n"
     ]
    },
    {
     "name": "stderr",
     "output_type": "stream",
     "text": [
      "Error from tabula-java:\n",
      "Error: Error: End-of-File, expected line\n",
      "\n",
      "\n"
     ]
    },
    {
     "name": "stdout",
     "output_type": "stream",
     "text": [
      "Error in Tabula\n",
      "BBL: 4006590078 Tax Date: 20180601\n"
     ]
    },
    {
     "name": "stderr",
     "output_type": "stream",
     "text": [
      "Error from tabula-java:\n",
      "Error: Error: End-of-File, expected line\n",
      "\n",
      "\n"
     ]
    },
    {
     "name": "stdout",
     "output_type": "stream",
     "text": [
      "Error in Tabula\n",
      "BBL: 4006600031 Tax Date: 20180601\n"
     ]
    },
    {
     "name": "stderr",
     "output_type": "stream",
     "text": [
      "Error from tabula-java:\n",
      "Error: Error: End-of-File, expected line\n",
      "\n",
      "\n"
     ]
    },
    {
     "name": "stdout",
     "output_type": "stream",
     "text": [
      "Error in Tabula\n",
      "BBL: 4006490069 Tax Date: 20180601\n"
     ]
    },
    {
     "name": "stderr",
     "output_type": "stream",
     "text": [
      "Error from tabula-java:\n",
      "Error: Error: End-of-File, expected line\n",
      "\n",
      "\n"
     ]
    },
    {
     "name": "stdout",
     "output_type": "stream",
     "text": [
      "Error in Tabula\n",
      "BBL: 4006330003 Tax Date: 20180601\n"
     ]
    },
    {
     "name": "stderr",
     "output_type": "stream",
     "text": [
      "Error from tabula-java:\n",
      "Error: Error: End-of-File, expected line\n",
      "\n",
      "\n"
     ]
    },
    {
     "name": "stdout",
     "output_type": "stream",
     "text": [
      "Error in Tabula\n",
      "BBL: 4006160030 Tax Date: 20180601\n"
     ]
    },
    {
     "name": "stderr",
     "output_type": "stream",
     "text": [
      "Error from tabula-java:\n",
      "Error: Error: End-of-File, expected line\n",
      "\n",
      "\n"
     ]
    },
    {
     "name": "stdout",
     "output_type": "stream",
     "text": [
      "Error in Tabula\n",
      "BBL: 4008840005 Tax Date: 20180601\n"
     ]
    },
    {
     "name": "stderr",
     "output_type": "stream",
     "text": [
      "Error from tabula-java:\n",
      "Error: Error: End-of-File, expected line\n",
      "\n",
      "\n"
     ]
    },
    {
     "name": "stdout",
     "output_type": "stream",
     "text": [
      "Error in Tabula\n",
      "BBL: 4005970124 Tax Date: 20180601\n"
     ]
    },
    {
     "name": "stderr",
     "output_type": "stream",
     "text": [
      "Error from tabula-java:\n",
      "Error: Error: End-of-File, expected line\n",
      "\n",
      "\n"
     ]
    },
    {
     "name": "stdout",
     "output_type": "stream",
     "text": [
      "Error in Tabula\n",
      "BBL: 4005710019 Tax Date: 20180601\n"
     ]
    },
    {
     "name": "stderr",
     "output_type": "stream",
     "text": [
      "Error from tabula-java:\n",
      "Error: Error: End-of-File, expected line\n",
      "\n",
      "\n"
     ]
    },
    {
     "name": "stdout",
     "output_type": "stream",
     "text": [
      "Error in Tabula\n",
      "BBL: 4006500080 Tax Date: 20180601\n"
     ]
    },
    {
     "name": "stderr",
     "output_type": "stream",
     "text": [
      "Error from tabula-java:\n",
      "Error: Error: End-of-File, expected line\n",
      "\n",
      "\n"
     ]
    },
    {
     "name": "stdout",
     "output_type": "stream",
     "text": [
      "Error in Tabula\n",
      "BBL: 4006520062 Tax Date: 20180601\n"
     ]
    },
    {
     "name": "stderr",
     "output_type": "stream",
     "text": [
      "Error from tabula-java:\n",
      "Error: Error: End-of-File, expected line\n",
      "\n",
      "\n"
     ]
    },
    {
     "name": "stdout",
     "output_type": "stream",
     "text": [
      "Error in Tabula\n",
      "BBL: 4005970223 Tax Date: 20180601\n"
     ]
    },
    {
     "name": "stderr",
     "output_type": "stream",
     "text": [
      "Error from tabula-java:\n",
      "Error: Error: End-of-File, expected line\n",
      "\n",
      "\n"
     ]
    },
    {
     "name": "stdout",
     "output_type": "stream",
     "text": [
      "Error in Tabula\n",
      "BBL: 4006530075 Tax Date: 20180601\n"
     ]
    },
    {
     "name": "stderr",
     "output_type": "stream",
     "text": [
      "Error from tabula-java:\n",
      "Error: Error: End-of-File, expected line\n",
      "\n",
      "\n"
     ]
    },
    {
     "name": "stdout",
     "output_type": "stream",
     "text": [
      "Error in Tabula\n",
      "BBL: 4005980001 Tax Date: 20180601\n"
     ]
    },
    {
     "name": "stderr",
     "output_type": "stream",
     "text": [
      "Error from tabula-java:\n",
      "Error: Error: End-of-File, expected line\n",
      "\n",
      "\n"
     ]
    },
    {
     "name": "stdout",
     "output_type": "stream",
     "text": [
      "Error in Tabula\n",
      "BBL: 4006150022 Tax Date: 20180601\n"
     ]
    },
    {
     "name": "stderr",
     "output_type": "stream",
     "text": [
      "Error from tabula-java:\n",
      "Error: Error: End-of-File, expected line\n",
      "\n",
      "\n"
     ]
    },
    {
     "name": "stdout",
     "output_type": "stream",
     "text": [
      "Error in Tabula\n",
      "BBL: 4005740035 Tax Date: 20180601\n"
     ]
    },
    {
     "name": "stderr",
     "output_type": "stream",
     "text": [
      "Error from tabula-java:\n",
      "Error: Error: End-of-File, expected line\n",
      "\n",
      "\n"
     ]
    },
    {
     "name": "stdout",
     "output_type": "stream",
     "text": [
      "Error in Tabula\n",
      "BBL: 4005920007 Tax Date: 20180601\n"
     ]
    },
    {
     "name": "stderr",
     "output_type": "stream",
     "text": [
      "Error from tabula-java:\n",
      "Error: Error: End-of-File, expected line\n",
      "\n",
      "\n"
     ]
    },
    {
     "name": "stdout",
     "output_type": "stream",
     "text": [
      "Error in Tabula\n",
      "BBL: 4006520011 Tax Date: 20180601\n"
     ]
    },
    {
     "name": "stderr",
     "output_type": "stream",
     "text": [
      "Error from tabula-java:\n",
      "Error: Error: End-of-File, expected line\n",
      "\n",
      "\n"
     ]
    },
    {
     "name": "stdout",
     "output_type": "stream",
     "text": [
      "Error in Tabula\n",
      "BBL: 4005740135 Tax Date: 20180601\n"
     ]
    },
    {
     "name": "stderr",
     "output_type": "stream",
     "text": [
      "Error from tabula-java:\n",
      "Error: Error: End-of-File, expected line\n",
      "\n",
      "\n"
     ]
    },
    {
     "name": "stdout",
     "output_type": "stream",
     "text": [
      "Error in Tabula\n",
      "BBL: 4005700007 Tax Date: 20180601\n"
     ]
    },
    {
     "name": "stderr",
     "output_type": "stream",
     "text": [
      "Error from tabula-java:\n",
      "Error: Error: End-of-File, expected line\n",
      "\n",
      "\n"
     ]
    },
    {
     "name": "stdout",
     "output_type": "stream",
     "text": [
      "Error in Tabula\n",
      "BBL: 4006600027 Tax Date: 20180601\n"
     ]
    },
    {
     "name": "stderr",
     "output_type": "stream",
     "text": [
      "Error from tabula-java:\n",
      "Error: Error: End-of-File, expected line\n",
      "\n",
      "\n"
     ]
    },
    {
     "name": "stdout",
     "output_type": "stream",
     "text": [
      "Error in Tabula\n",
      "BBL: 4008400049 Tax Date: 20180601\n"
     ]
    },
    {
     "name": "stderr",
     "output_type": "stream",
     "text": [
      "Error from tabula-java:\n",
      "Error: Error: End-of-File, expected line\n",
      "\n",
      "\n"
     ]
    },
    {
     "name": "stdout",
     "output_type": "stream",
     "text": [
      "Error in Tabula\n",
      "BBL: 4006190057 Tax Date: 20180601\n"
     ]
    },
    {
     "name": "stderr",
     "output_type": "stream",
     "text": [
      "Error from tabula-java:\n",
      "Error: Error: End-of-File, expected line\n",
      "\n",
      "\n"
     ]
    },
    {
     "name": "stdout",
     "output_type": "stream",
     "text": [
      "Error in Tabula\n",
      "BBL: 4005940155 Tax Date: 20180601\n"
     ]
    },
    {
     "name": "stderr",
     "output_type": "stream",
     "text": [
      "Error from tabula-java:\n",
      "Error: Error: End-of-File, expected line\n",
      "\n",
      "\n"
     ]
    },
    {
     "name": "stdout",
     "output_type": "stream",
     "text": [
      "Error in Tabula\n",
      "BBL: 4005780026 Tax Date: 20170602\n"
     ]
    },
    {
     "name": "stderr",
     "output_type": "stream",
     "text": [
      "Error from tabula-java:\n",
      "Error: Error: End-of-File, expected line\n",
      "\n",
      "\n"
     ]
    },
    {
     "name": "stdout",
     "output_type": "stream",
     "text": [
      "Error in Tabula\n",
      "BBL: 4006600024 Tax Date: 20170602\n"
     ]
    },
    {
     "name": "stderr",
     "output_type": "stream",
     "text": [
      "Error from tabula-java:\n",
      "Error: Error: End-of-File, expected line\n",
      "\n",
      "\n"
     ]
    },
    {
     "name": "stdout",
     "output_type": "stream",
     "text": [
      "Error in Tabula\n",
      "BBL: 4008610044 Tax Date: 20170602\n"
     ]
    },
    {
     "name": "stderr",
     "output_type": "stream",
     "text": [
      "Error from tabula-java:\n",
      "Error: Error: End-of-File, expected line\n",
      "\n",
      "\n"
     ]
    },
    {
     "name": "stdout",
     "output_type": "stream",
     "text": [
      "Error in Tabula\n",
      "BBL: 4005930011 Tax Date: 20170602\n"
     ]
    },
    {
     "name": "stderr",
     "output_type": "stream",
     "text": [
      "Error from tabula-java:\n",
      "Error: Error: End-of-File, expected line\n",
      "\n",
      "\n"
     ]
    },
    {
     "name": "stdout",
     "output_type": "stream",
     "text": [
      "Error in Tabula\n",
      "BBL: 4005940055 Tax Date: 20170602\n"
     ]
    },
    {
     "name": "stderr",
     "output_type": "stream",
     "text": [
      "Error from tabula-java:\n",
      "Error: Error: End-of-File, expected line\n",
      "\n",
      "\n"
     ]
    },
    {
     "name": "stdout",
     "output_type": "stream",
     "text": [
      "Error in Tabula\n",
      "BBL: 4006220019 Tax Date: 20170602\n"
     ]
    },
    {
     "name": "stderr",
     "output_type": "stream",
     "text": [
      "Error from tabula-java:\n",
      "Error: Error: End-of-File, expected line\n",
      "\n",
      "\n"
     ]
    },
    {
     "name": "stdout",
     "output_type": "stream",
     "text": [
      "Error in Tabula\n",
      "BBL: 4006220019 Tax Date: 20170602\n"
     ]
    },
    {
     "name": "stderr",
     "output_type": "stream",
     "text": [
      "Error from tabula-java:\n",
      "Error: Error: End-of-File, expected line\n",
      "\n",
      "\n"
     ]
    },
    {
     "name": "stdout",
     "output_type": "stream",
     "text": [
      "Error in Tabula\n",
      "BBL: 4005490036 Tax Date: 20170602\n"
     ]
    },
    {
     "name": "stderr",
     "output_type": "stream",
     "text": [
      "Error from tabula-java:\n",
      "Error: Error: End-of-File, expected line\n",
      "\n",
      "\n"
     ]
    },
    {
     "name": "stdout",
     "output_type": "stream",
     "text": [
      "Error in Tabula\n",
      "BBL: 4006530074 Tax Date: 20170602\n"
     ]
    },
    {
     "name": "stderr",
     "output_type": "stream",
     "text": [
      "Error from tabula-java:\n",
      "Error: Error: End-of-File, expected line\n",
      "\n",
      "\n"
     ]
    },
    {
     "name": "stdout",
     "output_type": "stream",
     "text": [
      "Error in Tabula\n",
      "BBL: 4008860030 Tax Date: 20170602\n"
     ]
    },
    {
     "name": "stderr",
     "output_type": "stream",
     "text": [
      "Error from tabula-java:\n",
      "Error: Error: End-of-File, expected line\n",
      "\n",
      "\n"
     ]
    },
    {
     "name": "stdout",
     "output_type": "stream",
     "text": [
      "Error in Tabula\n",
      "BBL: 4006530020 Tax Date: 20170602\n"
     ]
    },
    {
     "name": "stderr",
     "output_type": "stream",
     "text": [
      "Error from tabula-java:\n",
      "Error: Error: End-of-File, expected line\n",
      "\n",
      "\n"
     ]
    },
    {
     "name": "stdout",
     "output_type": "stream",
     "text": [
      "Error in Tabula\n",
      "BBL: 4007110004 Tax Date: 20170602\n"
     ]
    },
    {
     "name": "stderr",
     "output_type": "stream",
     "text": [
      "Error from tabula-java:\n",
      "Error: Error: End-of-File, expected line\n",
      "\n",
      "\n"
     ]
    },
    {
     "name": "stdout",
     "output_type": "stream",
     "text": [
      "Error in Tabula\n",
      "BBL: 4006500069 Tax Date: 20170602\n"
     ]
    },
    {
     "name": "stderr",
     "output_type": "stream",
     "text": [
      "Error from tabula-java:\n",
      "Error: Error: End-of-File, expected line\n",
      "\n",
      "\n"
     ]
    },
    {
     "name": "stdout",
     "output_type": "stream",
     "text": [
      "Error in Tabula\n",
      "BBL: 4006330051 Tax Date: 20170602\n"
     ]
    },
    {
     "name": "stderr",
     "output_type": "stream",
     "text": [
      "Error from tabula-java:\n",
      "Error: Error: End-of-File, expected line\n",
      "\n",
      "\n"
     ]
    },
    {
     "name": "stdout",
     "output_type": "stream",
     "text": [
      "Error in Tabula\n",
      "BBL: 4005970120 Tax Date: 20170602\n"
     ]
    },
    {
     "name": "stderr",
     "output_type": "stream",
     "text": [
      "Error from tabula-java:\n",
      "Error: Error: End-of-File, expected line\n",
      "\n",
      "\n"
     ]
    },
    {
     "name": "stdout",
     "output_type": "stream",
     "text": [
      "Error in Tabula\n",
      "BBL: 4008720012 Tax Date: 20170602\n"
     ]
    },
    {
     "name": "stderr",
     "output_type": "stream",
     "text": [
      "Error from tabula-java:\n",
      "Error: Error: End-of-File, expected line\n",
      "\n",
      "\n"
     ]
    },
    {
     "name": "stdout",
     "output_type": "stream",
     "text": [
      "Error in Tabula\n",
      "BBL: 4006300011 Tax Date: 20170602\n"
     ]
    },
    {
     "name": "stderr",
     "output_type": "stream",
     "text": [
      "Error from tabula-java:\n",
      "Error: Error: End-of-File, expected line\n",
      "\n",
      "\n"
     ]
    },
    {
     "name": "stdout",
     "output_type": "stream",
     "text": [
      "Error in Tabula\n",
      "BBL: 4005940029 Tax Date: 20170602\n"
     ]
    },
    {
     "name": "stderr",
     "output_type": "stream",
     "text": [
      "Error from tabula-java:\n",
      "Error: Error: End-of-File, expected line\n",
      "\n",
      "\n"
     ]
    },
    {
     "name": "stdout",
     "output_type": "stream",
     "text": [
      "Error in Tabula\n",
      "BBL: 4006330082 Tax Date: 20170602\n"
     ]
    },
    {
     "name": "stderr",
     "output_type": "stream",
     "text": [
      "Error from tabula-java:\n",
      "Error: Error: End-of-File, expected line\n",
      "\n",
      "\n"
     ]
    },
    {
     "name": "stdout",
     "output_type": "stream",
     "text": [
      "Error in Tabula\n",
      "BBL: 4005740036 Tax Date: 20170602\n"
     ]
    },
    {
     "name": "stderr",
     "output_type": "stream",
     "text": [
      "Error from tabula-java:\n",
      "Error: Error: End-of-File, expected line\n",
      "\n",
      "\n"
     ]
    },
    {
     "name": "stdout",
     "output_type": "stream",
     "text": [
      "Error in Tabula\n",
      "BBL: 4005740037 Tax Date: 20170602\n"
     ]
    },
    {
     "name": "stderr",
     "output_type": "stream",
     "text": [
      "Error from tabula-java:\n",
      "Error: Error: End-of-File, expected line\n",
      "\n",
      "\n"
     ]
    },
    {
     "name": "stdout",
     "output_type": "stream",
     "text": [
      "Error in Tabula\n",
      "BBL: 4005390007 Tax Date: 20170602\n"
     ]
    },
    {
     "name": "stderr",
     "output_type": "stream",
     "text": [
      "Error from tabula-java:\n",
      "Error: Error: End-of-File, expected line\n",
      "\n",
      "\n"
     ]
    },
    {
     "name": "stdout",
     "output_type": "stream",
     "text": [
      "Error in Tabula\n",
      "BBL: 4008920113 Tax Date: 20170602\n"
     ]
    },
    {
     "name": "stderr",
     "output_type": "stream",
     "text": [
      "Error from tabula-java:\n",
      "Error: Error: End-of-File, expected line\n",
      "\n",
      "\n"
     ]
    },
    {
     "name": "stdout",
     "output_type": "stream",
     "text": [
      "Error in Tabula\n",
      "BBL: 4008920113 Tax Date: 20170602\n"
     ]
    },
    {
     "name": "stderr",
     "output_type": "stream",
     "text": [
      "Error from tabula-java:\n",
      "Error: Error: End-of-File, expected line\n",
      "\n",
      "\n"
     ]
    },
    {
     "name": "stdout",
     "output_type": "stream",
     "text": [
      "Error in Tabula\n",
      "BBL: 4006540022 Tax Date: 20170602\n"
     ]
    },
    {
     "name": "stderr",
     "output_type": "stream",
     "text": [
      "Error from tabula-java:\n",
      "Error: Error: End-of-File, expected line\n",
      "\n",
      "\n"
     ]
    },
    {
     "name": "stdout",
     "output_type": "stream",
     "text": [
      "Error in Tabula\n",
      "BBL: 4006540022 Tax Date: 20170602\n"
     ]
    },
    {
     "name": "stderr",
     "output_type": "stream",
     "text": [
      "Error from tabula-java:\n",
      "Error: Error: End-of-File, expected line\n",
      "\n",
      "\n"
     ]
    },
    {
     "name": "stdout",
     "output_type": "stream",
     "text": [
      "Error in Tabula\n",
      "BBL: 4006550012 Tax Date: 20170602\n"
     ]
    },
    {
     "name": "stderr",
     "output_type": "stream",
     "text": [
      "Error from tabula-java:\n",
      "Error: Error: End-of-File, expected line\n",
      "\n",
      "\n"
     ]
    },
    {
     "name": "stdout",
     "output_type": "stream",
     "text": [
      "Error in Tabula\n",
      "BBL: 4005720030 Tax Date: 20170602\n"
     ]
    },
    {
     "name": "stderr",
     "output_type": "stream",
     "text": [
      "Error from tabula-java:\n",
      "Error: Error: End-of-File, expected line\n",
      "\n",
      "\n"
     ]
    },
    {
     "name": "stdout",
     "output_type": "stream",
     "text": [
      "Error in Tabula\n",
      "BBL: 4005770015 Tax Date: 20170602\n"
     ]
    },
    {
     "name": "stderr",
     "output_type": "stream",
     "text": [
      "Error from tabula-java:\n",
      "Error: Error: End-of-File, expected line\n",
      "\n",
      "\n"
     ]
    },
    {
     "name": "stdout",
     "output_type": "stream",
     "text": [
      "Error in Tabula\n",
      "BBL: 4005970127 Tax Date: 20170602\n"
     ]
    },
    {
     "name": "stderr",
     "output_type": "stream",
     "text": [
      "Error from tabula-java:\n",
      "Error: Error: End-of-File, expected line\n",
      "\n",
      "\n"
     ]
    },
    {
     "name": "stdout",
     "output_type": "stream",
     "text": [
      "Error in Tabula\n",
      "BBL: 4005970118 Tax Date: 20170602\n"
     ]
    },
    {
     "name": "stderr",
     "output_type": "stream",
     "text": [
      "Error from tabula-java:\n",
      "Error: Error: End-of-File, expected line\n",
      "\n",
      "\n"
     ]
    },
    {
     "name": "stdout",
     "output_type": "stream",
     "text": [
      "Error in Tabula\n",
      "BBL: 4005970119 Tax Date: 20170602\n"
     ]
    },
    {
     "name": "stderr",
     "output_type": "stream",
     "text": [
      "Error from tabula-java:\n",
      "Error: Error: End-of-File, expected line\n",
      "\n",
      "\n"
     ]
    },
    {
     "name": "stdout",
     "output_type": "stream",
     "text": [
      "Error in Tabula\n",
      "BBL: 4005970110 Tax Date: 20170602\n"
     ]
    },
    {
     "name": "stderr",
     "output_type": "stream",
     "text": [
      "Error from tabula-java:\n",
      "Error: Error: End-of-File, expected line\n",
      "\n",
      "\n"
     ]
    },
    {
     "name": "stdout",
     "output_type": "stream",
     "text": [
      "Error in Tabula\n",
      "BBL: 4005970111 Tax Date: 20170602\n"
     ]
    },
    {
     "name": "stderr",
     "output_type": "stream",
     "text": [
      "Error from tabula-java:\n",
      "Error: Error: End-of-File, expected line\n",
      "\n",
      "\n"
     ]
    },
    {
     "name": "stdout",
     "output_type": "stream",
     "text": [
      "Error in Tabula\n",
      "BBL: 4006160004 Tax Date: 20170602\n"
     ]
    },
    {
     "name": "stderr",
     "output_type": "stream",
     "text": [
      "Error from tabula-java:\n",
      "Error: Error: End-of-File, expected line\n",
      "\n",
      "\n"
     ]
    },
    {
     "name": "stdout",
     "output_type": "stream",
     "text": [
      "Error in Tabula\n",
      "BBL: 4006530090 Tax Date: 20170602\n"
     ]
    },
    {
     "name": "stderr",
     "output_type": "stream",
     "text": [
      "Error from tabula-java:\n",
      "Error: Error: End-of-File, expected line\n",
      "\n",
      "\n"
     ]
    },
    {
     "name": "stdout",
     "output_type": "stream",
     "text": [
      "Error in Tabula\n",
      "BBL: 4006530081 Tax Date: 20170602\n"
     ]
    },
    {
     "name": "stderr",
     "output_type": "stream",
     "text": [
      "Error from tabula-java:\n",
      "Error: Error: End-of-File, expected line\n",
      "\n",
      "\n"
     ]
    },
    {
     "name": "stdout",
     "output_type": "stream",
     "text": [
      "Error in Tabula\n",
      "BBL: 4006610034 Tax Date: 20170602\n"
     ]
    },
    {
     "name": "stderr",
     "output_type": "stream",
     "text": [
      "Error from tabula-java:\n",
      "Error: Error: End-of-File, expected line\n",
      "\n",
      "\n"
     ]
    },
    {
     "name": "stdout",
     "output_type": "stream",
     "text": [
      "Error in Tabula\n",
      "BBL: 4006610037 Tax Date: 20170602\n"
     ]
    },
    {
     "name": "stderr",
     "output_type": "stream",
     "text": [
      "Error from tabula-java:\n",
      "Error: Error: End-of-File, expected line\n",
      "\n",
      "\n"
     ]
    },
    {
     "name": "stdout",
     "output_type": "stream",
     "text": [
      "Error in Tabula\n",
      "BBL: 4006630010 Tax Date: 20170602\n"
     ]
    },
    {
     "name": "stderr",
     "output_type": "stream",
     "text": [
      "Error from tabula-java:\n",
      "Error: Error: End-of-File, expected line\n",
      "\n",
      "\n"
     ]
    },
    {
     "name": "stdout",
     "output_type": "stream",
     "text": [
      "Error in Tabula\n",
      "BBL: 4005680007 Tax Date: 20170602\n"
     ]
    },
    {
     "name": "stderr",
     "output_type": "stream",
     "text": [
      "Error from tabula-java:\n",
      "Error: Error: End-of-File, expected line\n",
      "\n",
      "\n"
     ]
    },
    {
     "name": "stdout",
     "output_type": "stream",
     "text": [
      "Error in Tabula\n",
      "BBL: 4005680007 Tax Date: 20170602\n"
     ]
    },
    {
     "name": "stderr",
     "output_type": "stream",
     "text": [
      "Error from tabula-java:\n",
      "Error: Error: End-of-File, expected line\n",
      "\n",
      "\n"
     ]
    },
    {
     "name": "stdout",
     "output_type": "stream",
     "text": [
      "Error in Tabula\n",
      "BBL: 4006290009 Tax Date: 20170602\n"
     ]
    },
    {
     "name": "stderr",
     "output_type": "stream",
     "text": [
      "Error from tabula-java:\n",
      "Error: Error: End-of-File, expected line\n",
      "\n",
      "\n"
     ]
    },
    {
     "name": "stdout",
     "output_type": "stream",
     "text": [
      "Error in Tabula\n",
      "BBL: 4006290009 Tax Date: 20170602\n"
     ]
    },
    {
     "name": "stderr",
     "output_type": "stream",
     "text": [
      "Error from tabula-java:\n",
      "Error: Error: End-of-File, expected line\n",
      "\n",
      "\n"
     ]
    },
    {
     "name": "stdout",
     "output_type": "stream",
     "text": [
      "Error in Tabula\n",
      "BBL: 4006590068 Tax Date: 20170602\n"
     ]
    },
    {
     "name": "stderr",
     "output_type": "stream",
     "text": [
      "Error from tabula-java:\n",
      "Error: Error: End-of-File, expected line\n",
      "\n",
      "\n"
     ]
    },
    {
     "name": "stdout",
     "output_type": "stream",
     "text": [
      "Error in Tabula\n",
      "BBL: 4006500081 Tax Date: 20170602\n"
     ]
    },
    {
     "name": "stderr",
     "output_type": "stream",
     "text": [
      "Error from tabula-java:\n",
      "Error: Error: End-of-File, expected line\n",
      "\n",
      "\n"
     ]
    },
    {
     "name": "stdout",
     "output_type": "stream",
     "text": [
      "Error in Tabula\n",
      "BBL: 4006500081 Tax Date: 20170602\n"
     ]
    },
    {
     "name": "stderr",
     "output_type": "stream",
     "text": [
      "Error from tabula-java:\n",
      "Error: Error: End-of-File, expected line\n",
      "\n",
      "\n"
     ]
    },
    {
     "name": "stdout",
     "output_type": "stream",
     "text": [
      "Error in Tabula\n",
      "BBL: 4006520010 Tax Date: 20170602\n"
     ]
    },
    {
     "name": "stderr",
     "output_type": "stream",
     "text": [
      "Error from tabula-java:\n",
      "Error: Error: End-of-File, expected line\n",
      "\n",
      "\n"
     ]
    },
    {
     "name": "stdout",
     "output_type": "stream",
     "text": [
      "Error in Tabula\n",
      "BBL: 4006160003 Tax Date: 20170602\n"
     ]
    },
    {
     "name": "stderr",
     "output_type": "stream",
     "text": [
      "Error from tabula-java:\n",
      "Error: Error: End-of-File, expected line\n",
      "\n",
      "\n"
     ]
    },
    {
     "name": "stdout",
     "output_type": "stream",
     "text": [
      "Error in Tabula\n",
      "BBL: 4005670029 Tax Date: 20170602\n"
     ]
    },
    {
     "name": "stderr",
     "output_type": "stream",
     "text": [
      "Error from tabula-java:\n",
      "Error: Error: End-of-File, expected line\n",
      "\n",
      "\n"
     ]
    },
    {
     "name": "stdout",
     "output_type": "stream",
     "text": [
      "Error in Tabula\n",
      "BBL: 4005670029 Tax Date: 20170602\n"
     ]
    },
    {
     "name": "stderr",
     "output_type": "stream",
     "text": [
      "Error from tabula-java:\n",
      "Error: Error: End-of-File, expected line\n",
      "\n",
      "\n"
     ]
    },
    {
     "name": "stdout",
     "output_type": "stream",
     "text": [
      "Error in Tabula\n",
      "BBL: 4005980023 Tax Date: 20170602\n"
     ]
    },
    {
     "name": "stderr",
     "output_type": "stream",
     "text": [
      "Error from tabula-java:\n",
      "Error: Error: End-of-File, expected line\n",
      "\n",
      "\n"
     ]
    },
    {
     "name": "stdout",
     "output_type": "stream",
     "text": [
      "Error in Tabula\n",
      "BBL: 4006530089 Tax Date: 20170602\n"
     ]
    },
    {
     "name": "stderr",
     "output_type": "stream",
     "text": [
      "Error from tabula-java:\n",
      "Error: Error: End-of-File, expected line\n",
      "\n",
      "\n"
     ]
    },
    {
     "name": "stdout",
     "output_type": "stream",
     "text": [
      "Error in Tabula\n",
      "BBL: 4006530089 Tax Date: 20170602\n"
     ]
    },
    {
     "name": "stderr",
     "output_type": "stream",
     "text": [
      "Error from tabula-java:\n",
      "Error: Error: End-of-File, expected line\n",
      "\n",
      "\n"
     ]
    },
    {
     "name": "stdout",
     "output_type": "stream",
     "text": [
      "Error in Tabula\n",
      "BBL: 4008350012 Tax Date: 20170602\n"
     ]
    },
    {
     "name": "stderr",
     "output_type": "stream",
     "text": [
      "Error from tabula-java:\n",
      "Error: Error: End-of-File, expected line\n",
      "\n",
      "\n"
     ]
    },
    {
     "name": "stdout",
     "output_type": "stream",
     "text": [
      "Error in Tabula\n",
      "BBL: 4008040123 Tax Date: 20170602\n"
     ]
    },
    {
     "name": "stderr",
     "output_type": "stream",
     "text": [
      "Error from tabula-java:\n",
      "Error: Error: End-of-File, expected line\n",
      "\n",
      "\n"
     ]
    },
    {
     "name": "stdout",
     "output_type": "stream",
     "text": [
      "Error in Tabula\n",
      "BBL: 4006150023 Tax Date: 20170602\n"
     ]
    },
    {
     "name": "stderr",
     "output_type": "stream",
     "text": [
      "Error from tabula-java:\n",
      "Error: Error: End-of-File, expected line\n",
      "\n",
      "\n"
     ]
    },
    {
     "name": "stdout",
     "output_type": "stream",
     "text": [
      "Error in Tabula\n",
      "BBL: 4006250084 Tax Date: 20170602\n"
     ]
    },
    {
     "name": "stderr",
     "output_type": "stream",
     "text": [
      "Error from tabula-java:\n",
      "Error: Error: End-of-File, expected line\n",
      "\n",
      "\n"
     ]
    },
    {
     "name": "stdout",
     "output_type": "stream",
     "text": [
      "Error in Tabula\n",
      "BBL: 4005150001 Tax Date: 20170602\n"
     ]
    },
    {
     "name": "stderr",
     "output_type": "stream",
     "text": [
      "Error from tabula-java:\n",
      "Error: Error: End-of-File, expected line\n",
      "\n",
      "\n"
     ]
    },
    {
     "name": "stdout",
     "output_type": "stream",
     "text": [
      "Error in Tabula\n",
      "BBL: 4008390019 Tax Date: 20170602\n"
     ]
    },
    {
     "name": "stderr",
     "output_type": "stream",
     "text": [
      "Error from tabula-java:\n",
      "Error: Error: End-of-File, expected line\n",
      "\n",
      "\n"
     ]
    },
    {
     "name": "stdout",
     "output_type": "stream",
     "text": [
      "Error in Tabula\n",
      "BBL: 4006290010 Tax Date: 20170602\n"
     ]
    },
    {
     "name": "stderr",
     "output_type": "stream",
     "text": [
      "Error from tabula-java:\n",
      "Error: Error: End-of-File, expected line\n",
      "\n",
      "\n"
     ]
    },
    {
     "name": "stdout",
     "output_type": "stream",
     "text": [
      "Error in Tabula\n",
      "BBL: 4005520018 Tax Date: 20170602\n"
     ]
    },
    {
     "name": "stderr",
     "output_type": "stream",
     "text": [
      "Error from tabula-java:\n",
      "Error: Error: End-of-File, expected line\n",
      "\n",
      "\n"
     ]
    },
    {
     "name": "stdout",
     "output_type": "stream",
     "text": [
      "Error in Tabula\n",
      "BBL: 4006610003 Tax Date: 20170602\n"
     ]
    },
    {
     "name": "stderr",
     "output_type": "stream",
     "text": [
      "Error from tabula-java:\n",
      "Error: Error: End-of-File, expected line\n",
      "\n",
      "\n"
     ]
    },
    {
     "name": "stdout",
     "output_type": "stream",
     "text": [
      "Error in Tabula\n",
      "BBL: 4006300018 Tax Date: 20170602\n"
     ]
    },
    {
     "name": "stderr",
     "output_type": "stream",
     "text": [
      "Error from tabula-java:\n",
      "Error: Error: End-of-File, expected line\n",
      "\n",
      "\n"
     ]
    },
    {
     "name": "stdout",
     "output_type": "stream",
     "text": [
      "Error in Tabula\n",
      "BBL: 4005170021 Tax Date: 20170602\n"
     ]
    },
    {
     "name": "stderr",
     "output_type": "stream",
     "text": [
      "Error from tabula-java:\n",
      "Error: Error: End-of-File, expected line\n",
      "\n",
      "\n"
     ]
    },
    {
     "name": "stdout",
     "output_type": "stream",
     "text": [
      "Error in Tabula\n",
      "BBL: 4005170021 Tax Date: 20170602\n"
     ]
    },
    {
     "name": "stderr",
     "output_type": "stream",
     "text": [
      "Error from tabula-java:\n",
      "Error: Error: End-of-File, expected line\n",
      "\n",
      "\n"
     ]
    },
    {
     "name": "stdout",
     "output_type": "stream",
     "text": [
      "Error in Tabula\n",
      "BBL: 4005690032 Tax Date: 20170602\n"
     ]
    },
    {
     "name": "stderr",
     "output_type": "stream",
     "text": [
      "Error from tabula-java:\n",
      "Error: Error: End-of-File, expected line\n",
      "\n",
      "\n"
     ]
    },
    {
     "name": "stdout",
     "output_type": "stream",
     "text": [
      "Error in Tabula\n",
      "BBL: 4005980055 Tax Date: 20170602\n"
     ]
    },
    {
     "name": "stderr",
     "output_type": "stream",
     "text": [
      "Error from tabula-java:\n",
      "Error: Error: End-of-File, expected line\n",
      "\n",
      "\n"
     ]
    },
    {
     "name": "stdout",
     "output_type": "stream",
     "text": [
      "Error in Tabula\n",
      "BBL: 4006150083 Tax Date: 20170602\n"
     ]
    },
    {
     "name": "stderr",
     "output_type": "stream",
     "text": [
      "Error from tabula-java:\n",
      "Error: Error: End-of-File, expected line\n",
      "\n",
      "\n"
     ]
    },
    {
     "name": "stdout",
     "output_type": "stream",
     "text": [
      "Error in Tabula\n",
      "BBL: 4006590077 Tax Date: 20170602\n"
     ]
    },
    {
     "name": "stderr",
     "output_type": "stream",
     "text": [
      "Error from tabula-java:\n",
      "Error: Error: End-of-File, expected line\n",
      "\n",
      "\n"
     ]
    },
    {
     "name": "stdout",
     "output_type": "stream",
     "text": [
      "Error in Tabula\n",
      "BBL: 4006290011 Tax Date: 20170602\n"
     ]
    },
    {
     "name": "stderr",
     "output_type": "stream",
     "text": [
      "Error from tabula-java:\n",
      "Error: Error: End-of-File, expected line\n",
      "\n",
      "\n"
     ]
    },
    {
     "name": "stdout",
     "output_type": "stream",
     "text": [
      "Error in Tabula\n",
      "BBL: 4006160019 Tax Date: 20170602\n"
     ]
    },
    {
     "name": "stderr",
     "output_type": "stream",
     "text": [
      "Error from tabula-java:\n",
      "Error: Error: End-of-File, expected line\n",
      "\n",
      "\n"
     ]
    },
    {
     "name": "stdout",
     "output_type": "stream",
     "text": [
      "Error in Tabula\n",
      "BBL: 4006160011 Tax Date: 20170602\n"
     ]
    },
    {
     "name": "stderr",
     "output_type": "stream",
     "text": [
      "Error from tabula-java:\n",
      "Error: Error: End-of-File, expected line\n",
      "\n",
      "\n"
     ]
    },
    {
     "name": "stdout",
     "output_type": "stream",
     "text": [
      "Error in Tabula\n",
      "BBL: 4005690027 Tax Date: 20170602\n"
     ]
    },
    {
     "name": "stderr",
     "output_type": "stream",
     "text": [
      "Error from tabula-java:\n",
      "Error: Error: End-of-File, expected line\n",
      "\n",
      "\n"
     ]
    },
    {
     "name": "stdout",
     "output_type": "stream",
     "text": [
      "Error in Tabula\n",
      "BBL: 4005690027 Tax Date: 20170602\n"
     ]
    },
    {
     "name": "stderr",
     "output_type": "stream",
     "text": [
      "Error from tabula-java:\n",
      "Error: Error: End-of-File, expected line\n",
      "\n",
      "\n"
     ]
    },
    {
     "name": "stdout",
     "output_type": "stream",
     "text": [
      "Error in Tabula\n",
      "BBL: 4005510003 Tax Date: 20170602\n"
     ]
    },
    {
     "name": "stderr",
     "output_type": "stream",
     "text": [
      "Error from tabula-java:\n",
      "Error: Error: End-of-File, expected line\n",
      "\n",
      "\n"
     ]
    },
    {
     "name": "stdout",
     "output_type": "stream",
     "text": [
      "Error in Tabula\n",
      "BBL: 4005930021 Tax Date: 20170602\n"
     ]
    },
    {
     "name": "stderr",
     "output_type": "stream",
     "text": [
      "Error from tabula-java:\n",
      "Error: Error: End-of-File, expected line\n",
      "\n",
      "\n"
     ]
    },
    {
     "name": "stdout",
     "output_type": "stream",
     "text": [
      "Error in Tabula\n",
      "BBL: 4005730060 Tax Date: 20170602\n"
     ]
    },
    {
     "name": "stderr",
     "output_type": "stream",
     "text": [
      "Error from tabula-java:\n",
      "Error: Error: End-of-File, expected line\n",
      "\n",
      "\n"
     ]
    },
    {
     "name": "stdout",
     "output_type": "stream",
     "text": [
      "Error in Tabula\n",
      "BBL: 4005940034 Tax Date: 20170602\n"
     ]
    },
    {
     "name": "stderr",
     "output_type": "stream",
     "text": [
      "Error from tabula-java:\n",
      "Error: Error: End-of-File, expected line\n",
      "\n",
      "\n"
     ]
    },
    {
     "name": "stdout",
     "output_type": "stream",
     "text": [
      "Error in Tabula\n",
      "BBL: 4006520046 Tax Date: 20170602\n"
     ]
    },
    {
     "name": "stderr",
     "output_type": "stream",
     "text": [
      "Error from tabula-java:\n",
      "Error: Error: End-of-File, expected line\n",
      "\n",
      "\n"
     ]
    },
    {
     "name": "stdout",
     "output_type": "stream",
     "text": [
      "Error in Tabula\n",
      "BBL: 4005980076 Tax Date: 20170602\n"
     ]
    },
    {
     "name": "stderr",
     "output_type": "stream",
     "text": [
      "Error from tabula-java:\n",
      "Error: Error: End-of-File, expected line\n",
      "\n",
      "\n"
     ]
    },
    {
     "name": "stdout",
     "output_type": "stream",
     "text": [
      "Error in Tabula\n",
      "BBL: 4008870038 Tax Date: 20170602\n"
     ]
    },
    {
     "name": "stderr",
     "output_type": "stream",
     "text": [
      "Error from tabula-java:\n",
      "Error: Error: End-of-File, expected line\n",
      "\n",
      "\n"
     ]
    },
    {
     "name": "stdout",
     "output_type": "stream",
     "text": [
      "Error in Tabula\n",
      "BBL: 4006590078 Tax Date: 20170602\n"
     ]
    },
    {
     "name": "stderr",
     "output_type": "stream",
     "text": [
      "Error from tabula-java:\n",
      "Error: Error: End-of-File, expected line\n",
      "\n",
      "\n"
     ]
    },
    {
     "name": "stdout",
     "output_type": "stream",
     "text": [
      "Error in Tabula\n",
      "BBL: 4006600031 Tax Date: 20170602\n"
     ]
    },
    {
     "name": "stderr",
     "output_type": "stream",
     "text": [
      "Error from tabula-java:\n",
      "Error: Error: End-of-File, expected line\n",
      "\n",
      "\n"
     ]
    },
    {
     "name": "stdout",
     "output_type": "stream",
     "text": [
      "Error in Tabula\n",
      "BBL: 4006490069 Tax Date: 20170602\n"
     ]
    },
    {
     "name": "stderr",
     "output_type": "stream",
     "text": [
      "Error from tabula-java:\n",
      "Error: Error: End-of-File, expected line\n",
      "\n",
      "\n"
     ]
    },
    {
     "name": "stdout",
     "output_type": "stream",
     "text": [
      "Error in Tabula\n",
      "BBL: 4006330003 Tax Date: 20170602\n"
     ]
    },
    {
     "name": "stderr",
     "output_type": "stream",
     "text": [
      "Error from tabula-java:\n",
      "Error: Error: End-of-File, expected line\n",
      "\n",
      "\n"
     ]
    },
    {
     "name": "stdout",
     "output_type": "stream",
     "text": [
      "Error in Tabula\n",
      "BBL: 4006160030 Tax Date: 20170602\n"
     ]
    },
    {
     "name": "stderr",
     "output_type": "stream",
     "text": [
      "Error from tabula-java:\n",
      "Error: Error: End-of-File, expected line\n",
      "\n",
      "\n"
     ]
    },
    {
     "name": "stdout",
     "output_type": "stream",
     "text": [
      "Error in Tabula\n",
      "BBL: 4008840005 Tax Date: 20170602\n"
     ]
    },
    {
     "name": "stderr",
     "output_type": "stream",
     "text": [
      "Error from tabula-java:\n",
      "Error: Error: End-of-File, expected line\n",
      "\n",
      "\n"
     ]
    },
    {
     "name": "stdout",
     "output_type": "stream",
     "text": [
      "Error in Tabula\n",
      "BBL: 4005970124 Tax Date: 20170602\n"
     ]
    },
    {
     "name": "stderr",
     "output_type": "stream",
     "text": [
      "Error from tabula-java:\n",
      "Error: Error: End-of-File, expected line\n",
      "\n",
      "\n"
     ]
    },
    {
     "name": "stdout",
     "output_type": "stream",
     "text": [
      "Error in Tabula\n",
      "BBL: 4005710019 Tax Date: 20170602\n"
     ]
    },
    {
     "name": "stderr",
     "output_type": "stream",
     "text": [
      "Error from tabula-java:\n",
      "Error: Error: End-of-File, expected line\n",
      "\n",
      "\n"
     ]
    },
    {
     "name": "stdout",
     "output_type": "stream",
     "text": [
      "Error in Tabula\n",
      "BBL: 4006500080 Tax Date: 20170602\n"
     ]
    },
    {
     "name": "stderr",
     "output_type": "stream",
     "text": [
      "Error from tabula-java:\n",
      "Error: Error: End-of-File, expected line\n",
      "\n",
      "\n"
     ]
    },
    {
     "name": "stdout",
     "output_type": "stream",
     "text": [
      "Error in Tabula\n",
      "BBL: 4006520062 Tax Date: 20170602\n"
     ]
    },
    {
     "name": "stderr",
     "output_type": "stream",
     "text": [
      "Error from tabula-java:\n",
      "Error: Error: End-of-File, expected line\n",
      "\n",
      "\n"
     ]
    },
    {
     "name": "stdout",
     "output_type": "stream",
     "text": [
      "Error in Tabula\n",
      "BBL: 4005970223 Tax Date: 20170602\n"
     ]
    },
    {
     "name": "stderr",
     "output_type": "stream",
     "text": [
      "Error from tabula-java:\n",
      "Error: Error: End-of-File, expected line\n",
      "\n",
      "\n"
     ]
    },
    {
     "name": "stdout",
     "output_type": "stream",
     "text": [
      "Error in Tabula\n",
      "BBL: 4006530075 Tax Date: 20170602\n"
     ]
    },
    {
     "name": "stderr",
     "output_type": "stream",
     "text": [
      "Error from tabula-java:\n",
      "Error: Error: End-of-File, expected line\n",
      "\n",
      "\n"
     ]
    },
    {
     "name": "stdout",
     "output_type": "stream",
     "text": [
      "Error in Tabula\n",
      "BBL: 4005980001 Tax Date: 20170602\n"
     ]
    },
    {
     "name": "stderr",
     "output_type": "stream",
     "text": [
      "Error from tabula-java:\n",
      "Error: Error: End-of-File, expected line\n",
      "\n",
      "\n"
     ]
    },
    {
     "name": "stdout",
     "output_type": "stream",
     "text": [
      "Error in Tabula\n",
      "BBL: 4006150022 Tax Date: 20170602\n"
     ]
    },
    {
     "name": "stderr",
     "output_type": "stream",
     "text": [
      "Error from tabula-java:\n",
      "Error: Error: End-of-File, expected line\n",
      "\n",
      "\n"
     ]
    },
    {
     "name": "stdout",
     "output_type": "stream",
     "text": [
      "Error in Tabula\n",
      "BBL: 4005740035 Tax Date: 20170602\n"
     ]
    },
    {
     "name": "stderr",
     "output_type": "stream",
     "text": [
      "Error from tabula-java:\n",
      "Error: Error: End-of-File, expected line\n",
      "\n",
      "\n"
     ]
    },
    {
     "name": "stdout",
     "output_type": "stream",
     "text": [
      "Error in Tabula\n",
      "BBL: 4005920007 Tax Date: 20170602\n"
     ]
    },
    {
     "name": "stderr",
     "output_type": "stream",
     "text": [
      "Error from tabula-java:\n",
      "Error: Error: End-of-File, expected line\n",
      "\n",
      "\n"
     ]
    },
    {
     "name": "stdout",
     "output_type": "stream",
     "text": [
      "Error in Tabula\n",
      "BBL: 4006520011 Tax Date: 20170602\n"
     ]
    },
    {
     "name": "stderr",
     "output_type": "stream",
     "text": [
      "Error from tabula-java:\n",
      "Error: Error: End-of-File, expected line\n",
      "\n",
      "\n"
     ]
    },
    {
     "name": "stdout",
     "output_type": "stream",
     "text": [
      "Error in Tabula\n",
      "BBL: 4005740135 Tax Date: 20170602\n"
     ]
    },
    {
     "name": "stderr",
     "output_type": "stream",
     "text": [
      "Error from tabula-java:\n",
      "Error: Error: End-of-File, expected line\n",
      "\n",
      "\n"
     ]
    },
    {
     "name": "stdout",
     "output_type": "stream",
     "text": [
      "Error in Tabula\n",
      "BBL: 4005700007 Tax Date: 20170602\n"
     ]
    },
    {
     "name": "stderr",
     "output_type": "stream",
     "text": [
      "Error from tabula-java:\n",
      "Error: Error: End-of-File, expected line\n",
      "\n",
      "\n"
     ]
    },
    {
     "name": "stdout",
     "output_type": "stream",
     "text": [
      "Error in Tabula\n",
      "BBL: 4006600027 Tax Date: 20170602\n"
     ]
    },
    {
     "name": "stderr",
     "output_type": "stream",
     "text": [
      "Error from tabula-java:\n",
      "Error: Error: End-of-File, expected line\n",
      "\n",
      "\n"
     ]
    },
    {
     "name": "stdout",
     "output_type": "stream",
     "text": [
      "Error in Tabula\n",
      "BBL: 4008400049 Tax Date: 20170602\n"
     ]
    },
    {
     "name": "stderr",
     "output_type": "stream",
     "text": [
      "Error from tabula-java:\n",
      "Error: Error: End-of-File, expected line\n",
      "\n",
      "\n"
     ]
    },
    {
     "name": "stdout",
     "output_type": "stream",
     "text": [
      "Error in Tabula\n",
      "BBL: 4006190057 Tax Date: 20170602\n"
     ]
    },
    {
     "name": "stderr",
     "output_type": "stream",
     "text": [
      "Error from tabula-java:\n",
      "Error: Error: End-of-File, expected line\n",
      "\n",
      "\n"
     ]
    },
    {
     "name": "stdout",
     "output_type": "stream",
     "text": [
      "Error in Tabula\n",
      "BBL: 4005940155 Tax Date: 20170602\n"
     ]
    },
    {
     "name": "stderr",
     "output_type": "stream",
     "text": [
      "Error from tabula-java:\n",
      "Error: Error: End-of-File, expected line\n",
      "\n",
      "\n"
     ]
    },
    {
     "name": "stdout",
     "output_type": "stream",
     "text": [
      "Error in Tabula\n",
      "BBL: 4005780026 Tax Date: 20160603\n"
     ]
    },
    {
     "name": "stderr",
     "output_type": "stream",
     "text": [
      "Error from tabula-java:\n",
      "Error: Error: End-of-File, expected line\n",
      "\n",
      "\n"
     ]
    },
    {
     "name": "stdout",
     "output_type": "stream",
     "text": [
      "Error in Tabula\n",
      "BBL: 4006600024 Tax Date: 20160603\n"
     ]
    },
    {
     "name": "stderr",
     "output_type": "stream",
     "text": [
      "Error from tabula-java:\n",
      "Error: Error: End-of-File, expected line\n",
      "\n",
      "\n"
     ]
    },
    {
     "name": "stdout",
     "output_type": "stream",
     "text": [
      "Error in Tabula\n",
      "BBL: 4008610044 Tax Date: 20160603\n"
     ]
    },
    {
     "name": "stderr",
     "output_type": "stream",
     "text": [
      "Error from tabula-java:\n",
      "Error: Error: End-of-File, expected line\n",
      "\n",
      "\n"
     ]
    },
    {
     "name": "stdout",
     "output_type": "stream",
     "text": [
      "Error in Tabula\n",
      "BBL: 4005930011 Tax Date: 20160603\n"
     ]
    },
    {
     "name": "stderr",
     "output_type": "stream",
     "text": [
      "Error from tabula-java:\n",
      "Error: Error: End-of-File, expected line\n",
      "\n",
      "\n"
     ]
    },
    {
     "name": "stdout",
     "output_type": "stream",
     "text": [
      "Error in Tabula\n",
      "BBL: 4005940055 Tax Date: 20160603\n"
     ]
    },
    {
     "name": "stderr",
     "output_type": "stream",
     "text": [
      "Error from tabula-java:\n",
      "Error: Error: End-of-File, expected line\n",
      "\n",
      "\n"
     ]
    },
    {
     "name": "stdout",
     "output_type": "stream",
     "text": [
      "Error in Tabula\n",
      "BBL: 4006220019 Tax Date: 20160603\n"
     ]
    },
    {
     "name": "stderr",
     "output_type": "stream",
     "text": [
      "Error from tabula-java:\n",
      "Error: Error: End-of-File, expected line\n",
      "\n",
      "\n"
     ]
    },
    {
     "name": "stdout",
     "output_type": "stream",
     "text": [
      "Error in Tabula\n",
      "BBL: 4006220019 Tax Date: 20160603\n"
     ]
    },
    {
     "name": "stderr",
     "output_type": "stream",
     "text": [
      "Error from tabula-java:\n",
      "Error: Error: End-of-File, expected line\n",
      "\n",
      "\n"
     ]
    },
    {
     "name": "stdout",
     "output_type": "stream",
     "text": [
      "Error in Tabula\n",
      "BBL: 4005490036 Tax Date: 20160603\n"
     ]
    },
    {
     "name": "stderr",
     "output_type": "stream",
     "text": [
      "Error from tabula-java:\n",
      "Error: Error: End-of-File, expected line\n",
      "\n",
      "\n"
     ]
    },
    {
     "name": "stdout",
     "output_type": "stream",
     "text": [
      "Error in Tabula\n",
      "BBL: 4006530074 Tax Date: 20160603\n"
     ]
    },
    {
     "name": "stderr",
     "output_type": "stream",
     "text": [
      "Error from tabula-java:\n",
      "Error: Error: End-of-File, expected line\n",
      "\n",
      "\n"
     ]
    },
    {
     "name": "stdout",
     "output_type": "stream",
     "text": [
      "Error in Tabula\n",
      "BBL: 4008860030 Tax Date: 20160603\n"
     ]
    },
    {
     "name": "stderr",
     "output_type": "stream",
     "text": [
      "Error from tabula-java:\n",
      "Error: Error: End-of-File, expected line\n",
      "\n",
      "\n"
     ]
    },
    {
     "name": "stdout",
     "output_type": "stream",
     "text": [
      "Error in Tabula\n",
      "BBL: 4006530020 Tax Date: 20160603\n"
     ]
    },
    {
     "name": "stderr",
     "output_type": "stream",
     "text": [
      "Error from tabula-java:\n",
      "Error: Error: End-of-File, expected line\n",
      "\n",
      "\n"
     ]
    },
    {
     "name": "stdout",
     "output_type": "stream",
     "text": [
      "Error in Tabula\n",
      "BBL: 4007110004 Tax Date: 20160603\n"
     ]
    },
    {
     "name": "stderr",
     "output_type": "stream",
     "text": [
      "Error from tabula-java:\n",
      "Error: Error: End-of-File, expected line\n",
      "\n",
      "\n"
     ]
    },
    {
     "name": "stdout",
     "output_type": "stream",
     "text": [
      "Error in Tabula\n",
      "BBL: 4006500069 Tax Date: 20160603\n"
     ]
    },
    {
     "name": "stderr",
     "output_type": "stream",
     "text": [
      "Error from tabula-java:\n",
      "Error: Error: End-of-File, expected line\n",
      "\n",
      "\n"
     ]
    },
    {
     "name": "stdout",
     "output_type": "stream",
     "text": [
      "Error in Tabula\n",
      "BBL: 4006330051 Tax Date: 20160603\n"
     ]
    },
    {
     "name": "stderr",
     "output_type": "stream",
     "text": [
      "Error from tabula-java:\n",
      "Error: Error: End-of-File, expected line\n",
      "\n",
      "\n"
     ]
    },
    {
     "name": "stdout",
     "output_type": "stream",
     "text": [
      "Error in Tabula\n",
      "BBL: 4005970120 Tax Date: 20160603\n"
     ]
    },
    {
     "name": "stderr",
     "output_type": "stream",
     "text": [
      "Error from tabula-java:\n",
      "Error: Error: End-of-File, expected line\n",
      "\n",
      "\n"
     ]
    },
    {
     "name": "stdout",
     "output_type": "stream",
     "text": [
      "Error in Tabula\n",
      "BBL: 4008720012 Tax Date: 20160603\n"
     ]
    },
    {
     "name": "stderr",
     "output_type": "stream",
     "text": [
      "Error from tabula-java:\n",
      "Error: Error: End-of-File, expected line\n",
      "\n",
      "\n"
     ]
    },
    {
     "name": "stdout",
     "output_type": "stream",
     "text": [
      "Error in Tabula\n",
      "BBL: 4006300011 Tax Date: 20160603\n"
     ]
    },
    {
     "name": "stderr",
     "output_type": "stream",
     "text": [
      "Error from tabula-java:\n",
      "Error: Error: End-of-File, expected line\n",
      "\n",
      "\n"
     ]
    },
    {
     "name": "stdout",
     "output_type": "stream",
     "text": [
      "Error in Tabula\n",
      "BBL: 4005940029 Tax Date: 20160603\n"
     ]
    },
    {
     "name": "stderr",
     "output_type": "stream",
     "text": [
      "Error from tabula-java:\n",
      "Error: Error: End-of-File, expected line\n",
      "\n",
      "\n"
     ]
    },
    {
     "name": "stdout",
     "output_type": "stream",
     "text": [
      "Error in Tabula\n",
      "BBL: 4006330082 Tax Date: 20160603\n"
     ]
    },
    {
     "name": "stderr",
     "output_type": "stream",
     "text": [
      "Error from tabula-java:\n",
      "Error: Error: End-of-File, expected line\n",
      "\n",
      "\n"
     ]
    },
    {
     "name": "stdout",
     "output_type": "stream",
     "text": [
      "Error in Tabula\n",
      "BBL: 4005740036 Tax Date: 20160603\n"
     ]
    },
    {
     "name": "stderr",
     "output_type": "stream",
     "text": [
      "Error from tabula-java:\n",
      "Error: Error: End-of-File, expected line\n",
      "\n",
      "\n"
     ]
    },
    {
     "name": "stdout",
     "output_type": "stream",
     "text": [
      "Error in Tabula\n",
      "BBL: 4005740037 Tax Date: 20160603\n"
     ]
    },
    {
     "name": "stderr",
     "output_type": "stream",
     "text": [
      "Error from tabula-java:\n",
      "Error: Error: End-of-File, expected line\n",
      "\n",
      "\n"
     ]
    },
    {
     "name": "stdout",
     "output_type": "stream",
     "text": [
      "Error in Tabula\n",
      "BBL: 4005390007 Tax Date: 20160603\n"
     ]
    },
    {
     "name": "stderr",
     "output_type": "stream",
     "text": [
      "Error from tabula-java:\n",
      "Error: Error: End-of-File, expected line\n",
      "\n",
      "\n"
     ]
    },
    {
     "name": "stdout",
     "output_type": "stream",
     "text": [
      "Error in Tabula\n",
      "BBL: 4008920113 Tax Date: 20160603\n"
     ]
    },
    {
     "name": "stderr",
     "output_type": "stream",
     "text": [
      "Error from tabula-java:\n",
      "Error: Error: End-of-File, expected line\n",
      "\n",
      "\n"
     ]
    },
    {
     "name": "stdout",
     "output_type": "stream",
     "text": [
      "Error in Tabula\n",
      "BBL: 4008920113 Tax Date: 20160603\n"
     ]
    },
    {
     "name": "stderr",
     "output_type": "stream",
     "text": [
      "Error from tabula-java:\n",
      "Error: Error: End-of-File, expected line\n",
      "\n",
      "\n"
     ]
    },
    {
     "name": "stdout",
     "output_type": "stream",
     "text": [
      "Error in Tabula\n",
      "BBL: 4006540022 Tax Date: 20160603\n"
     ]
    },
    {
     "name": "stderr",
     "output_type": "stream",
     "text": [
      "Error from tabula-java:\n",
      "Error: Error: End-of-File, expected line\n",
      "\n",
      "\n"
     ]
    },
    {
     "name": "stdout",
     "output_type": "stream",
     "text": [
      "Error in Tabula\n",
      "BBL: 4006540022 Tax Date: 20160603\n"
     ]
    },
    {
     "name": "stderr",
     "output_type": "stream",
     "text": [
      "Error from tabula-java:\n",
      "Error: Error: End-of-File, expected line\n",
      "\n",
      "\n"
     ]
    },
    {
     "name": "stdout",
     "output_type": "stream",
     "text": [
      "Error in Tabula\n",
      "BBL: 4006550012 Tax Date: 20160603\n"
     ]
    },
    {
     "name": "stderr",
     "output_type": "stream",
     "text": [
      "Error from tabula-java:\n",
      "Error: Error: End-of-File, expected line\n",
      "\n",
      "\n"
     ]
    },
    {
     "name": "stdout",
     "output_type": "stream",
     "text": [
      "Error in Tabula\n",
      "BBL: 4005720030 Tax Date: 20160603\n"
     ]
    },
    {
     "name": "stderr",
     "output_type": "stream",
     "text": [
      "Error from tabula-java:\n",
      "Error: Error: End-of-File, expected line\n",
      "\n",
      "\n"
     ]
    },
    {
     "name": "stdout",
     "output_type": "stream",
     "text": [
      "Error in Tabula\n",
      "BBL: 4005770015 Tax Date: 20160603\n"
     ]
    },
    {
     "name": "stderr",
     "output_type": "stream",
     "text": [
      "Error from tabula-java:\n",
      "Error: Error: End-of-File, expected line\n",
      "\n",
      "\n"
     ]
    },
    {
     "name": "stdout",
     "output_type": "stream",
     "text": [
      "Error in Tabula\n",
      "BBL: 4005970127 Tax Date: 20160603\n"
     ]
    },
    {
     "name": "stderr",
     "output_type": "stream",
     "text": [
      "Error from tabula-java:\n",
      "Error: Error: End-of-File, expected line\n",
      "\n",
      "\n"
     ]
    },
    {
     "name": "stdout",
     "output_type": "stream",
     "text": [
      "Error in Tabula\n",
      "BBL: 4005970118 Tax Date: 20160603\n"
     ]
    },
    {
     "name": "stderr",
     "output_type": "stream",
     "text": [
      "Error from tabula-java:\n",
      "Error: Error: End-of-File, expected line\n",
      "\n",
      "\n"
     ]
    },
    {
     "name": "stdout",
     "output_type": "stream",
     "text": [
      "Error in Tabula\n",
      "BBL: 4005970119 Tax Date: 20160603\n"
     ]
    },
    {
     "name": "stderr",
     "output_type": "stream",
     "text": [
      "Error from tabula-java:\n",
      "Error: Error: End-of-File, expected line\n",
      "\n",
      "\n"
     ]
    },
    {
     "name": "stdout",
     "output_type": "stream",
     "text": [
      "Error in Tabula\n",
      "BBL: 4005970110 Tax Date: 20160603\n"
     ]
    },
    {
     "name": "stderr",
     "output_type": "stream",
     "text": [
      "Error from tabula-java:\n",
      "Error: Error: End-of-File, expected line\n",
      "\n",
      "\n"
     ]
    },
    {
     "name": "stdout",
     "output_type": "stream",
     "text": [
      "Error in Tabula\n",
      "BBL: 4005970111 Tax Date: 20160603\n"
     ]
    },
    {
     "name": "stderr",
     "output_type": "stream",
     "text": [
      "Error from tabula-java:\n",
      "Error: Error: End-of-File, expected line\n",
      "\n",
      "\n"
     ]
    },
    {
     "name": "stdout",
     "output_type": "stream",
     "text": [
      "Error in Tabula\n",
      "BBL: 4006160004 Tax Date: 20160603\n"
     ]
    },
    {
     "name": "stderr",
     "output_type": "stream",
     "text": [
      "Error from tabula-java:\n",
      "Error: Error: End-of-File, expected line\n",
      "\n",
      "\n"
     ]
    },
    {
     "name": "stdout",
     "output_type": "stream",
     "text": [
      "Error in Tabula\n",
      "BBL: 4006530090 Tax Date: 20160603\n"
     ]
    },
    {
     "name": "stderr",
     "output_type": "stream",
     "text": [
      "Error from tabula-java:\n",
      "Error: Error: End-of-File, expected line\n",
      "\n",
      "\n"
     ]
    },
    {
     "name": "stdout",
     "output_type": "stream",
     "text": [
      "Error in Tabula\n",
      "BBL: 4006530081 Tax Date: 20160603\n"
     ]
    },
    {
     "name": "stderr",
     "output_type": "stream",
     "text": [
      "Error from tabula-java:\n",
      "Error: Error: End-of-File, expected line\n",
      "\n",
      "\n"
     ]
    },
    {
     "name": "stdout",
     "output_type": "stream",
     "text": [
      "Error in Tabula\n",
      "BBL: 4006610034 Tax Date: 20160603\n"
     ]
    },
    {
     "name": "stderr",
     "output_type": "stream",
     "text": [
      "Error from tabula-java:\n",
      "Error: Error: End-of-File, expected line\n",
      "\n",
      "\n"
     ]
    },
    {
     "name": "stdout",
     "output_type": "stream",
     "text": [
      "Error in Tabula\n",
      "BBL: 4006610037 Tax Date: 20160603\n"
     ]
    },
    {
     "name": "stderr",
     "output_type": "stream",
     "text": [
      "Error from tabula-java:\n",
      "Error: Error: End-of-File, expected line\n",
      "\n",
      "\n"
     ]
    },
    {
     "name": "stdout",
     "output_type": "stream",
     "text": [
      "Error in Tabula\n",
      "BBL: 4006630010 Tax Date: 20160603\n"
     ]
    },
    {
     "name": "stderr",
     "output_type": "stream",
     "text": [
      "Error from tabula-java:\n",
      "Error: Error: End-of-File, expected line\n",
      "\n",
      "\n"
     ]
    },
    {
     "name": "stdout",
     "output_type": "stream",
     "text": [
      "Error in Tabula\n",
      "BBL: 4005680007 Tax Date: 20160603\n"
     ]
    },
    {
     "name": "stderr",
     "output_type": "stream",
     "text": [
      "Error from tabula-java:\n",
      "Error: Error: End-of-File, expected line\n",
      "\n",
      "\n"
     ]
    },
    {
     "name": "stdout",
     "output_type": "stream",
     "text": [
      "Error in Tabula\n",
      "BBL: 4005680007 Tax Date: 20160603\n"
     ]
    },
    {
     "name": "stderr",
     "output_type": "stream",
     "text": [
      "Error from tabula-java:\n",
      "Error: Error: End-of-File, expected line\n",
      "\n",
      "\n"
     ]
    },
    {
     "name": "stdout",
     "output_type": "stream",
     "text": [
      "Error in Tabula\n",
      "BBL: 4006290009 Tax Date: 20160603\n"
     ]
    },
    {
     "name": "stderr",
     "output_type": "stream",
     "text": [
      "Error from tabula-java:\n",
      "Error: Error: End-of-File, expected line\n",
      "\n",
      "\n"
     ]
    },
    {
     "name": "stdout",
     "output_type": "stream",
     "text": [
      "Error in Tabula\n",
      "BBL: 4006290009 Tax Date: 20160603\n"
     ]
    },
    {
     "name": "stderr",
     "output_type": "stream",
     "text": [
      "Error from tabula-java:\n",
      "Error: Error: End-of-File, expected line\n",
      "\n",
      "\n"
     ]
    },
    {
     "name": "stdout",
     "output_type": "stream",
     "text": [
      "Error in Tabula\n",
      "BBL: 4006590068 Tax Date: 20160603\n"
     ]
    },
    {
     "name": "stderr",
     "output_type": "stream",
     "text": [
      "Error from tabula-java:\n",
      "Error: Error: End-of-File, expected line\n",
      "\n",
      "\n"
     ]
    },
    {
     "name": "stdout",
     "output_type": "stream",
     "text": [
      "Error in Tabula\n",
      "BBL: 4006500081 Tax Date: 20160603\n"
     ]
    },
    {
     "name": "stderr",
     "output_type": "stream",
     "text": [
      "Error from tabula-java:\n",
      "Error: Error: End-of-File, expected line\n",
      "\n",
      "\n"
     ]
    },
    {
     "name": "stdout",
     "output_type": "stream",
     "text": [
      "Error in Tabula\n",
      "BBL: 4006500081 Tax Date: 20160603\n"
     ]
    },
    {
     "name": "stderr",
     "output_type": "stream",
     "text": [
      "Error from tabula-java:\n",
      "Error: Error: End-of-File, expected line\n",
      "\n",
      "\n"
     ]
    },
    {
     "name": "stdout",
     "output_type": "stream",
     "text": [
      "Error in Tabula\n",
      "BBL: 4006520010 Tax Date: 20160603\n"
     ]
    },
    {
     "name": "stderr",
     "output_type": "stream",
     "text": [
      "Error from tabula-java:\n",
      "Error: Error: End-of-File, expected line\n",
      "\n",
      "\n"
     ]
    },
    {
     "name": "stdout",
     "output_type": "stream",
     "text": [
      "Error in Tabula\n",
      "BBL: 4006160003 Tax Date: 20160603\n"
     ]
    },
    {
     "name": "stderr",
     "output_type": "stream",
     "text": [
      "Error from tabula-java:\n",
      "Error: Error: End-of-File, expected line\n",
      "\n",
      "\n"
     ]
    },
    {
     "name": "stdout",
     "output_type": "stream",
     "text": [
      "Error in Tabula\n",
      "BBL: 4005670029 Tax Date: 20160603\n"
     ]
    },
    {
     "name": "stderr",
     "output_type": "stream",
     "text": [
      "Error from tabula-java:\n",
      "Error: Error: End-of-File, expected line\n",
      "\n",
      "\n"
     ]
    },
    {
     "name": "stdout",
     "output_type": "stream",
     "text": [
      "Error in Tabula\n",
      "BBL: 4005670029 Tax Date: 20160603\n"
     ]
    },
    {
     "name": "stderr",
     "output_type": "stream",
     "text": [
      "Error from tabula-java:\n",
      "Error: Error: End-of-File, expected line\n",
      "\n",
      "\n"
     ]
    },
    {
     "name": "stdout",
     "output_type": "stream",
     "text": [
      "Error in Tabula\n",
      "BBL: 4005980023 Tax Date: 20160603\n"
     ]
    },
    {
     "name": "stderr",
     "output_type": "stream",
     "text": [
      "Error from tabula-java:\n",
      "Error: Error: End-of-File, expected line\n",
      "\n",
      "\n"
     ]
    },
    {
     "name": "stdout",
     "output_type": "stream",
     "text": [
      "Error in Tabula\n",
      "BBL: 4006530089 Tax Date: 20160603\n"
     ]
    },
    {
     "name": "stderr",
     "output_type": "stream",
     "text": [
      "Error from tabula-java:\n",
      "Error: Error: End-of-File, expected line\n",
      "\n",
      "\n"
     ]
    },
    {
     "name": "stdout",
     "output_type": "stream",
     "text": [
      "Error in Tabula\n",
      "BBL: 4006530089 Tax Date: 20160603\n"
     ]
    },
    {
     "name": "stderr",
     "output_type": "stream",
     "text": [
      "Error from tabula-java:\n",
      "Error: Error: End-of-File, expected line\n",
      "\n",
      "\n"
     ]
    },
    {
     "name": "stdout",
     "output_type": "stream",
     "text": [
      "Error in Tabula\n",
      "BBL: 4008350012 Tax Date: 20160603\n"
     ]
    },
    {
     "name": "stderr",
     "output_type": "stream",
     "text": [
      "Error from tabula-java:\n",
      "Error: Error: End-of-File, expected line\n",
      "\n",
      "\n"
     ]
    },
    {
     "name": "stdout",
     "output_type": "stream",
     "text": [
      "Error in Tabula\n",
      "BBL: 4008040123 Tax Date: 20160603\n"
     ]
    },
    {
     "name": "stderr",
     "output_type": "stream",
     "text": [
      "Error from tabula-java:\n",
      "Error: Error: End-of-File, expected line\n",
      "\n",
      "\n"
     ]
    },
    {
     "name": "stdout",
     "output_type": "stream",
     "text": [
      "Error in Tabula\n",
      "BBL: 4006150023 Tax Date: 20160603\n"
     ]
    },
    {
     "name": "stderr",
     "output_type": "stream",
     "text": [
      "Error from tabula-java:\n",
      "Error: Error: End-of-File, expected line\n",
      "\n",
      "\n"
     ]
    },
    {
     "name": "stdout",
     "output_type": "stream",
     "text": [
      "Error in Tabula\n",
      "BBL: 4006250084 Tax Date: 20160603\n"
     ]
    },
    {
     "name": "stderr",
     "output_type": "stream",
     "text": [
      "Error from tabula-java:\n",
      "Error: Error: End-of-File, expected line\n",
      "\n",
      "\n"
     ]
    },
    {
     "name": "stdout",
     "output_type": "stream",
     "text": [
      "Error in Tabula\n",
      "BBL: 4005150001 Tax Date: 20160603\n"
     ]
    },
    {
     "name": "stderr",
     "output_type": "stream",
     "text": [
      "Error from tabula-java:\n",
      "Error: Error: End-of-File, expected line\n",
      "\n",
      "\n"
     ]
    },
    {
     "name": "stdout",
     "output_type": "stream",
     "text": [
      "Error in Tabula\n",
      "BBL: 4008390019 Tax Date: 20160603\n"
     ]
    },
    {
     "name": "stderr",
     "output_type": "stream",
     "text": [
      "Error from tabula-java:\n",
      "Error: Error: End-of-File, expected line\n",
      "\n",
      "\n"
     ]
    },
    {
     "name": "stdout",
     "output_type": "stream",
     "text": [
      "Error in Tabula\n",
      "BBL: 4006290010 Tax Date: 20160603\n"
     ]
    },
    {
     "name": "stderr",
     "output_type": "stream",
     "text": [
      "Error from tabula-java:\n",
      "Error: Error: End-of-File, expected line\n",
      "\n",
      "\n"
     ]
    },
    {
     "name": "stdout",
     "output_type": "stream",
     "text": [
      "Error in Tabula\n",
      "BBL: 4005520018 Tax Date: 20160603\n"
     ]
    },
    {
     "name": "stderr",
     "output_type": "stream",
     "text": [
      "Error from tabula-java:\n",
      "Error: Error: End-of-File, expected line\n",
      "\n",
      "\n"
     ]
    },
    {
     "name": "stdout",
     "output_type": "stream",
     "text": [
      "Error in Tabula\n",
      "BBL: 4006610003 Tax Date: 20160603\n"
     ]
    },
    {
     "name": "stderr",
     "output_type": "stream",
     "text": [
      "Error from tabula-java:\n",
      "Error: Error: End-of-File, expected line\n",
      "\n",
      "\n"
     ]
    },
    {
     "name": "stdout",
     "output_type": "stream",
     "text": [
      "Error in Tabula\n",
      "BBL: 4006300018 Tax Date: 20160603\n"
     ]
    },
    {
     "name": "stderr",
     "output_type": "stream",
     "text": [
      "Error from tabula-java:\n",
      "Error: Error: End-of-File, expected line\n",
      "\n",
      "\n"
     ]
    },
    {
     "name": "stdout",
     "output_type": "stream",
     "text": [
      "Error in Tabula\n",
      "BBL: 4005170021 Tax Date: 20160603\n"
     ]
    },
    {
     "name": "stderr",
     "output_type": "stream",
     "text": [
      "Error from tabula-java:\n",
      "Error: Error: End-of-File, expected line\n",
      "\n",
      "\n"
     ]
    },
    {
     "name": "stdout",
     "output_type": "stream",
     "text": [
      "Error in Tabula\n",
      "BBL: 4005170021 Tax Date: 20160603\n"
     ]
    },
    {
     "name": "stderr",
     "output_type": "stream",
     "text": [
      "Error from tabula-java:\n",
      "Error: Error: End-of-File, expected line\n",
      "\n",
      "\n"
     ]
    },
    {
     "name": "stdout",
     "output_type": "stream",
     "text": [
      "Error in Tabula\n",
      "BBL: 4005690032 Tax Date: 20160603\n"
     ]
    },
    {
     "name": "stderr",
     "output_type": "stream",
     "text": [
      "Error from tabula-java:\n",
      "Error: Error: End-of-File, expected line\n",
      "\n",
      "\n"
     ]
    },
    {
     "name": "stdout",
     "output_type": "stream",
     "text": [
      "Error in Tabula\n",
      "BBL: 4005980055 Tax Date: 20160603\n"
     ]
    },
    {
     "name": "stderr",
     "output_type": "stream",
     "text": [
      "Error from tabula-java:\n",
      "Error: Error: End-of-File, expected line\n",
      "\n",
      "\n"
     ]
    },
    {
     "name": "stdout",
     "output_type": "stream",
     "text": [
      "Error in Tabula\n",
      "BBL: 4006150083 Tax Date: 20160603\n"
     ]
    },
    {
     "name": "stderr",
     "output_type": "stream",
     "text": [
      "Error from tabula-java:\n",
      "Error: Error: End-of-File, expected line\n",
      "\n",
      "\n"
     ]
    },
    {
     "name": "stdout",
     "output_type": "stream",
     "text": [
      "Error in Tabula\n",
      "BBL: 4006590077 Tax Date: 20160603\n"
     ]
    },
    {
     "name": "stderr",
     "output_type": "stream",
     "text": [
      "Error from tabula-java:\n",
      "Error: Error: End-of-File, expected line\n",
      "\n",
      "\n"
     ]
    },
    {
     "name": "stdout",
     "output_type": "stream",
     "text": [
      "Error in Tabula\n",
      "BBL: 4006290011 Tax Date: 20160603\n"
     ]
    },
    {
     "name": "stderr",
     "output_type": "stream",
     "text": [
      "Error from tabula-java:\n",
      "Error: Error: End-of-File, expected line\n",
      "\n",
      "\n"
     ]
    },
    {
     "name": "stdout",
     "output_type": "stream",
     "text": [
      "Error in Tabula\n",
      "BBL: 4006160019 Tax Date: 20160603\n"
     ]
    },
    {
     "name": "stderr",
     "output_type": "stream",
     "text": [
      "Error from tabula-java:\n",
      "Error: Error: End-of-File, expected line\n",
      "\n",
      "\n"
     ]
    },
    {
     "name": "stdout",
     "output_type": "stream",
     "text": [
      "Error in Tabula\n",
      "BBL: 4006160011 Tax Date: 20160603\n"
     ]
    },
    {
     "name": "stderr",
     "output_type": "stream",
     "text": [
      "Error from tabula-java:\n",
      "Error: Error: End-of-File, expected line\n",
      "\n",
      "\n"
     ]
    },
    {
     "name": "stdout",
     "output_type": "stream",
     "text": [
      "Error in Tabula\n",
      "BBL: 4005690027 Tax Date: 20160603\n"
     ]
    },
    {
     "name": "stderr",
     "output_type": "stream",
     "text": [
      "Error from tabula-java:\n",
      "Error: Error: End-of-File, expected line\n",
      "\n",
      "\n"
     ]
    },
    {
     "name": "stdout",
     "output_type": "stream",
     "text": [
      "Error in Tabula\n",
      "BBL: 4005690027 Tax Date: 20160603\n"
     ]
    },
    {
     "name": "stderr",
     "output_type": "stream",
     "text": [
      "Error from tabula-java:\n",
      "Error: Error: End-of-File, expected line\n",
      "\n",
      "\n"
     ]
    },
    {
     "name": "stdout",
     "output_type": "stream",
     "text": [
      "Error in Tabula\n",
      "BBL: 4005510003 Tax Date: 20160603\n"
     ]
    },
    {
     "name": "stderr",
     "output_type": "stream",
     "text": [
      "Error from tabula-java:\n",
      "Error: Error: End-of-File, expected line\n",
      "\n",
      "\n"
     ]
    },
    {
     "name": "stdout",
     "output_type": "stream",
     "text": [
      "Error in Tabula\n",
      "BBL: 4005930021 Tax Date: 20160603\n"
     ]
    },
    {
     "name": "stderr",
     "output_type": "stream",
     "text": [
      "Error from tabula-java:\n",
      "Error: Error: End-of-File, expected line\n",
      "\n",
      "\n"
     ]
    },
    {
     "name": "stdout",
     "output_type": "stream",
     "text": [
      "Error in Tabula\n",
      "BBL: 4005730060 Tax Date: 20160603\n"
     ]
    },
    {
     "name": "stderr",
     "output_type": "stream",
     "text": [
      "Error from tabula-java:\n",
      "Error: Error: End-of-File, expected line\n",
      "\n",
      "\n"
     ]
    },
    {
     "name": "stdout",
     "output_type": "stream",
     "text": [
      "Error in Tabula\n",
      "BBL: 4005940034 Tax Date: 20160603\n"
     ]
    },
    {
     "name": "stderr",
     "output_type": "stream",
     "text": [
      "Error from tabula-java:\n",
      "Error: Error: End-of-File, expected line\n",
      "\n",
      "\n"
     ]
    },
    {
     "name": "stdout",
     "output_type": "stream",
     "text": [
      "Error in Tabula\n",
      "BBL: 4006520046 Tax Date: 20160603\n"
     ]
    },
    {
     "name": "stderr",
     "output_type": "stream",
     "text": [
      "Error from tabula-java:\n",
      "Error: Error: End-of-File, expected line\n",
      "\n",
      "\n"
     ]
    },
    {
     "name": "stdout",
     "output_type": "stream",
     "text": [
      "Error in Tabula\n",
      "BBL: 4005980076 Tax Date: 20160603\n"
     ]
    },
    {
     "name": "stderr",
     "output_type": "stream",
     "text": [
      "Error from tabula-java:\n",
      "Error: Error: End-of-File, expected line\n",
      "\n",
      "\n"
     ]
    },
    {
     "name": "stdout",
     "output_type": "stream",
     "text": [
      "Error in Tabula\n",
      "BBL: 4008870038 Tax Date: 20160603\n"
     ]
    },
    {
     "name": "stderr",
     "output_type": "stream",
     "text": [
      "Error from tabula-java:\n",
      "Error: Error: End-of-File, expected line\n",
      "\n",
      "\n"
     ]
    },
    {
     "name": "stdout",
     "output_type": "stream",
     "text": [
      "Error in Tabula\n",
      "BBL: 4006590078 Tax Date: 20160603\n"
     ]
    },
    {
     "name": "stderr",
     "output_type": "stream",
     "text": [
      "Error from tabula-java:\n",
      "Error: Error: End-of-File, expected line\n",
      "\n",
      "\n"
     ]
    },
    {
     "name": "stdout",
     "output_type": "stream",
     "text": [
      "Error in Tabula\n",
      "BBL: 4006600031 Tax Date: 20160603\n"
     ]
    },
    {
     "name": "stderr",
     "output_type": "stream",
     "text": [
      "Error from tabula-java:\n",
      "Error: Error: End-of-File, expected line\n",
      "\n",
      "\n"
     ]
    },
    {
     "name": "stdout",
     "output_type": "stream",
     "text": [
      "Error in Tabula\n",
      "BBL: 4006490069 Tax Date: 20160603\n"
     ]
    },
    {
     "name": "stderr",
     "output_type": "stream",
     "text": [
      "Error from tabula-java:\n",
      "Error: Error: End-of-File, expected line\n",
      "\n",
      "\n"
     ]
    },
    {
     "name": "stdout",
     "output_type": "stream",
     "text": [
      "Error in Tabula\n",
      "BBL: 4006330003 Tax Date: 20160603\n"
     ]
    },
    {
     "name": "stderr",
     "output_type": "stream",
     "text": [
      "Error from tabula-java:\n",
      "Error: Error: End-of-File, expected line\n",
      "\n",
      "\n"
     ]
    },
    {
     "name": "stdout",
     "output_type": "stream",
     "text": [
      "Error in Tabula\n",
      "BBL: 4006160030 Tax Date: 20160603\n"
     ]
    },
    {
     "name": "stderr",
     "output_type": "stream",
     "text": [
      "Error from tabula-java:\n",
      "Error: Error: End-of-File, expected line\n",
      "\n",
      "\n"
     ]
    },
    {
     "name": "stdout",
     "output_type": "stream",
     "text": [
      "Error in Tabula\n",
      "BBL: 4008840005 Tax Date: 20160603\n"
     ]
    },
    {
     "name": "stderr",
     "output_type": "stream",
     "text": [
      "Error from tabula-java:\n",
      "Error: Error: End-of-File, expected line\n",
      "\n",
      "\n"
     ]
    },
    {
     "name": "stdout",
     "output_type": "stream",
     "text": [
      "Error in Tabula\n",
      "BBL: 4005970124 Tax Date: 20160603\n"
     ]
    },
    {
     "name": "stderr",
     "output_type": "stream",
     "text": [
      "Error from tabula-java:\n",
      "Error: Error: End-of-File, expected line\n",
      "\n",
      "\n"
     ]
    },
    {
     "name": "stdout",
     "output_type": "stream",
     "text": [
      "Error in Tabula\n",
      "BBL: 4005710019 Tax Date: 20160603\n"
     ]
    },
    {
     "name": "stderr",
     "output_type": "stream",
     "text": [
      "Error from tabula-java:\n",
      "Error: Error: End-of-File, expected line\n",
      "\n",
      "\n"
     ]
    },
    {
     "name": "stdout",
     "output_type": "stream",
     "text": [
      "Error in Tabula\n",
      "BBL: 4006500080 Tax Date: 20160603\n"
     ]
    },
    {
     "name": "stderr",
     "output_type": "stream",
     "text": [
      "Error from tabula-java:\n",
      "Error: Error: End-of-File, expected line\n",
      "\n",
      "\n"
     ]
    },
    {
     "name": "stdout",
     "output_type": "stream",
     "text": [
      "Error in Tabula\n",
      "BBL: 4006520062 Tax Date: 20160603\n"
     ]
    },
    {
     "name": "stderr",
     "output_type": "stream",
     "text": [
      "Error from tabula-java:\n",
      "Error: Error: End-of-File, expected line\n",
      "\n",
      "\n"
     ]
    },
    {
     "name": "stdout",
     "output_type": "stream",
     "text": [
      "Error in Tabula\n",
      "BBL: 4005970223 Tax Date: 20160603\n"
     ]
    },
    {
     "name": "stderr",
     "output_type": "stream",
     "text": [
      "Error from tabula-java:\n",
      "Error: Error: End-of-File, expected line\n",
      "\n",
      "\n"
     ]
    },
    {
     "name": "stdout",
     "output_type": "stream",
     "text": [
      "Error in Tabula\n",
      "BBL: 4006530075 Tax Date: 20160603\n"
     ]
    },
    {
     "name": "stderr",
     "output_type": "stream",
     "text": [
      "Error from tabula-java:\n",
      "Error: Error: End-of-File, expected line\n",
      "\n",
      "\n"
     ]
    },
    {
     "name": "stdout",
     "output_type": "stream",
     "text": [
      "Error in Tabula\n",
      "BBL: 4005980001 Tax Date: 20160603\n"
     ]
    },
    {
     "name": "stderr",
     "output_type": "stream",
     "text": [
      "Error from tabula-java:\n",
      "Error: Error: End-of-File, expected line\n",
      "\n",
      "\n"
     ]
    },
    {
     "name": "stdout",
     "output_type": "stream",
     "text": [
      "Error in Tabula\n",
      "BBL: 4006150022 Tax Date: 20160603\n"
     ]
    },
    {
     "name": "stderr",
     "output_type": "stream",
     "text": [
      "Error from tabula-java:\n",
      "Error: Error: End-of-File, expected line\n",
      "\n",
      "\n"
     ]
    },
    {
     "name": "stdout",
     "output_type": "stream",
     "text": [
      "Error in Tabula\n",
      "BBL: 4005740035 Tax Date: 20160603\n"
     ]
    },
    {
     "name": "stderr",
     "output_type": "stream",
     "text": [
      "Error from tabula-java:\n",
      "Error: Error: End-of-File, expected line\n",
      "\n",
      "\n"
     ]
    },
    {
     "name": "stdout",
     "output_type": "stream",
     "text": [
      "Error in Tabula\n",
      "BBL: 4005920007 Tax Date: 20160603\n"
     ]
    },
    {
     "name": "stderr",
     "output_type": "stream",
     "text": [
      "Error from tabula-java:\n",
      "Error: Error: End-of-File, expected line\n",
      "\n",
      "\n"
     ]
    },
    {
     "name": "stdout",
     "output_type": "stream",
     "text": [
      "Error in Tabula\n",
      "BBL: 4006520011 Tax Date: 20160603\n"
     ]
    },
    {
     "name": "stderr",
     "output_type": "stream",
     "text": [
      "Error from tabula-java:\n",
      "Error: Error: End-of-File, expected line\n",
      "\n",
      "\n"
     ]
    },
    {
     "name": "stdout",
     "output_type": "stream",
     "text": [
      "Error in Tabula\n",
      "BBL: 4005740135 Tax Date: 20160603\n"
     ]
    },
    {
     "name": "stderr",
     "output_type": "stream",
     "text": [
      "Error from tabula-java:\n",
      "Error: Error: End-of-File, expected line\n",
      "\n",
      "\n"
     ]
    },
    {
     "name": "stdout",
     "output_type": "stream",
     "text": [
      "Error in Tabula\n",
      "BBL: 4005700007 Tax Date: 20160603\n"
     ]
    },
    {
     "name": "stderr",
     "output_type": "stream",
     "text": [
      "Error from tabula-java:\n",
      "Error: Error: End-of-File, expected line\n",
      "\n",
      "\n"
     ]
    },
    {
     "name": "stdout",
     "output_type": "stream",
     "text": [
      "Error in Tabula\n",
      "BBL: 4006600027 Tax Date: 20160603\n"
     ]
    },
    {
     "name": "stderr",
     "output_type": "stream",
     "text": [
      "Error from tabula-java:\n",
      "Error: Error: End-of-File, expected line\n",
      "\n",
      "\n"
     ]
    },
    {
     "name": "stdout",
     "output_type": "stream",
     "text": [
      "Error in Tabula\n",
      "BBL: 4008400049 Tax Date: 20160603\n"
     ]
    },
    {
     "name": "stderr",
     "output_type": "stream",
     "text": [
      "Error from tabula-java:\n",
      "Error: Error: End-of-File, expected line\n",
      "\n",
      "\n"
     ]
    },
    {
     "name": "stdout",
     "output_type": "stream",
     "text": [
      "Error in Tabula\n",
      "BBL: 4006190057 Tax Date: 20160603\n"
     ]
    },
    {
     "name": "stderr",
     "output_type": "stream",
     "text": [
      "Error from tabula-java:\n",
      "Error: Error: End-of-File, expected line\n",
      "\n",
      "\n"
     ]
    },
    {
     "name": "stdout",
     "output_type": "stream",
     "text": [
      "Error in Tabula\n",
      "BBL: 4005940155 Tax Date: 20160603\n"
     ]
    },
    {
     "name": "stderr",
     "output_type": "stream",
     "text": [
      "Error from tabula-java:\n",
      "Error: Error: End-of-File, expected line\n",
      "\n",
      "\n"
     ]
    },
    {
     "name": "stdout",
     "output_type": "stream",
     "text": [
      "Error in Tabula\n"
     ]
    }
   ],
   "source": [
    "#Full trial run\n",
    "\n",
    "# tax_form_date = '20211120'\n",
    "\n",
    "for tax_form_date in tax_dates:\n",
    "\n",
    "\n",
    "\n",
    "    for i in range(len(building_bbl_list)):\n",
    "\n",
    "        print(\"BBL: {} Tax Date: {}\".format(building_bbl_list[i], tax_form_date))\n",
    "\n",
    "        #Download PDF \n",
    "        url_loc = \"https://a836-mspuvw-dofptsz.nyc.gov/PTSCM/StatementSearch?bbl={}&stmtDate={}&stmtType=SOA\".format(building_bbl_list[i], tax_form_date)\n",
    "\n",
    "        urlretrieve(url_loc, \"property_tax.pdf\")\n",
    "\n",
    "        #read second page into a dataframe\n",
    "        try:\n",
    "            file = 'property_tax.pdf'\n",
    "            df_pdf= tb.read_pdf(file, pages = '2', area = (50, 0, 1000, 1000), columns = [200, 305, 365, 455, 500])[0]\n",
    "            #Find Rent data and save into a new dataframe\n",
    "            try:\n",
    "                # index_to_find = df_pdf.loc[df_pdf['Unnamed: 0'] == 'Rent Stabilization'].index\n",
    "                # df_pdf.columns = df_pdf.iloc[index_to_find[0]]\n",
    "                # # df_pdf = df_pdf.loc[df_pdf['Rent Stabilization']]\n",
    "                # df_pdf = df_pdf.iloc[index_to_find[0]+1]\n",
    "                # df_list = df_pdf.to_list()\n",
    "                # df_list.append(str(building_bbl_list[i]))\n",
    "                # df_list.append(tax_form_date)\n",
    "                # final_df = pd.DataFrame(df_pdf).T\n",
    "                index_to_find = df_pdf.loc[df_pdf['Unnamed: 1'] == '# Apts'].index\n",
    "                df_pdf.columns = df_pdf.iloc[index_to_find[0]]\n",
    "                df_pdf = df_pdf.iloc[index_to_find[0]+1]\n",
    "                df_list = df_pdf.to_list()\n",
    "                df_list.append(str(building_bbl_list[i]))\n",
    "                df_list.append(tax_form_date)\n",
    "            except IndexError:\n",
    "                df_list = ['Rent Stabilization Fee - Chg', '0', 'NaN', 'nan', 'nan', '0', str(building_bbl_list[i]), tax_form_date]\n",
    "                print(\"No Rent Stabilized Units\")\n",
    "        except:\n",
    "            print(\"Error in Tabula\")\n",
    "\n",
    "\n",
    "\n",
    "        \n",
    "\n",
    "\n",
    "        property_tax_list.append(df_list)\n",
    "cols = ['Rent Stabilized', 'Units', 'Due Date', 'RS ID', 'To Drop', 'Total Charge', 'BBL', 'Date']\n",
    "final_df = pd.DataFrame(property_tax_list, columns=cols)\n",
    "# final_df['Date'] = tax_form_date"
   ]
  },
  {
   "cell_type": "code",
   "execution_count": 28,
   "metadata": {},
   "outputs": [],
   "source": [
    "merged_data = df_buildings.merge(final_df, left_on='BBL', right_on='BBL', how = 'inner')"
   ]
  },
  {
   "cell_type": "code",
   "execution_count": 29,
   "metadata": {},
   "outputs": [],
   "source": [
    "merged_data['Date'] = merged_data['Date'].apply(lambda x: datetime.strptime(x, '%Y%m%d'))\n",
    "merged_data['Year'] = merged_data['Date'].apply(lambda x: x.year)"
   ]
  },
  {
   "cell_type": "code",
   "execution_count": 30,
   "metadata": {},
   "outputs": [
    {
     "name": "stderr",
     "output_type": "stream",
     "text": [
      "/Users/rohun/opt/miniconda3/lib/python3.9/site-packages/pandas/core/frame.py:4441: SettingWithCopyWarning: \n",
      "A value is trying to be set on a copy of a slice from a DataFrame\n",
      "\n",
      "See the caveats in the documentation: https://pandas.pydata.org/pandas-docs/stable/user_guide/indexing.html#returning-a-view-versus-a-copy\n",
      "  return super().rename(\n",
      "/Users/rohun/opt/miniconda3/lib/python3.9/site-packages/pandas/core/frame.py:4462: SettingWithCopyWarning: \n",
      "A value is trying to be set on a copy of a slice from a DataFrame\n",
      "\n",
      "See the caveats in the documentation: https://pandas.pydata.org/pandas-docs/stable/user_guide/indexing.html#returning-a-view-versus-a-copy\n",
      "  return super().fillna(\n"
     ]
    }
   ],
   "source": [
    "df_class2b = merged_data[['the_geom', 'geomsource', 'cnstrct_yr', 'lstmoddate', 'lststatype', 'Latitude', 'Longitude',\n",
    "                         'AssemDist', 'BUILDING CLASS CATEGORY', 'BUILDING CLASS', 'ADDRESS', 'ZIP CODE', 'RESIDENTIAL UNITS',\n",
    "                         'COMMERCIAL UNITS', 'TOTAL UNITS', 'YEAR BUILT', 'BBL', 'Units', 'Total Charge', 'Date', 'Year']]\n",
    "df_class2b.rename(columns={'Units': 'Rent Stabilized Units', 'Total Charge': 'Rent Stabilized Charges', 'Date': 'Tax Doc Date',\n",
    "                                'Year': 'Tax Doc Year'}, inplace = True)\n",
    "df_class2b.fillna(0, inplace = True)\n",
    "df_class2b['cnstrct_yr'] = df_class2b['cnstrct_yr'].astype(int)\n",
    "df_pivot2b = df_class2b.drop(['the_geom'], axis = 1)\n",
    "df_pivot2b = df_pivot2b.sort_values('geomsource', ascending=False).drop_duplicates(subset=['ADDRESS', 'Tax Doc Year'])\n",
    "df_pivot2b = df_pivot2b.pivot(index=['ADDRESS', 'Latitude', 'Longitude'], columns='Tax Doc Year', values='Rent Stabilized Units')\n",
    "df_pivot2b.fillna(0, inplace = True)\n",
    "df_pivot2b.to_csv('taxClass2B_pivotTable_ad36_pre2019.csv')"
   ]
  },
  {
   "cell_type": "code",
   "execution_count": 31,
   "metadata": {},
   "outputs": [],
   "source": [
    "merged_data.to_csv('ad36_421Properties_TaxClass2B_withTaxData_pre2019.csv')"
   ]
  },
  {
   "cell_type": "markdown",
   "metadata": {},
   "source": [
    "## Pivot Table\n",
    "\n",
    "Include this into the actual data above. But for now, read in two CSVs from above and pivot them on the date.\n",
    "\n",
    "Also in clean up the data. Reduce the number of columns \n",
    "\n",
    "Total Charge -> int"
   ]
  },
  {
   "cell_type": "code",
   "execution_count": 32,
   "metadata": {},
   "outputs": [],
   "source": [
    "# df_class2b = df_class2b[['the_geom', 'geomsource', 'cnstrct_yr', 'lstmoddate', 'lststatype', 'Latitude', 'Longitude',\n",
    "#                          'AssemDist', 'BUILDING CLASS CATEGORY', 'BUILDING CLASS', 'ADDRESS', 'ZIP CODE', 'RESIDENTIAL UNITS',\n",
    "#                          'COMMERCIAL UNITS', 'TOTAL UNITS', 'YEAR BUILT', 'BBL', 'Units', 'Total Charge', 'Date', 'Year']]\n",
    "# df_class2b.rename(columns={'Units': 'Rent Stabilized Units', 'Total Charge': 'Rent Stabilized Charges', 'Date': 'Tax Doc Date',\n",
    "#                                 'Year': 'Tax Doc Year'}, inplace = True)\n",
    "# df_class2b.fillna(0, inplace = True)\n",
    "# df_class2b['cnstrct_yr'] = df_class2b['cnstrct_yr'].astype(int)\n",
    "# df_pivot2b = df_class2b.drop(['the_geom'], axis = 1)\n",
    "# df_pivot2b = df_pivot2b.sort_values('geomsource', ascending=False).drop_duplicates(subset=['ADDRESS', 'Tax Doc Year'])\n",
    "# df_pivot2b = df_pivot2b.pivot(index='ADDRESS', columns='Tax Doc Year', values='Rent Stabilized Units')\n",
    "# df_pivot2b.fillna(0, inplace = True)\n",
    "# df_pivot2b.to_csv('taxClass2B_pivotTable_ad36.csv')"
   ]
  },
  {
   "cell_type": "code",
   "execution_count": 33,
   "metadata": {},
   "outputs": [],
   "source": [
    "# df_class2 = pd.read_csv('ad36_421Properties_TaxClass2B_withTaxData.csv')\n",
    "# df_class2 = df_class2[['the_geom', 'geomsource', 'cnstrct_yr', 'lstmoddate', 'lststatype', 'Latitude', 'Longitude',\n",
    "#                          'AssemDist', 'BUILDING CLASS CATEGORY', 'BUILDING CLASS', 'ADDRESS', 'ZIP CODE', 'RESIDENTIAL UNITS',\n",
    "#                          'COMMERCIAL UNITS', 'TOTAL UNITS', 'YEAR BUILT', 'BBL', 'Units', 'Total Charge', 'Date', 'Year']]\n",
    "# df_class2.rename(columns={'Units': 'Rent Stabilized Units', 'Total Charge': 'Rent Stabilized Charges', 'Date': 'Tax Doc Date',\n",
    "#                                 'Year': 'Tax Doc Year'}, inplace = True)\n",
    "# df_class2.fillna(0, inplace = True)\n",
    "# df_class2['cnstrct_yr'] = df_class2['cnstrct_yr'].astype(int)\n",
    "# df_pivot2 = df_class2.drop(['the_geom'], axis = 1)\n",
    "# df_pivot2 = df_pivot2.sort_values('geomsource', ascending=False).drop_duplicates(subset=['ADDRESS', 'Tax Doc Year'])\n",
    "# df_pivot2 = df_pivot2.pivot(index=['ADDRESS', 'Latitude', 'Longitude'], columns='Tax Doc Year', values='Rent Stabilized Units')\n",
    "# df_pivot2.fillna(0, inplace=True)\n",
    "# # df_pivot2.to_csv('taxClass2_pivotTable_ad36.csv')"
   ]
  },
  {
   "cell_type": "markdown",
   "metadata": {},
   "source": [
    "## Troubleshooting!\n"
   ]
  },
  {
   "cell_type": "code",
   "execution_count": 34,
   "metadata": {},
   "outputs": [
    {
     "data": {
      "text/plain": [
       "('property_tax.pdf', <http.client.HTTPMessage at 0x7fbd288dcfd0>)"
      ]
     },
     "execution_count": 34,
     "metadata": {},
     "output_type": "execute_result"
    }
   ],
   "source": [
    "#All this should be done later. Focus on rent stabilization efforts first. \n",
    "\n",
    "bbl_trial = '4005780026'\n",
    "tax_form_date = '20170602'\n",
    "\n",
    "url_loc = \"https://a836-mspuvw-dofptsz.nyc.gov/PTSCM/StatementSearch?bbl={}&stmtDate={}&stmtType=SOA\".format(bbl_trial, tax_form_date)\n",
    "\n",
    "urlretrieve(url_loc, \"property_tax.pdf\")"
   ]
  },
  {
   "cell_type": "code",
   "execution_count": 35,
   "metadata": {},
   "outputs": [
    {
     "name": "stderr",
     "output_type": "stream",
     "text": [
      "Error from tabula-java:\n",
      "Error: Error: End-of-File, expected line\n",
      "\n",
      "\n"
     ]
    },
    {
     "ename": "CalledProcessError",
     "evalue": "Command '['java', '-Djava.awt.headless=true', '-Dfile.encoding=UTF8', '-jar', '/Users/rohun/opt/miniconda3/lib/python3.9/site-packages/tabula/tabula-1.0.5-jar-with-dependencies.jar', '--pages', '2', '--area', '50,0,400,1000', '--format', 'JSON', '--columns', '200,305,365,455,500', 'property_tax.pdf']' returned non-zero exit status 1.",
     "output_type": "error",
     "traceback": [
      "\u001b[0;31m---------------------------------------------------------------------------\u001b[0m",
      "\u001b[0;31mCalledProcessError\u001b[0m                        Traceback (most recent call last)",
      "\u001b[0;32m<ipython-input-35-89e665e6716d>\u001b[0m in \u001b[0;36m<module>\u001b[0;34m\u001b[0m\n\u001b[1;32m      1\u001b[0m \u001b[0mfile\u001b[0m \u001b[0;34m=\u001b[0m \u001b[0;34m'property_tax.pdf'\u001b[0m\u001b[0;34m\u001b[0m\u001b[0;34m\u001b[0m\u001b[0m\n\u001b[0;32m----> 2\u001b[0;31m \u001b[0mdf3\u001b[0m\u001b[0;34m=\u001b[0m \u001b[0mtb\u001b[0m\u001b[0;34m.\u001b[0m\u001b[0mread_pdf\u001b[0m\u001b[0;34m(\u001b[0m\u001b[0mfile\u001b[0m\u001b[0;34m,\u001b[0m \u001b[0mpages\u001b[0m \u001b[0;34m=\u001b[0m \u001b[0;34m'2'\u001b[0m\u001b[0;34m,\u001b[0m \u001b[0marea\u001b[0m \u001b[0;34m=\u001b[0m \u001b[0;34m(\u001b[0m\u001b[0;36m50\u001b[0m\u001b[0;34m,\u001b[0m \u001b[0;36m0\u001b[0m\u001b[0;34m,\u001b[0m \u001b[0;36m400\u001b[0m\u001b[0;34m,\u001b[0m \u001b[0;36m1000\u001b[0m\u001b[0;34m)\u001b[0m\u001b[0;34m,\u001b[0m \u001b[0mcolumns\u001b[0m \u001b[0;34m=\u001b[0m \u001b[0;34m[\u001b[0m\u001b[0;36m200\u001b[0m\u001b[0;34m,\u001b[0m \u001b[0;36m305\u001b[0m\u001b[0;34m,\u001b[0m \u001b[0;36m365\u001b[0m\u001b[0;34m,\u001b[0m \u001b[0;36m455\u001b[0m\u001b[0;34m,\u001b[0m \u001b[0;36m500\u001b[0m\u001b[0;34m]\u001b[0m\u001b[0;34m)\u001b[0m\u001b[0;34m[\u001b[0m\u001b[0;36m0\u001b[0m\u001b[0;34m]\u001b[0m\u001b[0;34m\u001b[0m\u001b[0;34m\u001b[0m\u001b[0m\n\u001b[0m",
      "\u001b[0;32m~/opt/miniconda3/lib/python3.9/site-packages/tabula/io.py\u001b[0m in \u001b[0;36mread_pdf\u001b[0;34m(input_path, output_format, encoding, java_options, pandas_options, multiple_tables, user_agent, **kwargs)\u001b[0m\n\u001b[1;32m    320\u001b[0m \u001b[0;34m\u001b[0m\u001b[0m\n\u001b[1;32m    321\u001b[0m     \u001b[0;32mtry\u001b[0m\u001b[0;34m:\u001b[0m\u001b[0;34m\u001b[0m\u001b[0;34m\u001b[0m\u001b[0m\n\u001b[0;32m--> 322\u001b[0;31m         \u001b[0moutput\u001b[0m \u001b[0;34m=\u001b[0m \u001b[0m_run\u001b[0m\u001b[0;34m(\u001b[0m\u001b[0mjava_options\u001b[0m\u001b[0;34m,\u001b[0m \u001b[0mkwargs\u001b[0m\u001b[0;34m,\u001b[0m \u001b[0mpath\u001b[0m\u001b[0;34m,\u001b[0m \u001b[0mencoding\u001b[0m\u001b[0;34m)\u001b[0m\u001b[0;34m\u001b[0m\u001b[0;34m\u001b[0m\u001b[0m\n\u001b[0m\u001b[1;32m    323\u001b[0m     \u001b[0;32mfinally\u001b[0m\u001b[0;34m:\u001b[0m\u001b[0;34m\u001b[0m\u001b[0;34m\u001b[0m\u001b[0m\n\u001b[1;32m    324\u001b[0m         \u001b[0;32mif\u001b[0m \u001b[0mtemporary\u001b[0m\u001b[0;34m:\u001b[0m\u001b[0;34m\u001b[0m\u001b[0;34m\u001b[0m\u001b[0m\n",
      "\u001b[0;32m~/opt/miniconda3/lib/python3.9/site-packages/tabula/io.py\u001b[0m in \u001b[0;36m_run\u001b[0;34m(java_options, options, path, encoding)\u001b[0m\n\u001b[1;32m     78\u001b[0m \u001b[0;34m\u001b[0m\u001b[0m\n\u001b[1;32m     79\u001b[0m     \u001b[0;32mtry\u001b[0m\u001b[0;34m:\u001b[0m\u001b[0;34m\u001b[0m\u001b[0;34m\u001b[0m\u001b[0m\n\u001b[0;32m---> 80\u001b[0;31m         result = subprocess.run(\n\u001b[0m\u001b[1;32m     81\u001b[0m             \u001b[0margs\u001b[0m\u001b[0;34m,\u001b[0m\u001b[0;34m\u001b[0m\u001b[0;34m\u001b[0m\u001b[0m\n\u001b[1;32m     82\u001b[0m             \u001b[0mstdout\u001b[0m\u001b[0;34m=\u001b[0m\u001b[0msubprocess\u001b[0m\u001b[0;34m.\u001b[0m\u001b[0mPIPE\u001b[0m\u001b[0;34m,\u001b[0m\u001b[0;34m\u001b[0m\u001b[0;34m\u001b[0m\u001b[0m\n",
      "\u001b[0;32m~/opt/miniconda3/lib/python3.9/subprocess.py\u001b[0m in \u001b[0;36mrun\u001b[0;34m(input, capture_output, timeout, check, *popenargs, **kwargs)\u001b[0m\n\u001b[1;32m    522\u001b[0m         \u001b[0mretcode\u001b[0m \u001b[0;34m=\u001b[0m \u001b[0mprocess\u001b[0m\u001b[0;34m.\u001b[0m\u001b[0mpoll\u001b[0m\u001b[0;34m(\u001b[0m\u001b[0;34m)\u001b[0m\u001b[0;34m\u001b[0m\u001b[0;34m\u001b[0m\u001b[0m\n\u001b[1;32m    523\u001b[0m         \u001b[0;32mif\u001b[0m \u001b[0mcheck\u001b[0m \u001b[0;32mand\u001b[0m \u001b[0mretcode\u001b[0m\u001b[0;34m:\u001b[0m\u001b[0;34m\u001b[0m\u001b[0;34m\u001b[0m\u001b[0m\n\u001b[0;32m--> 524\u001b[0;31m             raise CalledProcessError(retcode, process.args,\n\u001b[0m\u001b[1;32m    525\u001b[0m                                      output=stdout, stderr=stderr)\n\u001b[1;32m    526\u001b[0m     \u001b[0;32mreturn\u001b[0m \u001b[0mCompletedProcess\u001b[0m\u001b[0;34m(\u001b[0m\u001b[0mprocess\u001b[0m\u001b[0;34m.\u001b[0m\u001b[0margs\u001b[0m\u001b[0;34m,\u001b[0m \u001b[0mretcode\u001b[0m\u001b[0;34m,\u001b[0m \u001b[0mstdout\u001b[0m\u001b[0;34m,\u001b[0m \u001b[0mstderr\u001b[0m\u001b[0;34m)\u001b[0m\u001b[0;34m\u001b[0m\u001b[0;34m\u001b[0m\u001b[0m\n",
      "\u001b[0;31mCalledProcessError\u001b[0m: Command '['java', '-Djava.awt.headless=true', '-Dfile.encoding=UTF8', '-jar', '/Users/rohun/opt/miniconda3/lib/python3.9/site-packages/tabula/tabula-1.0.5-jar-with-dependencies.jar', '--pages', '2', '--area', '50,0,400,1000', '--format', 'JSON', '--columns', '200,305,365,455,500', 'property_tax.pdf']' returned non-zero exit status 1."
     ]
    }
   ],
   "source": [
    "file = 'property_tax.pdf'\n",
    "df3= tb.read_pdf(file, pages = '2', area = (50, 0, 400, 1000), columns = [200, 305, 365, 455, 500])[0]"
   ]
  },
  {
   "cell_type": "code",
   "execution_count": null,
   "metadata": {},
   "outputs": [
    {
     "data": {
      "text/html": [
       "<div>\n",
       "<style scoped>\n",
       "    .dataframe tbody tr th:only-of-type {\n",
       "        vertical-align: middle;\n",
       "    }\n",
       "\n",
       "    .dataframe tbody tr th {\n",
       "        vertical-align: top;\n",
       "    }\n",
       "\n",
       "    .dataframe thead th {\n",
       "        text-align: right;\n",
       "    }\n",
       "</style>\n",
       "<table border=\"1\" class=\"dataframe\">\n",
       "  <thead>\n",
       "    <tr style=\"text-align: right;\">\n",
       "      <th></th>\n",
       "      <th>Unnamed: 0</th>\n",
       "      <th>Unnamed: 1</th>\n",
       "      <th>Unnamed: 2</th>\n",
       "      <th>Unnamed: 3</th>\n",
       "      <th>Unnamed: 4</th>\n",
       "      <th>Page 2</th>\n",
       "    </tr>\n",
       "  </thead>\n",
       "  <tbody>\n",
       "    <tr>\n",
       "      <th>0</th>\n",
       "      <td>Billing Summary</td>\n",
       "      <td>Activity Date</td>\n",
       "      <td>Due Date</td>\n",
       "      <td>NaN</td>\n",
       "      <td>NaN</td>\n",
       "      <td>Amount</td>\n",
       "    </tr>\n",
       "    <tr>\n",
       "      <th>1</th>\n",
       "      <td>Outstanding charges including interes</td>\n",
       "      <td>t and payments</td>\n",
       "      <td>NaN</td>\n",
       "      <td>NaN</td>\n",
       "      <td>NaN</td>\n",
       "      <td>$88.84</td>\n",
       "    </tr>\n",
       "    <tr>\n",
       "      <th>2</th>\n",
       "      <td>Finance-Property Tax</td>\n",
       "      <td>NaN</td>\n",
       "      <td>07/01/2017</td>\n",
       "      <td>NaN</td>\n",
       "      <td>NaN</td>\n",
       "      <td>$672.96</td>\n",
       "    </tr>\n",
       "    <tr>\n",
       "      <th>3</th>\n",
       "      <td>Total amount due</td>\n",
       "      <td>NaN</td>\n",
       "      <td>NaN</td>\n",
       "      <td>NaN</td>\n",
       "      <td>NaN</td>\n",
       "      <td>$761.80</td>\n",
       "    </tr>\n",
       "    <tr>\n",
       "      <th>4</th>\n",
       "      <td>Tax Year Charges Remaining</td>\n",
       "      <td>Activity Date</td>\n",
       "      <td>Due Date</td>\n",
       "      <td>NaN</td>\n",
       "      <td>NaN</td>\n",
       "      <td>Amount</td>\n",
       "    </tr>\n",
       "    <tr>\n",
       "      <th>5</th>\n",
       "      <td>Finance-Property Tax</td>\n",
       "      <td>NaN</td>\n",
       "      <td>10/01/2017</td>\n",
       "      <td>NaN</td>\n",
       "      <td>NaN</td>\n",
       "      <td>$672.96</td>\n",
       "    </tr>\n",
       "    <tr>\n",
       "      <th>6</th>\n",
       "      <td>Finance-Property Tax</td>\n",
       "      <td>NaN</td>\n",
       "      <td>01/01/2018</td>\n",
       "      <td>NaN</td>\n",
       "      <td>NaN</td>\n",
       "      <td>$672.96</td>\n",
       "    </tr>\n",
       "    <tr>\n",
       "      <th>7</th>\n",
       "      <td>Finance-Property Tax</td>\n",
       "      <td>NaN</td>\n",
       "      <td>04/01/2018</td>\n",
       "      <td>NaN</td>\n",
       "      <td>NaN</td>\n",
       "      <td>$672.96</td>\n",
       "    </tr>\n",
       "    <tr>\n",
       "      <th>8</th>\n",
       "      <td>Total tax year charges remaining</td>\n",
       "      <td>NaN</td>\n",
       "      <td>NaN</td>\n",
       "      <td>NaN</td>\n",
       "      <td>NaN</td>\n",
       "      <td>$2,018.88</td>\n",
       "    </tr>\n",
       "    <tr>\n",
       "      <th>9</th>\n",
       "      <td>If you pay everything you owe by July</td>\n",
       "      <td>3, 2017, you would sav</td>\n",
       "      <td>e:</td>\n",
       "      <td>NaN</td>\n",
       "      <td>NaN</td>\n",
       "      <td>$13.46</td>\n",
       "    </tr>\n",
       "    <tr>\n",
       "      <th>10</th>\n",
       "      <td>Annual Property Tax Detail</td>\n",
       "      <td>NaN</td>\n",
       "      <td>NaN</td>\n",
       "      <td>NaN</td>\n",
       "      <td>NaN</td>\n",
       "      <td>NaN</td>\n",
       "    </tr>\n",
       "    <tr>\n",
       "      <th>11</th>\n",
       "      <td>NaN</td>\n",
       "      <td>NaN</td>\n",
       "      <td>NaN</td>\n",
       "      <td>NaN</td>\n",
       "      <td>NaN</td>\n",
       "      <td>NaN</td>\n",
       "    </tr>\n",
       "    <tr>\n",
       "      <th>12</th>\n",
       "      <td>Tax class 2B - 7-10 Unit Residentia</td>\n",
       "      <td>l Building</td>\n",
       "      <td>Tax r</td>\n",
       "      <td>ate</td>\n",
       "      <td>NaN</td>\n",
       "      <td>NaN</td>\n",
       "    </tr>\n",
       "    <tr>\n",
       "      <th>13</th>\n",
       "      <td>Current tax rate</td>\n",
       "      <td>NaN</td>\n",
       "      <td>12.892</td>\n",
       "      <td>0%</td>\n",
       "      <td>NaN</td>\n",
       "      <td>NaN</td>\n",
       "    </tr>\n",
       "    <tr>\n",
       "      <th>14</th>\n",
       "      <td>Estimated market value$1,849,00</td>\n",
       "      <td>0 Bi</td>\n",
       "      <td>llable assess</td>\n",
       "      <td>ed</td>\n",
       "      <td>NaN</td>\n",
       "      <td>NaN</td>\n",
       "    </tr>\n",
       "    <tr>\n",
       "      <th>15</th>\n",
       "      <td>NaN</td>\n",
       "      <td>NaN</td>\n",
       "      <td>va</td>\n",
       "      <td>lue Tax rate</td>\n",
       "      <td>NaN</td>\n",
       "      <td>Taxes**</td>\n",
       "    </tr>\n",
       "    <tr>\n",
       "      <th>16</th>\n",
       "      <td>Tax before exemptions and abatem</td>\n",
       "      <td>ents</td>\n",
       "      <td>$235,2</td>\n",
       "      <td>98 X 12.8920%</td>\n",
       "      <td>=</td>\n",
       "      <td>$30,335**</td>\n",
       "    </tr>\n",
       "    <tr>\n",
       "      <th>17</th>\n",
       "      <td>421a (15 Yr Not Cap)</td>\n",
       "      <td>NaN</td>\n",
       "      <td>$-214,4</td>\n",
       "      <td>18</td>\n",
       "      <td>NaN</td>\n",
       "      <td>$-27,643**</td>\n",
       "    </tr>\n",
       "    <tr>\n",
       "      <th>18</th>\n",
       "      <td>Tax before abatements</td>\n",
       "      <td>NaN</td>\n",
       "      <td>NaN</td>\n",
       "      <td>NaN</td>\n",
       "      <td>NaN</td>\n",
       "      <td>$2,692**</td>\n",
       "    </tr>\n",
       "    <tr>\n",
       "      <th>19</th>\n",
       "      <td>Annual property tax</td>\n",
       "      <td>NaN</td>\n",
       "      <td>NaN</td>\n",
       "      <td>NaN</td>\n",
       "      <td>NaN</td>\n",
       "      <td>$2,692**</td>\n",
       "    </tr>\n",
       "  </tbody>\n",
       "</table>\n",
       "</div>"
      ],
      "text/plain": [
       "                               Unnamed: 0              Unnamed: 1  \\\n",
       "0                         Billing Summary           Activity Date   \n",
       "1   Outstanding charges including interes          t and payments   \n",
       "2                    Finance-Property Tax                     NaN   \n",
       "3                        Total amount due                     NaN   \n",
       "4              Tax Year Charges Remaining           Activity Date   \n",
       "5                    Finance-Property Tax                     NaN   \n",
       "6                    Finance-Property Tax                     NaN   \n",
       "7                    Finance-Property Tax                     NaN   \n",
       "8        Total tax year charges remaining                     NaN   \n",
       "9   If you pay everything you owe by July  3, 2017, you would sav   \n",
       "10             Annual Property Tax Detail                     NaN   \n",
       "11                                    NaN                     NaN   \n",
       "12    Tax class 2B - 7-10 Unit Residentia              l Building   \n",
       "13                       Current tax rate                     NaN   \n",
       "14        Estimated market value$1,849,00                    0 Bi   \n",
       "15                                    NaN                     NaN   \n",
       "16       Tax before exemptions and abatem                    ents   \n",
       "17                   421a (15 Yr Not Cap)                     NaN   \n",
       "18                  Tax before abatements                     NaN   \n",
       "19                    Annual property tax                     NaN   \n",
       "\n",
       "       Unnamed: 2     Unnamed: 3 Unnamed: 4      Page 2  \n",
       "0        Due Date            NaN        NaN      Amount  \n",
       "1             NaN            NaN        NaN      $88.84  \n",
       "2      07/01/2017            NaN        NaN     $672.96  \n",
       "3             NaN            NaN        NaN     $761.80  \n",
       "4        Due Date            NaN        NaN      Amount  \n",
       "5      10/01/2017            NaN        NaN     $672.96  \n",
       "6      01/01/2018            NaN        NaN     $672.96  \n",
       "7      04/01/2018            NaN        NaN     $672.96  \n",
       "8             NaN            NaN        NaN   $2,018.88  \n",
       "9              e:            NaN        NaN      $13.46  \n",
       "10            NaN            NaN        NaN         NaN  \n",
       "11            NaN            NaN        NaN         NaN  \n",
       "12          Tax r            ate        NaN         NaN  \n",
       "13         12.892             0%        NaN         NaN  \n",
       "14  llable assess             ed        NaN         NaN  \n",
       "15             va   lue Tax rate        NaN     Taxes**  \n",
       "16         $235,2  98 X 12.8920%          =   $30,335**  \n",
       "17        $-214,4             18        NaN  $-27,643**  \n",
       "18            NaN            NaN        NaN    $2,692**  \n",
       "19            NaN            NaN        NaN    $2,692**  "
      ]
     },
     "execution_count": 9,
     "metadata": {},
     "output_type": "execute_result"
    }
   ],
   "source": [
    "df3"
   ]
  },
  {
   "cell_type": "code",
   "execution_count": null,
   "metadata": {},
   "outputs": [
    {
     "ename": "IndexError",
     "evalue": "index 0 is out of bounds for axis 0 with size 0",
     "output_type": "error",
     "traceback": [
      "\u001b[0;31m---------------------------------------------------------------------------\u001b[0m",
      "\u001b[0;31mIndexError\u001b[0m                                Traceback (most recent call last)",
      "\u001b[0;32m<ipython-input-40-07ab58638b12>\u001b[0m in \u001b[0;36m<module>\u001b[0;34m\u001b[0m\n\u001b[1;32m      1\u001b[0m \u001b[0mindex_to_find\u001b[0m \u001b[0;34m=\u001b[0m \u001b[0mdf3\u001b[0m\u001b[0;34m.\u001b[0m\u001b[0mloc\u001b[0m\u001b[0;34m[\u001b[0m\u001b[0mdf3\u001b[0m\u001b[0;34m[\u001b[0m\u001b[0;34m'Unnamed: 1'\u001b[0m\u001b[0;34m]\u001b[0m \u001b[0;34m==\u001b[0m \u001b[0;34m'# Apts'\u001b[0m\u001b[0;34m]\u001b[0m\u001b[0;34m.\u001b[0m\u001b[0mindex\u001b[0m\u001b[0;34m\u001b[0m\u001b[0;34m\u001b[0m\u001b[0m\n\u001b[0;32m----> 2\u001b[0;31m \u001b[0mdf3\u001b[0m\u001b[0;34m.\u001b[0m\u001b[0mcolumns\u001b[0m \u001b[0;34m=\u001b[0m \u001b[0mdf3\u001b[0m\u001b[0;34m.\u001b[0m\u001b[0miloc\u001b[0m\u001b[0;34m[\u001b[0m\u001b[0mindex_to_find\u001b[0m\u001b[0;34m[\u001b[0m\u001b[0;36m0\u001b[0m\u001b[0;34m]\u001b[0m\u001b[0;34m]\u001b[0m\u001b[0;34m\u001b[0m\u001b[0;34m\u001b[0m\u001b[0m\n\u001b[0m\u001b[1;32m      3\u001b[0m \u001b[0mdf3\u001b[0m \u001b[0;34m=\u001b[0m \u001b[0mdf3\u001b[0m\u001b[0;34m.\u001b[0m\u001b[0miloc\u001b[0m\u001b[0;34m[\u001b[0m\u001b[0mindex_to_find\u001b[0m\u001b[0;34m[\u001b[0m\u001b[0;36m0\u001b[0m\u001b[0;34m]\u001b[0m\u001b[0;34m+\u001b[0m\u001b[0;36m1\u001b[0m\u001b[0;34m]\u001b[0m\u001b[0;34m\u001b[0m\u001b[0;34m\u001b[0m\u001b[0m\n\u001b[1;32m      4\u001b[0m \u001b[0mdf3\u001b[0m \u001b[0;34m=\u001b[0m \u001b[0mpd\u001b[0m\u001b[0;34m.\u001b[0m\u001b[0mDataFrame\u001b[0m\u001b[0;34m(\u001b[0m\u001b[0mdf3\u001b[0m\u001b[0;34m)\u001b[0m\u001b[0;34m.\u001b[0m\u001b[0mT\u001b[0m\u001b[0;34m\u001b[0m\u001b[0;34m\u001b[0m\u001b[0m\n\u001b[1;32m      5\u001b[0m \u001b[0mdf3\u001b[0m\u001b[0;34m\u001b[0m\u001b[0;34m\u001b[0m\u001b[0m\n",
      "\u001b[0;32m~/opt/miniconda3/lib/python3.9/site-packages/pandas/core/indexes/base.py\u001b[0m in \u001b[0;36m__getitem__\u001b[0;34m(self, key)\u001b[0m\n\u001b[1;32m   4295\u001b[0m         \u001b[0;32mif\u001b[0m \u001b[0mis_scalar\u001b[0m\u001b[0;34m(\u001b[0m\u001b[0mkey\u001b[0m\u001b[0;34m)\u001b[0m\u001b[0;34m:\u001b[0m\u001b[0;34m\u001b[0m\u001b[0;34m\u001b[0m\u001b[0m\n\u001b[1;32m   4296\u001b[0m             \u001b[0mkey\u001b[0m \u001b[0;34m=\u001b[0m \u001b[0mcom\u001b[0m\u001b[0;34m.\u001b[0m\u001b[0mcast_scalar_indexer\u001b[0m\u001b[0;34m(\u001b[0m\u001b[0mkey\u001b[0m\u001b[0;34m,\u001b[0m \u001b[0mwarn_float\u001b[0m\u001b[0;34m=\u001b[0m\u001b[0;32mTrue\u001b[0m\u001b[0;34m)\u001b[0m\u001b[0;34m\u001b[0m\u001b[0;34m\u001b[0m\u001b[0m\n\u001b[0;32m-> 4297\u001b[0;31m             \u001b[0;32mreturn\u001b[0m \u001b[0mgetitem\u001b[0m\u001b[0;34m(\u001b[0m\u001b[0mkey\u001b[0m\u001b[0;34m)\u001b[0m\u001b[0;34m\u001b[0m\u001b[0;34m\u001b[0m\u001b[0m\n\u001b[0m\u001b[1;32m   4298\u001b[0m \u001b[0;34m\u001b[0m\u001b[0m\n\u001b[1;32m   4299\u001b[0m         \u001b[0;32mif\u001b[0m \u001b[0misinstance\u001b[0m\u001b[0;34m(\u001b[0m\u001b[0mkey\u001b[0m\u001b[0;34m,\u001b[0m \u001b[0mslice\u001b[0m\u001b[0;34m)\u001b[0m\u001b[0;34m:\u001b[0m\u001b[0;34m\u001b[0m\u001b[0;34m\u001b[0m\u001b[0m\n",
      "\u001b[0;31mIndexError\u001b[0m: index 0 is out of bounds for axis 0 with size 0"
     ]
    }
   ],
   "source": [
    "index_to_find = df3.loc[df3['Unnamed: 1'] == '# Apts'].index\n",
    "df3.columns = df3.iloc[index_to_find[0]]\n",
    "df3 = df3.iloc[index_to_find[0]+1]\n",
    "df3 = pd.DataFrame(df3).T\n",
    "df3"
   ]
  },
  {
   "cell_type": "code",
   "execution_count": null,
   "metadata": {},
   "outputs": [],
   "source": []
  },
  {
   "cell_type": "code",
   "execution_count": null,
   "metadata": {},
   "outputs": [],
   "source": []
  },
  {
   "cell_type": "code",
   "execution_count": null,
   "metadata": {},
   "outputs": [],
   "source": []
  }
 ],
 "metadata": {
  "interpreter": {
   "hash": "31f2aee4e71d21fbe5cf8b01ff0e069b9275f58929596ceb00d14d90e3e16cd6"
  },
  "kernelspec": {
   "display_name": "Python 3.8.2 64-bit",
   "language": "python",
   "name": "python3"
  },
  "language_info": {
   "codemirror_mode": {
    "name": "ipython",
    "version": 3
   },
   "file_extension": ".py",
   "mimetype": "text/x-python",
   "name": "python",
   "nbconvert_exporter": "python",
   "pygments_lexer": "ipython3",
   "version": "3.9.1"
  },
  "orig_nbformat": 4
 },
 "nbformat": 4,
 "nbformat_minor": 2
}
