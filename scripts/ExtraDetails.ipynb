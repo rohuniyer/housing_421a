{
 "cells": [
  {
   "cell_type": "markdown",
   "metadata": {},
   "source": [
    "# Extra Details\n",
    "\n",
    "This notebook contain inforation that I've realized is important to add but only after the fact. This will be incorporated into the scripts as I build this out. "
   ]
  },
  {
   "cell_type": "code",
   "execution_count": 9,
   "metadata": {},
   "outputs": [],
   "source": [
    "import pandas as pd"
   ]
  },
  {
   "cell_type": "markdown",
   "metadata": {},
   "source": [
    "## Highlight Rent Stabilized Issues\n",
    "\n",
    "In this section, create a new field that will identify buildings with issues in their rent stabilization numbers. \n",
    "\n",
    "If there are no rent stabilized units in 2021, then there is a potential issue. Otherwise, if either 2019 or 2020 have 0 units reported, then there could be issues. "
   ]
  },
  {
   "cell_type": "code",
   "execution_count": 10,
   "metadata": {},
   "outputs": [],
   "source": [
    "def stabilized_issue(x):\n",
    "    if x['2021'] == 0:\n",
    "        return('True')\n",
    "    else:\n",
    "        if (x['2020'] == 0) | (x['2019'] == 0):\n",
    "            return('True')\n",
    "        else:\n",
    "            return('False')\n",
    "        "
   ]
  },
  {
   "cell_type": "code",
   "execution_count": 11,
   "metadata": {},
   "outputs": [],
   "source": [
    "# Read in taxClass2_pivotTable_ad36\n",
    "df_pivot_2 = pd.read_csv('../data/created_data/taxClass2_pivotTable_ad36.csv')\n",
    "# Read in taxClass2_pivotTable_ad36\n",
    "df_pivot_2b = pd.read_csv('../data/created_data/taxClass2b_pivotTable_ad36.csv')\n",
    "\n",
    "df_pivot = pd.concat([df_pivot_2, df_pivot_2b])\n",
    "\n",
    "df_geo = pd.read_csv('../data/created_data/all_TaxClass2_w_Abatements.csv')"
   ]
  },
  {
   "cell_type": "code",
   "execution_count": 12,
   "metadata": {},
   "outputs": [
    {
     "name": "stdout",
     "output_type": "stream",
     "text": [
      "df_pivot: (159, 4)\n",
      "df_geo: (159, 27)\n"
     ]
    }
   ],
   "source": [
    "print(\"df_pivot: {}\".format(df_pivot.shape))\n",
    "print(\"df_geo: {}\".format(df_geo.shape))"
   ]
  },
  {
   "cell_type": "code",
   "execution_count": 13,
   "metadata": {},
   "outputs": [
    {
     "data": {
      "text/plain": [
       "Index(['Unnamed: 0', 'bble', 'boro', 'block', 'lot', 'Market Value',\n",
       "       'Assessed Value Total', 'Exempted Value Total', 'Taxable Value',\n",
       "       'Paid Taxes', 'Pre_Exempt Taxes', 'Tax Loss', 'Year', 'taxclass',\n",
       "       'Owner', 'Census Tract', 'NTA', 'Address', 'Construction Year',\n",
       "       'Latitude', 'Longitude', 'Assembly District', 'BOROUGH', 'NEIGHBORHOOD',\n",
       "       'BUILDING CLASS CATEGORY', 'BUILDING CLASS', 'RESIDENTIAL UNITS'],\n",
       "      dtype='object')"
      ]
     },
     "execution_count": 13,
     "metadata": {},
     "output_type": "execute_result"
    }
   ],
   "source": [
    "df_geo.columns"
   ]
  },
  {
   "cell_type": "code",
   "execution_count": 14,
   "metadata": {},
   "outputs": [
    {
     "name": "stdout",
     "output_type": "stream",
     "text": [
      "df_pivot: (159, 4)\n",
      "df_merged: (159, 21)\n"
     ]
    }
   ],
   "source": [
    "df_geo = df_geo[['Construction Year', 'Owner', 'bble', 'Latitude', 'Longitude', 'taxclass', 'Address', 'Owner', 'RESIDENTIAL UNITS', \n",
    "                    'Market Value', 'Assessed Value Total', 'Exempted Value Total', 'Taxable Value', 'Paid Taxes',\n",
    "                    'Pre_Exempt Taxes', 'Tax Loss', 'Year']]\n",
    "df_geo = df_geo.drop_duplicates()\n",
    "\n",
    "df_merged = df_pivot.merge(df_geo, left_on = 'ADDRESS', right_on='Address', how = 'left')\n",
    "\n",
    "print(\"df_pivot: {}\".format(df_pivot.shape))\n",
    "print(\"df_merged: {}\".format(df_merged.shape))"
   ]
  },
  {
   "cell_type": "code",
   "execution_count": 15,
   "metadata": {},
   "outputs": [],
   "source": [
    "df_merged['Rent-Stabilized Issue'] = df_merged.apply(lambda x: stabilized_issue(x), axis = 1)\n",
    "df_merged.rename(columns={'2021': 'Units_2021', '2020': 'Units_2020', '2019': 'Units_2019'}, inplace=True)"
   ]
  },
  {
   "cell_type": "code",
   "execution_count": 16,
   "metadata": {},
   "outputs": [],
   "source": [
    "df_merged.to_csv('../data/created_data/taxClass2_pivotTable_ad36_w_geo.csv')"
   ]
  },
  {
   "cell_type": "code",
   "execution_count": null,
   "metadata": {},
   "outputs": [],
   "source": []
  }
 ],
 "metadata": {
  "interpreter": {
   "hash": "0f3667b3701f30fffe81770bf88c77a756c01e660d475531b2ce81d486f5960c"
  },
  "kernelspec": {
   "display_name": "Python 3.9.1 64-bit ('base': conda)",
   "language": "python",
   "name": "python3"
  },
  "language_info": {
   "codemirror_mode": {
    "name": "ipython",
    "version": 3
   },
   "file_extension": ".py",
   "mimetype": "text/x-python",
   "name": "python",
   "nbconvert_exporter": "python",
   "pygments_lexer": "ipython3",
   "version": "3.9.1"
  },
  "orig_nbformat": 4
 },
 "nbformat": 4,
 "nbformat_minor": 2
}
